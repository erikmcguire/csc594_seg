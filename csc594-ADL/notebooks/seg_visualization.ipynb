{
  "nbformat": 4,
  "nbformat_minor": 0,
  "metadata": {
    "colab": {
      "name": "seg_visualization.ipynb",
      "provenance": [],
      "collapsed_sections": [
        "2z5zYcWdGjGg",
        "JkaNzZi5Nzvx",
        "LV48Tkclwf4l",
        "XT1UXICXw0xV",
        "OagNdmAqwxgl",
        "nsNosKa2G6qb",
        "MUX2gW_EPxj0",
        "o99WZ3K5e14y",
        "Bt4wTL5meHWT"
      ],
      "toc_visible": true,
      "machine_shape": "hm"
    },
    "kernelspec": {
      "name": "python3",
      "display_name": "Python 3"
    },
    "accelerator": "GPU",
    "widgets": {
      "application/vnd.jupyter.widget-state+json": {
        "6c72e4dff0c64f4798f0eb0da96bcabd": {
          "model_module": "@jupyter-widgets/controls",
          "model_name": "VBoxModel",
          "state": {
            "_view_name": "VBoxView",
            "_dom_classes": [
              "widget-interact"
            ],
            "_model_name": "VBoxModel",
            "_view_module": "@jupyter-widgets/controls",
            "_model_module_version": "1.5.0",
            "_view_count": null,
            "_view_module_version": "1.5.0",
            "box_style": "",
            "layout": "IPY_MODEL_aace2ce5236442d09c9ccbb608415ceb",
            "_model_module": "@jupyter-widgets/controls",
            "children": [
              "IPY_MODEL_093f3b6b20494875bd04fe4b4c54cfab",
              "IPY_MODEL_52d4bde224d043ea93620cc1b5197692"
            ]
          }
        },
        "aace2ce5236442d09c9ccbb608415ceb": {
          "model_module": "@jupyter-widgets/base",
          "model_name": "LayoutModel",
          "state": {
            "_view_name": "LayoutView",
            "grid_template_rows": null,
            "right": null,
            "justify_content": null,
            "_view_module": "@jupyter-widgets/base",
            "overflow": null,
            "_model_module_version": "1.2.0",
            "_view_count": null,
            "flex_flow": null,
            "width": null,
            "min_width": null,
            "border": null,
            "align_items": null,
            "bottom": null,
            "_model_module": "@jupyter-widgets/base",
            "top": null,
            "grid_column": null,
            "overflow_y": null,
            "overflow_x": null,
            "grid_auto_flow": null,
            "grid_area": null,
            "grid_template_columns": null,
            "flex": null,
            "_model_name": "LayoutModel",
            "justify_items": null,
            "grid_row": null,
            "max_height": null,
            "align_content": null,
            "visibility": null,
            "align_self": null,
            "height": "450px",
            "min_height": null,
            "padding": null,
            "grid_auto_rows": null,
            "grid_gap": null,
            "max_width": null,
            "order": null,
            "_view_module_version": "1.2.0",
            "grid_template_areas": null,
            "object_position": null,
            "object_fit": null,
            "grid_auto_columns": null,
            "margin": null,
            "display": null,
            "left": null
          }
        },
        "093f3b6b20494875bd04fe4b4c54cfab": {
          "model_module": "@jupyter-widgets/controls",
          "model_name": "FloatSliderModel",
          "state": {
            "_view_name": "FloatSliderView",
            "style": "IPY_MODEL_d421d7b965444518980393b6b587000b",
            "_dom_classes": [],
            "description": "Temperature:",
            "step": 0.1,
            "_model_name": "FloatSliderModel",
            "orientation": "horizontal",
            "max": 10.01,
            "_view_module": "@jupyter-widgets/controls",
            "_model_module_version": "1.5.0",
            "value": 2.5,
            "_view_count": null,
            "disabled": false,
            "_view_module_version": "1.5.0",
            "min": 0.1,
            "continuous_update": false,
            "readout_format": ".2f",
            "description_tooltip": null,
            "readout": true,
            "_model_module": "@jupyter-widgets/controls",
            "layout": "IPY_MODEL_e894971cfcb0493e88d5a54aee85d10d"
          }
        },
        "52d4bde224d043ea93620cc1b5197692": {
          "model_module": "@jupyter-widgets/output",
          "model_name": "OutputModel",
          "state": {
            "_view_name": "OutputView",
            "msg_id": "",
            "_dom_classes": [],
            "_model_name": "OutputModel",
            "outputs": [
              {
                "output_type": "display_data",
                "metadata": {
                  "tags": []
                },
                "image/png": "iVBORw0KGgoAAAANSUhEUgAAAfcAAAFNCAYAAAAdJCY0AAAABHNCSVQICAgIfAhkiAAAAAlwSFlz\nAAALEgAACxIB0t1+/AAAADh0RVh0U29mdHdhcmUAbWF0cGxvdGxpYiB2ZXJzaW9uMy4yLjAsIGh0\ndHA6Ly9tYXRwbG90bGliLm9yZy8GearUAAAgAElEQVR4nO3de7gkVXnv8e9PRoabosLEidwGBfWg\niJctmhyjBhIFRdGIEWIiekyIiSTxaE4OxuMlqEn0iWISMImKSrwAhmiCxgSJgERUZAZRGJU4IhPQ\nOI5cBbkIvuePqg09Pb139770vtR8P8/Tz3TXWlX1VnXPfnutWr0qVYUkSeqO+yx2AJIkaX6Z3CVJ\n6hiTuyRJHWNylySpY0zukiR1jMldkqSOMbmrU5I8P8k1SW5J8rjFjmc6Sa5O8kvt8z9O8r553PYt\nSR7aPv9gkrfM47b/Nsnr52t7kuafyV1LTpKnJPlCkpuSXJ/koiRPHHH1vwCOr6pdgBuSVJIVYwx3\nXlTVn1bVbw6rl+SCJEPrVdUuVXXVXONK8tIkn+/b9iuq6s1z3fZcJbkyycMHLB/pHC0Hg86/NIol\n/0dP25Yk9wc+BfwO8DFge+AXgDtG3MQ+wPrxRLf0JVlRVXctdhzjluRhwHZV9Z+LHctsLcR7ta18\nHrQ1W+5aah4OUFWnV9XdVXVbVX2mqr4GkOQ+Sf5fko1JfpDk75PsmmRlkluA7YCvJvk2cGG7zRvb\nbuqfa1tCFyU5KcmNSa5K8vPt8mvabR47GUySZyf5SpKb2/I39ZS9KMl32i8kJDk8yfeTrBp0YEl+\no437uiSv6yt7U5IPt893SPLhtt6NSS5J8uAkb6X5onNyezwnt/UrySuTfAv4Vs+y/Xp2sXuSc5P8\nKMnnkuzT1lvT37sx2fJN8j+AvwV+rt3fjW35Ft38SX4ryYa2l+XsJA/pKaskr0jyrfZYTkmSAedm\nhyS3Jdm9ff26JHf1nNs3J3lXzyrPBj49YDtTnaNHtsd/fdvi/9WedT6Y5N1J/rVd56Ikq5O8K8kN\nSb6Znks8aS6nvDbJ19vyDyTZoaf8iCSXtcf7hSSP6Vv3/yb5GnBrkhVJTkjy7fa9+XqS57d1pzr/\nW/RMpK91P8XnYcqY1FFV5cPHknkA9weuA04DDgce2Ff+v4ANwEOBXYCPAx/qKS9gv/b5mvb1ip7y\nlwJ3AS+j+SLwFuC/gFOAlcAzgB8Bu7T1nw4cSPNF+DHAJuB5Pdv7CPBBYDfge8ARUxzXAcAtwFPb\n/byzjeOX2vI3AR9un/828ElgpzbGJwD3b8suAH6zb9sFnAs8CNhxwHn4YHtMk/v+S+Dz05yje/bR\nnq/P9+3vg8Bb2ueHAD8EHt9u+6+BC/ti+xTwAGBvYDNw2BTn6ELgBe3zzwDfBg7vKXt+T91/A545\nxXa2OEfAzsA17Xu+AnhcG/MBPcfzw/Y87wCcB3wHeEnPZ+T8nu1dDVwB7NWe84t6zsfjgB8AT2rX\nPbatv7Jn3cvadSffqxcCD6H5jL0IuBX42WnOf//xbVGn//MwLCYf3XzYcteSUlU3A0+h+QP1XmBz\n2xp8cFvlxcA7q+qqqroFeC1wdGZ2Xf07VfWBqrobOJPmD+2JVXVHVX0GuBPYr43ngqq6vKp+Wk3v\nwenA03q29UqaBHcB8Mmq+tQU+zwK+FRVXVhVdwCvB346Rd2f0HxZ2K+a3ot17XmZzp9V1fVVddsU\n5f/Ss+/X0bQG9xqyzVG8GHh/VV3abvu17bbX9NT586q6sar+CzgfeOwU2/oc8LT2vXwM8Fft6x2A\nJ9L2xCTZqX19wYgxHgFc3b7nd1XVV4B/pEmqkz7RnufbgU8At1fV3/d8RvoHZ55cVddU1fXAW4Fj\n2uXHAX9XVRe3791pNJeUntyz7l+1694GUFX/UFXfaz9jZ9K0tg8e8dim0vt5GCUmdYzJXUtOVX2j\nql5aVXsCj6Zp1Ux2yT4E2NhTfSNNa+zBjG5Tz/PJP7D9y3YBSPKkJOcn2ZzkJuAVwO49sd4I/EMb\n5zum2edDaFqPk+vdStNDMciHgHOAM5J8L8nbk9x3yDFdM2p5+6Xo+jamudri/Wi3fR2wR0+d7/c8\n/zHtuR3gczQ9JY8HLqdpfT6NJgltqKrJ83Uo8IX2y8Qo9gGe1HZJ39h2b78YWN1Tp//9H/h56NF7\nvjdy77ncB3hN3772YstzvcV7leQlPV3mN9J8lnZnbnr3MUpM6hiTu5a0qvomTbfpo9tF36P5YzVp\nb5ru7U1sbT5uefhR4Gxgr6raleYa6D3XjJM8luZSwek0Lc2p/DfNH9TJ9XaiaZ1vpap+UlV/UlUH\nAD9P0/J8yWTxFNsfdqy9+96Fpsv2ezRdwNBcApjUm/SGbXeL9yPJzjTH9d0h6w3yBeARwPOBz1XV\n12ne32fRJP5Jz2LA9fZpYr6m3d4Deh67VNXvzCLGSb29HnvTnIfJfb21b187VdXpg+Jrxz68Fzge\n2K2qHkDT5Z/+uj1uZer3a6t9jBiTOsbkriWlHfj0miR7tq/3ouny/FJb5XTgfyfZt01SfwqcWYNH\nBG+m6fp+6BxCuh9wfVXdnuRg4Nd6Yt0B+DDwxzTXc/dI8rtTbOcs4Ig0P/PbHjiRKf7/JfnFJAcm\n2Q64maabfrILf9Msj+dZPft+M/Cltmt4M00i/vUk2yX5X8DDetbbBOzZrjfI6cDLkjw2yUqa9+Pi\nqrp6pgFW1Y+BdTSXOiaT+Rdoekt6k/vhwL9Ms6n+c/Qp4OFpBjTet308sR2wNluvTLJnkgfRXOY4\ns13+XuAVbY9PkuycZlDm/abYzs40iXgzQJKXce8X2clj6T//lwG/kmSnNIMmXz4k1pnGpA4wuWup\n+RHNwJ+Lk9xKk9SvAF7Tlr+fptv6QppBT7cDvzdoQ22yeCtwUdsdOZtrjL8LnJjkR8AbaH6eN+nP\ngGuq6m/aLuJfB96SZP8BsaynSVofpWnF3wBcO8U+V9N8GbgZ+AZNYvtQW/aXwFHtKO3pegr6fRR4\nI013/BPaWCf9FvB/aLrTH0WTUCedR/PTwu8n+eGA4/p3mvED/9ge18OAo2cQV7/PAfcFvtzz+n7c\ne7390cAt7fX7qWxxjqrqRzQDJY+maWF/H3gbzQDA2foozaC/q2gG/r0FoKrW0pzPk2ne4w00A94G\nansn3gF8kSaRH0gzQG/SoPN/Es24kE00A08/Ml2gM41J3ZCq+ei5lKTxS/JHwO5V9UeLGMPVNKPV\n/32xYpCGcRIbScvJ1TQ/E5Q0DZO7pGWjqj42vJYku+UlSeoYB9RJktQxJndJkjqmM9fcd99991qz\nZs1ihyFJ0oJZt27dD6tqq5tVdSa5r1mzhrVr1y52GJIkLZgkGwctH2u3fJLD0txecUOSEwaUPzXJ\npWlu7XhUX9mxaW4T+a303IJTkiRNb2zJvZ068xSaqSIPAI5JckBftf+imSnpo33rPohmNq0n0dwd\n6Y1JHjiuWCVJ6pJxttwPprmT01VVdSdwBnBkb4Wqurq9jWb/rS+fCZzb3rLwBpq7Qx02xlglSeqM\ncSb3PdjytoPXsuVtIOe8bpLjkqxNsnbz5s2zDlSSpC5Z1j+Fq6r3VNVEVU2sWrXVYEFJkrZJ40zu\n32XLex7vyej3eJ7LupIkbdPGmdwvAfZv77u9Pc3tFs8ecd1zgGckeWA7kO4Z7TJJkjTE2JJ7Vd0F\nHE+TlL8BfKyq1ic5MclzAZI8Mcm1wAuBv0uyvl33euDNNF8QLgFObJdJkqQhOnPjmImJiXISG0nS\ntiTJuqqa6F++rAfUSZKkrZncJUnqGJO7JGlkq9dAsvVj9ZrFjky9OnPjGEnS+G3aCAwYqrUpCx6K\npmHLXZKkjjG5S5LUMSZ3SZI6xuQuSVLHmNwlSeoYk7skSR1jcpckqWNM7pIkdYzJXZKkjjG5S5LU\nMSZ3SZI6xuQuSVLHmNwlSeoYk7skSR1jcpckqWNM7pIkdYzJXZKkjjG5S5LUMSZ3SZI6xuQuSVLH\nmNwlSeoYk7skSR1jcpckqWNM7pIkdYzJXZKkjjG5S9IIVq+BZPBj9ZrFjk7a0orFDkCSloNNG4Ga\noiwLGoo0lC13SZI6xuQuSVLHmNwlSeoYk7skSR1jcpckqWNM7pIkdYzJXZKkjjG5S5LUMSZ3SZI6\nxuQuSVLHmNwlSeoYk7skSR1jcpckqWPGmtyTHJbkyiQbkpwwoHxlkjPb8ouTrGmX3zfJaUkuT/KN\nJK8dZ5ySJHXJ2JJ7ku2AU4DDgQOAY5Ic0Fft5cANVbUfcBLwtnb5C4GVVXUg8ATgtycTvyRJmt44\nW+4HAxuq6qqquhM4Aziyr86RwGnt87OAQ5OE5q7JOydZAewI3AncPMZYJUnqjHEm9z2Aa3peX9su\nG1inqu4CbgJ2o0n0twL/DfwX8BdVdf0YY5UkqTOW6oC6g4G7gYcA+wKvSfLQ/kpJjkuyNsnazZs3\nL3SMkiQtSeNM7t8F9up5vWe7bGCdtgt+V+A64NeAf6uqn1TVD4CLgIn+HVTVe6pqoqomVq1aNYZD\nkCRp+Rlncr8E2D/Jvkm2B44Gzu6rczZwbPv8KOC8qiqarvhDAJLsDDwZ+OYYY5UkqTPGltzba+jH\nA+cA3wA+VlXrk5yY5LlttVOB3ZJsAF4NTP5c7hRglyTrab4kfKCqvjauWCVJ6pI0DeXlb2Jiotau\nXbvYYUjqqHt+xzOwEDryp3SoKc/DNnQOlpIk66pqq8vWS3VAnSRJmiWTuyRJHWNylySpY0zukiR1\njMldkqSOMblLktQxJndJkjrG5C5JUseY3CVJ6hiTuyRJHWNylySpY0zukiR1jMldkqSOMblLktQx\nJndJkjrG5C5JUseY3CVJ6hiTuyRJHWNylySpY0zukiR1jMldkqSOMblLktQxJndJkjrG5C5JUseY\n3CVJ6hiTuyRJHWNylySpY0zukiR1jMldkqSOMblLktQxJndJkjrG5C5JUseY3CVJ6hiTuyRJHWNy\nlySpY0zukrSNWL0GksGP1WsWOzrNpxWLHYAkaWFs2gjUFGVZ0FA0ZrbcJUnqGJO7JEkdY3KXJKlj\nTO6SJHWMyV2SpI4xuUuS1DEmd0mSOmasyT3JYUmuTLIhyQkDylcmObMtvzjJmp6yxyT5YpL1SS5P\nssM4Y5UkqSvGltyTbAecAhwOHAAck+SAvmovB26oqv2Ak4C3teuuAD4MvKKqHgU8HfjJuGKVJC0N\nzqI3P8bZcj8Y2FBVV1XVncAZwJF9dY4ETmufnwUcmiTAM4CvVdVXAarquqq6e4yxSpKWgHtm0Rvw\n2LRxMSNbXkZK7kmek2SmXwT2AK7peX1tu2xgnaq6C7gJ2A14OFBJzklyaZI/muG+JUnaZo2asF8E\nfCvJ25M8cpwBtVYATwFe3P77/CSH9ldKclyStUnWbt68eQHCkiRp6RspuVfVrwOPA74NfLAd6HZc\nkvtNs9p3gb16Xu/ZLhtYp73OvitwHU0r/8Kq+mFV/Rj4NPD4AXG9p6omqmpi1apVoxyKJEmdN3JX\ne1XdTHNd/AzgZ4HnA5cm+b0pVrkE2D/Jvkm2B44Gzu6rczZwbPv8KOC8qirgHODAJDu1Sf9pwNdH\njVWSpG3ZSLd8TXIk8FJgP+DvgYOr6gdJdqJJun/dv05V3ZXkeJpEvR3w/qpan+REYG1VnQ2cCnwo\nyQbgepovAFTVDUneSfMFoYBPV9W/zO1QJUnaNqRpKA+plJwGnFpVFw4oO7SqPjuO4GZiYmKi1q5d\nu9hhSOqohCnvhU5ghD+li24+jmHKbczTOejCeV5ISdZV1UT/8lG75b/fn9iTvA1gKSR2SZJ0r1GT\n+y8PWHb4fAYiSZLmx7TX3JP8DvC7wMOSfK2n6H7AReMMTJIkzc6wAXUfBf4V+DOgd274H1XV9WOL\nSpIkzdqw5F5VdXWSV/YXJHmQCV6SpKVnlJb7EcA6mvGL6Skr4KFjikuStAytXjN4DvgH7wPfv3qh\no9l2TZvcq+qI9t99FyYcSdJyds+NX/qXZ+tlGp9hA+q2mvK1V1VdOr/hSJKkuRrWLf+OacoKOGQe\nY5EkSfNgWLf8Ly5UIJIkaX4M65Y/pKrOS/Irg8qr6uPjCUuSJM3WsG75pwHnAc8ZUFaAyV2SpCVm\nWLf8G9t/X7Yw4UiSpLkaaW75JLsl+asklyZZl+Qvk+w27uAkaTlZvaa5q1n/Y/WaxY5M25pRbxxz\nBrAZeAFwVPv8zHEFJUnL0T2/8e57DJrURRqnYdfcJ/1sVb255/VbkrxoHAFJkqS5GbXl/pkkRye5\nT/v4VeCccQYmSZJmZ9hP4X7EvXPKvwr4cFt0H+AW4A/HGp0kSZqxYaPl77dQgUiSpPkx6jV3kjwQ\n2B/YYXJZVV04jqAkSdLsjZTck/wm8AfAnsBlwJOBL+Lc8pIkLTmjDqj7A+CJwMZ2vvnHATeOLSpJ\nkjRroyb326vqdoAkK6vqm8AjxheWJEmarVGvuV+b5AHAPwHnJrkBcFoGSZKWoJGSe1U9v336piTn\nA7sC/za2qCRJ0qzNZLT844Gn0Pzu/aKqunNsUUmSpFkb9cYxbwBOA3YDdgc+kOT/jTMwSZI0O6O2\n3F8MHNQzqO7PaX4S95ZxBSZJkmZn1NHy36Nn8hpgJfDd+Q9HkiTN1bC55f+a5hr7TcD6JOe2r38Z\n+PL4w5MkSTM1rFt+bfvvOuATPcsvGEs0kiRpzobdOOa0yedJtgce3r68sqp+Ms7AJEnS7Iw6t/zT\naUbLX01z+9e9khzrjWMkSVp6Rh0t/w7gGVV1JUCShwOnA08YV2CSJGl2Rh0tf9/JxA5QVf8J3Hc8\nIUmSumr1Gki2fqxes9iRdcuoLfd1Sd4HfLh9/WLuHWwnSdJINm2k+c1V//IseCidNmpyfwXwSuD3\n29f/Abx7LBFJkqQ5GZrck2wHfLWqHgm8c/whSZI0O6vXtL0DAzx4H/j+1QsZzeIZes29qu4Grkyy\n9wLEI0nSrN3T7T/gMVXS76JRu+UfSDND3ZeBWycXVtVzxxKVJEmatVGT++vHGoUkSR0x1aWBhbws\nMGxu+R1oBtPtB1wOnFpVdy1EYJIkLUdL4RcBw665nwZM0CT2w2kms5EkSUvYsG75A6rqQIAkp+Kd\n4CRp1pZCd622DcNa7vfcHGY23fFJDktyZZINSU4YUL4yyZlt+cVJ1vSV753kliR/ONN9S9JSM9VI\n7qUyinuq2eOcQW75GdZyPyjJze3zADu2rwNUVd1/qhXb38efQnPv92uBS5KcXVVf76n2cuCGqtov\nydHA24AX9ZS/E/jXGR2RJGlWprpWDM4gt9xM23Kvqu2q6v7t435VtaLn+ZSJvXUwsKGqrqqqO4Ez\ngCP76hxJc10f4Czg0CQBSPI84DvA+pkelCQtR867rvky6o1jZmMP4Jqe19e2ywbWabv9bwJ2S7IL\n8H+BPxljfJK0pCz1bnstH+NM7nPxJuCkqrplukpJjkuyNsnazZs3L0xkkiQtceNM7t8F9up5vWe7\nbGCdJCuAXYHrgCcBb09yNfAq4I+THN+/g6p6T1VNVNXEqlWr5v8IJElLioP+RjPqDHWzcQmwf5J9\naZL40cCv9dU5GzgW+CJwFHBeVRXwC5MVkrwJuKWqTh5jrJKkZcBBf6MZW3Kvqrva1vY5wHbA+6tq\nfZITgbVVdTZwKvChJBuA62m+AEiSpDlI01Be/iYmJmrt2rWLHYakjkqYssVIoGqaOvNUPlfDjgGm\nL1+IY5xrjKMcwzBznWxo3O/jlvvKuqqa6F++VAfUSZL6+FO5hdGFXy2M85q7JGkeLYUbkmh5sOUu\nSVLHmNwlSeoYk7skSR1jcpckqWNM7pIkdYzJXZKkjjG5S5LUMSZ3SZI6xuQuSVLHmNwlSeoYk7sk\nSR1jcpckqWNM7pIkdYzJXZKkjjG5S5LUMSZ3SZI6xuQuSVLHmNwlSeoYk7skSR1jcpckqWNM7pIk\ndYzJXZKkjjG5S5LUMSZ3SZI6xuQuSVLHmNwlSeoYk7skSR1jcpckqWNM7pIkdYzJXZKkjjG5S5LU\nMSZ3SdI2Y/UaSAY/Vq9Z7Ojmz4rFDkCSpIWyaSNQU5RlQUMZK1vukiR1jMldkqSOMblLktQxJndJ\nkjrG5C5JUseY3CVJ6hiTuyRJHWNylySpY0zukiR1jMldkqSOGWtyT3JYkiuTbEhywoDylUnObMsv\nTrKmXf7LSdYlubz995BxxilJUpeMLbkn2Q44BTgcOAA4JskBfdVeDtxQVfsBJwFva5f/EHhOVR0I\nHAt8aFxxSpLUNeNsuR8MbKiqq6rqTuAM4Mi+OkcCp7XPzwIOTZKq+kpVfa9dvh7YMcnKMcYqSVJn\njDO57wFc0/P62nbZwDpVdRdwE7BbX50XAJdW1R1jilOSpE5Z0rd8TfIomq76Z0xRfhxwHMDee++9\ngJFJkrR0jbPl/l1gr57Xe7bLBtZJsgLYFbiufb0n8AngJVX17UE7qKr3VNVEVU2sWrVqnsOXpOVl\n9RpIBj9Wr1ns6LSQxpncLwH2T7Jvku2Bo4Gz++qcTTNgDuAo4LyqqiQPAP4FOKGqLhpjjJLUGZs2\nAjX4sWnjYkamhTa25N5eQz8eOAf4BvCxqlqf5MQkz22rnQrslmQD8Gpg8udyxwP7AW9Icln7+Jlx\nxSpJUpekqhY7hnkxMTFRa9euXewwJHVUQtMKHlgIVdPUWezytg7MrbwLxzCsfJQYh5nr+jORZF1V\nTfQvd4Y6SZI6xuQuSVLHmNwlSeoYk7skSR1jcpckqWNM7pIkdYzJXZKkjjG5S5LUMSZ3SZI6xuQu\nSVLHmNy1pHmXK0mauSV9P3fpnrtcDSrL4OWStK2z5S5JUseY3LXsTdV1b7e9pG2V3fJa9qbqurfb\nXtK2ypa7JEkdY3KXJKljTO6SJHWMyV2SpI4xuUuS1DEmd0mSOsbkLg3hFLiSlht/5y4N4RS4kpYb\nW+6SJHWMyV0as/no1neKXUkzYbe8NGbz0a3vFLuSZsKWu7Z5tooldY3JXdu8e1rFfY9NG0db39H0\nkpYau+WlOXI0vaSlxpa7FpWt3oXhpQdp22LLXYvKVu/CcECetG2x5S4tMnsvJM03k/sc2NWp+TDV\ngL6ZDOqTpF4m9zlwlLUkaSkyuS8iW2yaL3PtRfKLptQtJnepA+baizTsi6bJX1peTO7qPMdGzJ29\nTNK9lsPfFJN7xy2HD+G4zbVVq+Fs2Wtbshz+ppjcl7FR/qAuhw+hlj9b9tLSYnKfxlJv9foHVZI0\niMl9Govd6rWrU5I0G04/u4Q5NaskaTZsuW/jxn3pwd4HLRXDPot+VtUltty3ceO+oYi9D1oqRvos\n+llVR4y15Z7ksCRXJtmQ5IQB5SuTnNmWX5xkTU/Za9vlVyZ55jjjHJelPiBvFF04Bi0+W8XSwhpb\nck+yHXAKcDhwAHBMkgP6qr0cuKGq9gNOAt7WrnsAcDTwKOAw4N3t9paVxR6QNx+GHYPJX6MY5Zcd\nwz5Lftak0Y2z5X4wsKGqrqqqO4EzgCP76hwJnNY+Pws4NEna5WdU1R1V9R1gQ7s9LTFd+AKjpWHY\nZ8kvmtLoxpnc9wCu6Xl9bbtsYJ2qugu4CdhtxHUl6R5+0ZTutawH1CU5DjiufXlLkivnfydT7Xu8\n5QP2vzvww1Hjm48YFuEYZ1zehWMYVj6GY9jiszSgfF/gO9PEOMpnces63XsfDwQun2YfjwS+OYfy\nLXc95H2axfs4uM405QP2cRDw1WnKh33Whp3DLcoHxLjF/qc4hq1tWT7sfRh2DoYd4+Dy+bPPoIXj\nTO7fBfbqeb1nu2xQnWuTrAB2Ba4bcV2q6j3Ae+Yx5iUrydqqmljsOLT8DfssJbl1SPnQz+K28HlN\nUkPO091zKR9h/8Pep2nL52MbI5yDYZ+1YevPqXwUI7xPc/r/sFj/F8bZLX8JsH+SfZNsTzNA7uy+\nOmcDx7bPjwLOq6pqlx/djqbfF9gf+PIYY5UkqTPG1nKvqruSHA+cA2wHvL+q1ic5EVhbVWcDpwIf\nSrIBuJ7mCwBtvY8BXwfuAl5ZVXePK1ZJkrpkrNfcq+rTwKf7lr2h5/ntwAunWPetwFvHGd8ys01c\nftCCGPZZ+vgc1x+1znK39fXsLV0yx/Jhhr1Pw8rnYxtbj73Y0rDPwbBzOKx82P5HMex9mOv/h0X5\nv5CmF1ySJHWFc8tLktQxJvclKsmqJJ9PckWS5/Us/+ckD1nM2LQ8JXlEkst6HjcneVVfnX9Kcnv7\n2Jhk177yP2g/k+v7191WJPlCkkry+gFlleSnPY8/H1Dn6UlubeveneSOJC+bwf4ryW09j38doc5T\nesoeleTqJD9p4/hRb5xJqm9b70vytUH7GCHWW6Y6hp7nn23jPW6qOgOO7ac9rx/QLhu5GzrJs9rP\neLWPHyR5wID93NbWuybJbn3le7Z/j7+V5KokJydZ2VN+d/v/7Iokn+zf/riZ3JeuY4C/pZmZ71UA\nSZ4DfKWqvreYgWl5qqorq+qxVfVY4AnAj4FPTJYneQLwbOBnq2oHmr8P7+gpfzTwWzSfyYOAI5Ls\nt4CHsFRMzpb5mkGFVXWfqroPzeybf9hb1s7A+VngiqpKVW0HvI7m99wjq6odex6Hj1Dn8z37/xJw\nUVXdt6p2Bp4JPGwm+58vST4JHAK8uv1p8wxWzSPb5+fPcJ8BPgl8uaoC7ABsD3yjv2577nagGdj9\n/r5tfBz4p6ran+YXXTsCb+9Z/bb2/9ujaQaMv3Imcc6VyX3p+gmwE7ASuDvNPACvYssPjzRbhwLf\nrqr++dsCPLBtgWxPM/XzpP8BXFxVP25nlPwc8CsLEu0SkeRRNL/+eS3NvBzT2Z0mKfQ6BaiqetLk\ngqr6i6p69bwGOrXXAHdX1Yt79v+Fqho4sHmc2l9EHQG8oapOmuHqdwKfap8fBNw6g3X/huY9eCrN\nkzuAJwGrk+w5xTpfYMsvQIcAt1fVB9pt3A38b+AlSXYZsP4XWeBZVk3uS9dHaebYPxf4U+B3gQ9V\n1Y8XNSp1xdHA6b0Lqmod8M/At4HbgB9XVW+38hXALyTZLclOwLPYcrIpAJJ8usOXjs4A7pw8L0lO\n6a8w2SVPk7je3Ff88zQTddNsYtoAAAYVSURBVM1JX5f7u4bU6e3pezJw1Uy2D7x0rvFO4YXAX1RV\n/zkaxenAQ9ueowBfmcG6T6bvPaiqK2kmLP7V/srtF91DgN5LE48C1vVt42bgamCL3qw0Nz07lK3n\neRkrk/sSVVU3VdWz25mNLgWeA5yV5L1Jzkryc4scopapNJNKPRf4h77la4BfpGmh7wzskOTdk+VV\n9Q2aOzd+Bvg34DJgq/knqupZHb50dABNtzo0s2Ye21+hp1v+z4E3t12486qvy33g2Iee8im/aCW5\nvE3it06x7o7AB+c3+nv8lFl2VVfVS2mS+n/QtOLHov1ycyPwA5pLUjOxY5LLgO8DD6ZpqC0Yk/vy\n8Hqa3/wfA3ye5g/KmxYzIC1rhwOXVtWmvuW/B2yuqm9W1W00LY2n9laoqlOr6gltl+YNwH8uSMRL\nQJKn0fzNPLwdvLUHsPNUybuqXkuTgP5nz+Iv0dwca7F8CXjo5IuqOpCmW3vllGuMzyNoEuBsf6t+\nG7Aa+PAM17uYvvcgySNo3quP9S7v+ZJzUFX1fgH6Os24ld5t3L+NZ/IeJ7e141v2abftNXfdK8n+\nwJ5VdQHNNfif0nQf7biYcWlZO4a+LvnWemCftts9NF2JWwwySvIz7b9701xv/+iYY11KPkDTJZ/J\nR7v8zEGVk0y29HonSfmdpihf6qn36iTvHEvEW3sHsCJJ7/v2oAXa9xaqagPwdGC3JN+axSZOAG6q\nqpfPcL1X0LwH58E93e4XA5uq6toRt/FZYKckL2m3sR3NuT25/WJ8j/ZS6u8Dr2nHTi2MqvKxhB80\n3yT3b5//DM3AjvXACxY7Nh/L70HT3X4dsOsU5RcAdwC301ybvV9f+X/QtFq+Chw6xTY+DTxksY91\nDOfup8C5fcuupRlYNfm62nqTj48M2M4zaH6pMFn3DuDYGcRRNK3WyccXB9WZZv2DgI00g3ZvoemB\neddU6wLvA742k3205SuA66Y6hp7nL22P6T8GHGfv47+n2m/7uZw2nr76R7Sf8cltbwZ2m+Hx7UXT\nu/Utmq77v+srv6Xv9SeB31ioz6sz1EmS5l2Sg4D3VtXBQysvc0l+nqY37PlVdelixwNOPytJmmdJ\nXkHTFf2qqvrMYsezLTK5S5LUMQ6okySpY0zukiR1jMldkqSOMblLHZTk/CTP7Fv2qiR/Mw/bfmmS\nk2e4zgeTHDXXfUsajcld6qbTaeaP77XVfPJL1YJO9iF1kMld6qazgGe388hPzhv/EGCPdj7xK5K8\nbbJyksOSXJrkq0k+2y47OMkXk3wlzT3MH9Gz/b2SXNDey/qNk/tIckXPNv8wyZv6A0vyhiSXtDG8\nZ3L61nZ770qyFnhdku8kuW9bdv/e15KmZ3KXOqiqrge+TDOPPDSt9n+nufHLIcBjgScmeV6SVcB7\naWY9PIjmbl0A3wR+oaoeB7yB5u6Ekw4GXgA8BnhhkokZhHdyVT2xmvtc70gzW9ik7atqoqr+hGa2\nvGf3xP/xqvrJDPYjbbNM7lJ39XbNH00z5egFVbW5mvuxf4TmxjBPBi6squ/APV8MoLlf+T+0rfGT\naG5zOencqrqumnm0Pw48ZQZx/WKSi5NcTvNFo3e7vfO0vw94Wfv8ZTRzu0sagcld6q5/Bg5N8nia\nmw5dNsP13wyc37awnwPs0FPWP/tVAXex5d+UHfrqkGQH4N3AUdXckey9ffXuufNWVV0ErEnydGC7\nqroCSSMxuUsdVVW3AOcD76dpxX8ZeFqS3du7WB0DfI7mNqBPTbIvQJLJu4TtSnPPcmhu7tHrl5M8\nKMmOwPOAi4BNwM+0d5VbyZbd7ZMmE/kPk+wCDBtB//c0d56z1S7NgMld6rbTae4CdnpV/TfNbTLP\np7mr27qq+ueq2gwcB3w8yVe5t2v87cCfJfkKzR2+en0Z+Efga8A/VtXa9nr4iW3ZuTTX7LdQVTfS\ntNavAM5hy9uhDvIR4IEsk1H+0lLh3PKSlqz2t/FHVtVvLHYs0nLib0klLUlJ/ppmtP+zFjsWabmx\n5S5JUsd4zV2SpI4xuUuS1DEmd0mSOsbkLklSx5jcJUnqGJO7JEkd8/8BZ9qgRt9vUtIAAAAASUVO\nRK5CYII=\n",
                "text/plain": "<Figure size 576x360 with 1 Axes>"
              }
            ],
            "_view_module": "@jupyter-widgets/output",
            "_model_module_version": "1.0.0",
            "_view_count": null,
            "_view_module_version": "1.0.0",
            "layout": "IPY_MODEL_12401243598f496cb5a6a4a97ebceaf8",
            "_model_module": "@jupyter-widgets/output"
          }
        },
        "d421d7b965444518980393b6b587000b": {
          "model_module": "@jupyter-widgets/controls",
          "model_name": "SliderStyleModel",
          "state": {
            "_view_name": "StyleView",
            "handle_color": null,
            "_model_name": "SliderStyleModel",
            "description_width": "",
            "_view_module": "@jupyter-widgets/base",
            "_model_module_version": "1.5.0",
            "_view_count": null,
            "_view_module_version": "1.2.0",
            "_model_module": "@jupyter-widgets/controls"
          }
        },
        "e894971cfcb0493e88d5a54aee85d10d": {
          "model_module": "@jupyter-widgets/base",
          "model_name": "LayoutModel",
          "state": {
            "_view_name": "LayoutView",
            "grid_template_rows": null,
            "right": null,
            "justify_content": null,
            "_view_module": "@jupyter-widgets/base",
            "overflow": null,
            "_model_module_version": "1.2.0",
            "_view_count": null,
            "flex_flow": null,
            "width": null,
            "min_width": null,
            "border": null,
            "align_items": null,
            "bottom": null,
            "_model_module": "@jupyter-widgets/base",
            "top": null,
            "grid_column": null,
            "overflow_y": null,
            "overflow_x": null,
            "grid_auto_flow": null,
            "grid_area": null,
            "grid_template_columns": null,
            "flex": null,
            "_model_name": "LayoutModel",
            "justify_items": null,
            "grid_row": null,
            "max_height": null,
            "align_content": null,
            "visibility": null,
            "align_self": null,
            "height": null,
            "min_height": null,
            "padding": null,
            "grid_auto_rows": null,
            "grid_gap": null,
            "max_width": null,
            "order": null,
            "_view_module_version": "1.2.0",
            "grid_template_areas": null,
            "object_position": null,
            "object_fit": null,
            "grid_auto_columns": null,
            "margin": null,
            "display": null,
            "left": null
          }
        },
        "59c4edcc1e3f488298f3f2da6e26e4c3": {
          "model_module": "@jupyter-widgets/controls",
          "model_name": "VBoxModel",
          "state": {
            "_view_name": "VBoxView",
            "_dom_classes": [
              "widget-interact"
            ],
            "_model_name": "VBoxModel",
            "_view_module": "@jupyter-widgets/controls",
            "_model_module_version": "1.5.0",
            "_view_count": null,
            "_view_module_version": "1.5.0",
            "box_style": "",
            "layout": "IPY_MODEL_e63e9f29fa7e4248867497c63148c249",
            "_model_module": "@jupyter-widgets/controls",
            "children": [
              "IPY_MODEL_e7a9387f30a1468285a357c380dd0ee2",
              "IPY_MODEL_ee966366d51b4247b365eb7accdad927"
            ]
          }
        },
        "e63e9f29fa7e4248867497c63148c249": {
          "model_module": "@jupyter-widgets/base",
          "model_name": "LayoutModel",
          "state": {
            "_view_name": "LayoutView",
            "grid_template_rows": null,
            "right": null,
            "justify_content": null,
            "_view_module": "@jupyter-widgets/base",
            "overflow": null,
            "_model_module_version": "1.2.0",
            "_view_count": null,
            "flex_flow": null,
            "width": null,
            "min_width": null,
            "border": null,
            "align_items": null,
            "bottom": null,
            "_model_module": "@jupyter-widgets/base",
            "top": null,
            "grid_column": null,
            "overflow_y": null,
            "overflow_x": null,
            "grid_auto_flow": null,
            "grid_area": null,
            "grid_template_columns": null,
            "flex": null,
            "_model_name": "LayoutModel",
            "justify_items": null,
            "grid_row": null,
            "max_height": null,
            "align_content": null,
            "visibility": null,
            "align_self": null,
            "height": "450px",
            "min_height": null,
            "padding": null,
            "grid_auto_rows": null,
            "grid_gap": null,
            "max_width": null,
            "order": null,
            "_view_module_version": "1.2.0",
            "grid_template_areas": null,
            "object_position": null,
            "object_fit": null,
            "grid_auto_columns": null,
            "margin": null,
            "display": null,
            "left": null
          }
        },
        "e7a9387f30a1468285a357c380dd0ee2": {
          "model_module": "@jupyter-widgets/controls",
          "model_name": "FloatSliderModel",
          "state": {
            "_view_name": "FloatSliderView",
            "style": "IPY_MODEL_1c4f49b4f939415c92a41c4fab29a5e4",
            "_dom_classes": [],
            "description": "Temperature:",
            "step": 0.1,
            "_model_name": "FloatSliderModel",
            "orientation": "horizontal",
            "max": 10.01,
            "_view_module": "@jupyter-widgets/controls",
            "_model_module_version": "1.5.0",
            "value": 4.1,
            "_view_count": null,
            "disabled": false,
            "_view_module_version": "1.5.0",
            "min": 0.1,
            "continuous_update": false,
            "readout_format": ".2f",
            "description_tooltip": null,
            "readout": true,
            "_model_module": "@jupyter-widgets/controls",
            "layout": "IPY_MODEL_7001e7f8cd8b486a9037dff8bb37ac80"
          }
        },
        "ee966366d51b4247b365eb7accdad927": {
          "model_module": "@jupyter-widgets/output",
          "model_name": "OutputModel",
          "state": {
            "_view_name": "OutputView",
            "msg_id": "",
            "_dom_classes": [],
            "_model_name": "OutputModel",
            "outputs": [
              {
                "output_type": "display_data",
                "metadata": {
                  "tags": []
                },
                "image/png": "iVBORw0KGgoAAAANSUhEUgAAAfgAAAFNCAYAAADsL325AAAABHNCSVQICAgIfAhkiAAAAAlwSFlz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\nmtYbufbaUi0AAAAASUVORK5CYII=\n",
                "text/plain": "<Figure size 576x360 with 1 Axes>"
              }
            ],
            "_view_module": "@jupyter-widgets/output",
            "_model_module_version": "1.0.0",
            "_view_count": null,
            "_view_module_version": "1.0.0",
            "layout": "IPY_MODEL_2195de619ea0415bae4d92410dab4095",
            "_model_module": "@jupyter-widgets/output"
          }
        },
        "1c4f49b4f939415c92a41c4fab29a5e4": {
          "model_module": "@jupyter-widgets/controls",
          "model_name": "SliderStyleModel",
          "state": {
            "_view_name": "StyleView",
            "handle_color": null,
            "_model_name": "SliderStyleModel",
            "description_width": "",
            "_view_module": "@jupyter-widgets/base",
            "_model_module_version": "1.5.0",
            "_view_count": null,
            "_view_module_version": "1.2.0",
            "_model_module": "@jupyter-widgets/controls"
          }
        },
        "7001e7f8cd8b486a9037dff8bb37ac80": {
          "model_module": "@jupyter-widgets/base",
          "model_name": "LayoutModel",
          "state": {
            "_view_name": "LayoutView",
            "grid_template_rows": null,
            "right": null,
            "justify_content": null,
            "_view_module": "@jupyter-widgets/base",
            "overflow": null,
            "_model_module_version": "1.2.0",
            "_view_count": null,
            "flex_flow": null,
            "width": null,
            "min_width": null,
            "border": null,
            "align_items": null,
            "bottom": null,
            "_model_module": "@jupyter-widgets/base",
            "top": null,
            "grid_column": null,
            "overflow_y": null,
            "overflow_x": null,
            "grid_auto_flow": null,
            "grid_area": null,
            "grid_template_columns": null,
            "flex": null,
            "_model_name": "LayoutModel",
            "justify_items": null,
            "grid_row": null,
            "max_height": null,
            "align_content": null,
            "visibility": null,
            "align_self": null,
            "height": null,
            "min_height": null,
            "padding": null,
            "grid_auto_rows": null,
            "grid_gap": null,
            "max_width": null,
            "order": null,
            "_view_module_version": "1.2.0",
            "grid_template_areas": null,
            "object_position": null,
            "object_fit": null,
            "grid_auto_columns": null,
            "margin": null,
            "display": null,
            "left": null
          }
        },
        "c8af1404def54ed7884a576ff54d81d9": {
          "model_module": "@jupyter-widgets/controls",
          "model_name": "VBoxModel",
          "state": {
            "_view_name": "VBoxView",
            "_dom_classes": [
              "widget-interact"
            ],
            "_model_name": "VBoxModel",
            "_view_module": "@jupyter-widgets/controls",
            "_model_module_version": "1.5.0",
            "_view_count": null,
            "_view_module_version": "1.5.0",
            "box_style": "",
            "layout": "IPY_MODEL_6e651b937f7247878f690abb82173d62",
            "_model_module": "@jupyter-widgets/controls",
            "children": [
              "IPY_MODEL_79859c472b7641119ed1b91e465772de",
              "IPY_MODEL_f82d2dd3e1704c2184d02aa61e3e3d34",
              "IPY_MODEL_ace93d0ff4cd4ebeaddc4268d9d167c1"
            ]
          }
        },
        "6e651b937f7247878f690abb82173d62": {
          "model_module": "@jupyter-widgets/base",
          "model_name": "LayoutModel",
          "state": {
            "_view_name": "LayoutView",
            "grid_template_rows": null,
            "right": null,
            "justify_content": null,
            "_view_module": "@jupyter-widgets/base",
            "overflow": null,
            "_model_module_version": "1.2.0",
            "_view_count": null,
            "flex_flow": null,
            "width": null,
            "min_width": null,
            "border": null,
            "align_items": null,
            "bottom": null,
            "_model_module": "@jupyter-widgets/base",
            "top": null,
            "grid_column": null,
            "overflow_y": null,
            "overflow_x": null,
            "grid_auto_flow": null,
            "grid_area": null,
            "grid_template_columns": null,
            "flex": null,
            "_model_name": "LayoutModel",
            "justify_items": null,
            "grid_row": null,
            "max_height": null,
            "align_content": null,
            "visibility": null,
            "align_self": null,
            "height": "650px",
            "min_height": null,
            "padding": null,
            "grid_auto_rows": null,
            "grid_gap": null,
            "max_width": null,
            "order": null,
            "_view_module_version": "1.2.0",
            "grid_template_areas": null,
            "object_position": null,
            "object_fit": null,
            "grid_auto_columns": null,
            "margin": null,
            "display": null,
            "left": null
          }
        },
        "79859c472b7641119ed1b91e465772de": {
          "model_module": "@jupyter-widgets/controls",
          "model_name": "IntSliderModel",
          "state": {
            "_view_name": "IntSliderView",
            "style": "IPY_MODEL_0c373ed13ffe4627905872a179bd702a",
            "_dom_classes": [],
            "description": "position:",
            "step": 1,
            "_model_name": "IntSliderModel",
            "orientation": "horizontal",
            "max": 63,
            "_view_module": "@jupyter-widgets/controls",
            "_model_module_version": "1.5.0",
            "value": 15,
            "_view_count": null,
            "disabled": false,
            "_view_module_version": "1.5.0",
            "min": 0,
            "continuous_update": false,
            "readout_format": "d",
            "description_tooltip": null,
            "readout": true,
            "_model_module": "@jupyter-widgets/controls",
            "layout": "IPY_MODEL_952335126caa48389e1ab9d44b68e7dc"
          }
        },
        "f82d2dd3e1704c2184d02aa61e3e3d34": {
          "model_module": "@jupyter-widgets/controls",
          "model_name": "IntSliderModel",
          "state": {
            "_view_name": "IntSliderView",
            "style": "IPY_MODEL_46ffe2bc52134339beafef51e93fde50",
            "_dom_classes": [],
            "description": "head:",
            "step": 1,
            "_model_name": "IntSliderModel",
            "orientation": "horizontal",
            "max": 12,
            "_view_module": "@jupyter-widgets/controls",
            "_model_module_version": "1.5.0",
            "value": 12,
            "_view_count": null,
            "disabled": false,
            "_view_module_version": "1.5.0",
            "min": 1,
            "continuous_update": false,
            "readout_format": "d",
            "description_tooltip": null,
            "readout": true,
            "_model_module": "@jupyter-widgets/controls",
            "layout": "IPY_MODEL_7ba445539f264ee4806ad4a5e383ea78"
          }
        },
        "ace93d0ff4cd4ebeaddc4268d9d167c1": {
          "model_module": "@jupyter-widgets/output",
          "model_name": "OutputModel",
          "state": {
            "_view_name": "OutputView",
            "msg_id": "",
            "_dom_classes": [],
            "_model_name": "OutputModel",
            "outputs": [
              {
                "output_type": "stream",
                "metadata": {
                  "tags": []
                },
                "text": "\nHeadwise attention weights:\n",
                "stream": "stdout"
              },
              {
                "output_type": "display_data",
                "metadata": {
                  "tags": []
                },
                "image/png": "iVBORw0KGgoAAAANSUhEUgAABLMAAAIaCAYAAADbQQ9+AAAABHNCSVQICAgIfAhkiAAAAAlwSFlz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\niUQikUgk0mL4f9vOF5MS/evaAAAAAElFTkSuQmCC\n",
                "text/plain": "<Figure size 1440x576 with 2 Axes>"
              }
            ],
            "_view_module": "@jupyter-widgets/output",
            "_model_module_version": "1.0.0",
            "_view_count": null,
            "_view_module_version": "1.0.0",
            "layout": "IPY_MODEL_4e3df5aa27664b3cb6ea1b8b81ff6f25",
            "_model_module": "@jupyter-widgets/output"
          }
        },
        "0c373ed13ffe4627905872a179bd702a": {
          "model_module": "@jupyter-widgets/controls",
          "model_name": "SliderStyleModel",
          "state": {
            "_view_name": "StyleView",
            "handle_color": null,
            "_model_name": "SliderStyleModel",
            "description_width": "",
            "_view_module": "@jupyter-widgets/base",
            "_model_module_version": "1.5.0",
            "_view_count": null,
            "_view_module_version": "1.2.0",
            "_model_module": "@jupyter-widgets/controls"
          }
        },
        "952335126caa48389e1ab9d44b68e7dc": {
          "model_module": "@jupyter-widgets/base",
          "model_name": "LayoutModel",
          "state": {
            "_view_name": "LayoutView",
            "grid_template_rows": null,
            "right": null,
            "justify_content": null,
            "_view_module": "@jupyter-widgets/base",
            "overflow": null,
            "_model_module_version": "1.2.0",
            "_view_count": null,
            "flex_flow": null,
            "width": null,
            "min_width": null,
            "border": null,
            "align_items": null,
            "bottom": null,
            "_model_module": "@jupyter-widgets/base",
            "top": null,
            "grid_column": null,
            "overflow_y": null,
            "overflow_x": null,
            "grid_auto_flow": null,
            "grid_area": null,
            "grid_template_columns": null,
            "flex": null,
            "_model_name": "LayoutModel",
            "justify_items": null,
            "grid_row": null,
            "max_height": null,
            "align_content": null,
            "visibility": null,
            "align_self": null,
            "height": null,
            "min_height": null,
            "padding": null,
            "grid_auto_rows": null,
            "grid_gap": null,
            "max_width": null,
            "order": null,
            "_view_module_version": "1.2.0",
            "grid_template_areas": null,
            "object_position": null,
            "object_fit": null,
            "grid_auto_columns": null,
            "margin": null,
            "display": null,
            "left": null
          }
        },
        "46ffe2bc52134339beafef51e93fde50": {
          "model_module": "@jupyter-widgets/controls",
          "model_name": "SliderStyleModel",
          "state": {
            "_view_name": "StyleView",
            "handle_color": null,
            "_model_name": "SliderStyleModel",
            "description_width": "",
            "_view_module": "@jupyter-widgets/base",
            "_model_module_version": "1.5.0",
            "_view_count": null,
            "_view_module_version": "1.2.0",
            "_model_module": "@jupyter-widgets/controls"
          }
        },
        "7ba445539f264ee4806ad4a5e383ea78": {
          "model_module": "@jupyter-widgets/base",
          "model_name": "LayoutModel",
          "state": {
            "_view_name": "LayoutView",
            "grid_template_rows": null,
            "right": null,
            "justify_content": null,
            "_view_module": "@jupyter-widgets/base",
            "overflow": null,
            "_model_module_version": "1.2.0",
            "_view_count": null,
            "flex_flow": null,
            "width": null,
            "min_width": null,
            "border": null,
            "align_items": null,
            "bottom": null,
            "_model_module": "@jupyter-widgets/base",
            "top": null,
            "grid_column": null,
            "overflow_y": null,
            "overflow_x": null,
            "grid_auto_flow": null,
            "grid_area": null,
            "grid_template_columns": null,
            "flex": null,
            "_model_name": "LayoutModel",
            "justify_items": null,
            "grid_row": null,
            "max_height": null,
            "align_content": null,
            "visibility": null,
            "align_self": null,
            "height": null,
            "min_height": null,
            "padding": null,
            "grid_auto_rows": null,
            "grid_gap": null,
            "max_width": null,
            "order": null,
            "_view_module_version": "1.2.0",
            "grid_template_areas": null,
            "object_position": null,
            "object_fit": null,
            "grid_auto_columns": null,
            "margin": null,
            "display": null,
            "left": null
          }
        },
        "b2c1925312d9418981288edb97d141ca": {
          "model_module": "@jupyter-widgets/controls",
          "model_name": "VBoxModel",
          "state": {
            "_view_name": "VBoxView",
            "_dom_classes": [
              "widget-interact"
            ],
            "_model_name": "VBoxModel",
            "_view_module": "@jupyter-widgets/controls",
            "_model_module_version": "1.5.0",
            "_view_count": null,
            "_view_module_version": "1.5.0",
            "box_style": "",
            "layout": "IPY_MODEL_55167a08aa814456b7e7594645a79ade",
            "_model_module": "@jupyter-widgets/controls",
            "children": [
              "IPY_MODEL_54b66dda82b948eb9246832459f32b21",
              "IPY_MODEL_a6e4c916579e40b2ba86c9a54b358e0a",
              "IPY_MODEL_60d7511bece6428383f06a0eb5f4d0cf"
            ]
          }
        },
        "55167a08aa814456b7e7594645a79ade": {
          "model_module": "@jupyter-widgets/base",
          "model_name": "LayoutModel",
          "state": {
            "_view_name": "LayoutView",
            "grid_template_rows": null,
            "right": null,
            "justify_content": null,
            "_view_module": "@jupyter-widgets/base",
            "overflow": null,
            "_model_module_version": "1.2.0",
            "_view_count": null,
            "flex_flow": null,
            "width": null,
            "min_width": null,
            "border": null,
            "align_items": null,
            "bottom": null,
            "_model_module": "@jupyter-widgets/base",
            "top": null,
            "grid_column": null,
            "overflow_y": null,
            "overflow_x": null,
            "grid_auto_flow": null,
            "grid_area": null,
            "grid_template_columns": null,
            "flex": null,
            "_model_name": "LayoutModel",
            "justify_items": null,
            "grid_row": null,
            "max_height": null,
            "align_content": null,
            "visibility": null,
            "align_self": null,
            "height": "650px",
            "min_height": null,
            "padding": null,
            "grid_auto_rows": null,
            "grid_gap": null,
            "max_width": null,
            "order": null,
            "_view_module_version": "1.2.0",
            "grid_template_areas": null,
            "object_position": null,
            "object_fit": null,
            "grid_auto_columns": null,
            "margin": null,
            "display": null,
            "left": null
          }
        },
        "54b66dda82b948eb9246832459f32b21": {
          "model_module": "@jupyter-widgets/controls",
          "model_name": "IntSliderModel",
          "state": {
            "_view_name": "IntSliderView",
            "style": "IPY_MODEL_e98fb6eba595446485a8a34c935eb5c9",
            "_dom_classes": [],
            "description": "position:",
            "step": 1,
            "_model_name": "IntSliderModel",
            "orientation": "horizontal",
            "max": 63,
            "_view_module": "@jupyter-widgets/controls",
            "_model_module_version": "1.5.0",
            "value": 1,
            "_view_count": null,
            "disabled": false,
            "_view_module_version": "1.5.0",
            "min": 0,
            "continuous_update": false,
            "readout_format": "d",
            "description_tooltip": null,
            "readout": true,
            "_model_module": "@jupyter-widgets/controls",
            "layout": "IPY_MODEL_ccd39b4979ea43699d18d4e29f92c1e5"
          }
        },
        "a6e4c916579e40b2ba86c9a54b358e0a": {
          "model_module": "@jupyter-widgets/controls",
          "model_name": "IntSliderModel",
          "state": {
            "_view_name": "IntSliderView",
            "style": "IPY_MODEL_79d9de1d2a9c43b09351e2a826e9fd92",
            "_dom_classes": [],
            "description": "layer:",
            "step": 1,
            "_model_name": "IntSliderModel",
            "orientation": "horizontal",
            "max": 12,
            "_view_module": "@jupyter-widgets/controls",
            "_model_module_version": "1.5.0",
            "value": 12,
            "_view_count": null,
            "disabled": false,
            "_view_module_version": "1.5.0",
            "min": 1,
            "continuous_update": false,
            "readout_format": "d",
            "description_tooltip": null,
            "readout": true,
            "_model_module": "@jupyter-widgets/controls",
            "layout": "IPY_MODEL_a8390c88f61f4ebe8b295f2bede2e4fd"
          }
        },
        "60d7511bece6428383f06a0eb5f4d0cf": {
          "model_module": "@jupyter-widgets/output",
          "model_name": "OutputModel",
          "state": {
            "_view_name": "OutputView",
            "msg_id": "",
            "_dom_classes": [],
            "_model_name": "OutputModel",
            "outputs": [
              {
                "output_type": "stream",
                "metadata": {
                  "tags": []
                },
                "text": "\nLayerwise attention weights:\n",
                "stream": "stdout"
              },
              {
                "output_type": "display_data",
                "metadata": {
                  "tags": []
                },
                "image/png": "iVBORw0KGgoAAAANSUhEUgAABLMAAAIaCAYAAADbQQ9+AAAABHNCSVQICAgIfAhkiAAAAAlwSFlz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\noQAAAABJRU5ErkJggg==\n",
                "text/plain": "<Figure size 1440x576 with 2 Axes>"
              }
            ],
            "_view_module": "@jupyter-widgets/output",
            "_model_module_version": "1.0.0",
            "_view_count": null,
            "_view_module_version": "1.0.0",
            "layout": "IPY_MODEL_5fdaa800f17545faac97580b083e9bbf",
            "_model_module": "@jupyter-widgets/output"
          }
        },
        "e98fb6eba595446485a8a34c935eb5c9": {
          "model_module": "@jupyter-widgets/controls",
          "model_name": "SliderStyleModel",
          "state": {
            "_view_name": "StyleView",
            "handle_color": null,
            "_model_name": "SliderStyleModel",
            "description_width": "",
            "_view_module": "@jupyter-widgets/base",
            "_model_module_version": "1.5.0",
            "_view_count": null,
            "_view_module_version": "1.2.0",
            "_model_module": "@jupyter-widgets/controls"
          }
        },
        "ccd39b4979ea43699d18d4e29f92c1e5": {
          "model_module": "@jupyter-widgets/base",
          "model_name": "LayoutModel",
          "state": {
            "_view_name": "LayoutView",
            "grid_template_rows": null,
            "right": null,
            "justify_content": null,
            "_view_module": "@jupyter-widgets/base",
            "overflow": null,
            "_model_module_version": "1.2.0",
            "_view_count": null,
            "flex_flow": null,
            "width": null,
            "min_width": null,
            "border": null,
            "align_items": null,
            "bottom": null,
            "_model_module": "@jupyter-widgets/base",
            "top": null,
            "grid_column": null,
            "overflow_y": null,
            "overflow_x": null,
            "grid_auto_flow": null,
            "grid_area": null,
            "grid_template_columns": null,
            "flex": null,
            "_model_name": "LayoutModel",
            "justify_items": null,
            "grid_row": null,
            "max_height": null,
            "align_content": null,
            "visibility": null,
            "align_self": null,
            "height": null,
            "min_height": null,
            "padding": null,
            "grid_auto_rows": null,
            "grid_gap": null,
            "max_width": null,
            "order": null,
            "_view_module_version": "1.2.0",
            "grid_template_areas": null,
            "object_position": null,
            "object_fit": null,
            "grid_auto_columns": null,
            "margin": null,
            "display": null,
            "left": null
          }
        },
        "79d9de1d2a9c43b09351e2a826e9fd92": {
          "model_module": "@jupyter-widgets/controls",
          "model_name": "SliderStyleModel",
          "state": {
            "_view_name": "StyleView",
            "handle_color": null,
            "_model_name": "SliderStyleModel",
            "description_width": "",
            "_view_module": "@jupyter-widgets/base",
            "_model_module_version": "1.5.0",
            "_view_count": null,
            "_view_module_version": "1.2.0",
            "_model_module": "@jupyter-widgets/controls"
          }
        },
        "a8390c88f61f4ebe8b295f2bede2e4fd": {
          "model_module": "@jupyter-widgets/base",
          "model_name": "LayoutModel",
          "state": {
            "_view_name": "LayoutView",
            "grid_template_rows": null,
            "right": null,
            "justify_content": null,
            "_view_module": "@jupyter-widgets/base",
            "overflow": null,
            "_model_module_version": "1.2.0",
            "_view_count": null,
            "flex_flow": null,
            "width": null,
            "min_width": null,
            "border": null,
            "align_items": null,
            "bottom": null,
            "_model_module": "@jupyter-widgets/base",
            "top": null,
            "grid_column": null,
            "overflow_y": null,
            "overflow_x": null,
            "grid_auto_flow": null,
            "grid_area": null,
            "grid_template_columns": null,
            "flex": null,
            "_model_name": "LayoutModel",
            "justify_items": null,
            "grid_row": null,
            "max_height": null,
            "align_content": null,
            "visibility": null,
            "align_self": null,
            "height": null,
            "min_height": null,
            "padding": null,
            "grid_auto_rows": null,
            "grid_gap": null,
            "max_width": null,
            "order": null,
            "_view_module_version": "1.2.0",
            "grid_template_areas": null,
            "object_position": null,
            "object_fit": null,
            "grid_auto_columns": null,
            "margin": null,
            "display": null,
            "left": null
          }
        },
        "b7a8a2e100b4429db3ac3a3023813228": {
          "model_module": "@jupyter-widgets/controls",
          "model_name": "VBoxModel",
          "state": {
            "_view_name": "VBoxView",
            "_dom_classes": [
              "widget-interact"
            ],
            "_model_name": "VBoxModel",
            "_view_module": "@jupyter-widgets/controls",
            "_model_module_version": "1.5.0",
            "_view_count": null,
            "_view_module_version": "1.5.0",
            "box_style": "",
            "layout": "IPY_MODEL_f3a8f62d69c8415994be9c08aa352ee3",
            "_model_module": "@jupyter-widgets/controls",
            "children": [
              "IPY_MODEL_d2e529ff331943258d1154434d9f3a0c",
              "IPY_MODEL_d8e7285eeac244e6badef92560570f94",
              "IPY_MODEL_317c219bc82c4d1d8d3a261b993b25c4",
              "IPY_MODEL_e7217053b3b6463c88158a9b7dad9018"
            ]
          }
        },
        "f3a8f62d69c8415994be9c08aa352ee3": {
          "model_module": "@jupyter-widgets/base",
          "model_name": "LayoutModel",
          "state": {
            "_view_name": "LayoutView",
            "grid_template_rows": null,
            "right": null,
            "justify_content": null,
            "_view_module": "@jupyter-widgets/base",
            "overflow": null,
            "_model_module_version": "1.2.0",
            "_view_count": null,
            "flex_flow": null,
            "width": null,
            "min_width": null,
            "border": null,
            "align_items": null,
            "bottom": null,
            "_model_module": "@jupyter-widgets/base",
            "top": null,
            "grid_column": null,
            "overflow_y": null,
            "overflow_x": null,
            "grid_auto_flow": null,
            "grid_area": null,
            "grid_template_columns": null,
            "flex": null,
            "_model_name": "LayoutModel",
            "justify_items": null,
            "grid_row": null,
            "max_height": null,
            "align_content": null,
            "visibility": null,
            "align_self": null,
            "height": "300px",
            "min_height": null,
            "padding": null,
            "grid_auto_rows": null,
            "grid_gap": null,
            "max_width": null,
            "order": null,
            "_view_module_version": "1.2.0",
            "grid_template_areas": null,
            "object_position": null,
            "object_fit": null,
            "grid_auto_columns": null,
            "margin": null,
            "display": null,
            "left": null
          }
        },
        "d2e529ff331943258d1154434d9f3a0c": {
          "model_module": "@jupyter-widgets/controls",
          "model_name": "IntSliderModel",
          "state": {
            "_view_name": "IntSliderView",
            "style": "IPY_MODEL_3a31a8dccc784d49aac8ec0a08bb5526",
            "_dom_classes": [],
            "description": "position:",
            "step": 1,
            "_model_name": "IntSliderModel",
            "orientation": "horizontal",
            "max": 61,
            "_view_module": "@jupyter-widgets/controls",
            "_model_module_version": "1.5.0",
            "value": 20,
            "_view_count": null,
            "disabled": false,
            "_view_module_version": "1.5.0",
            "min": 0,
            "continuous_update": false,
            "readout_format": "d",
            "description_tooltip": null,
            "readout": true,
            "_model_module": "@jupyter-widgets/controls",
            "layout": "IPY_MODEL_ad4f2f3eea734447896086a392e14b57"
          }
        },
        "d8e7285eeac244e6badef92560570f94": {
          "model_module": "@jupyter-widgets/controls",
          "model_name": "IntSliderModel",
          "state": {
            "_view_name": "IntSliderView",
            "style": "IPY_MODEL_e05aba83abac4e1d8b303a3ecba43bef",
            "_dom_classes": [],
            "description": "layer:",
            "step": 1,
            "_model_name": "IntSliderModel",
            "orientation": "horizontal",
            "max": 12,
            "_view_module": "@jupyter-widgets/controls",
            "_model_module_version": "1.5.0",
            "value": 8,
            "_view_count": null,
            "disabled": false,
            "_view_module_version": "1.5.0",
            "min": 1,
            "continuous_update": false,
            "readout_format": "d",
            "description_tooltip": null,
            "readout": true,
            "_model_module": "@jupyter-widgets/controls",
            "layout": "IPY_MODEL_7c7e6dc2066743aaa723748336836086"
          }
        },
        "317c219bc82c4d1d8d3a261b993b25c4": {
          "model_module": "@jupyter-widgets/controls",
          "model_name": "IntSliderModel",
          "state": {
            "_view_name": "IntSliderView",
            "style": "IPY_MODEL_708e57acc1fe40c6807806888bb8d83a",
            "_dom_classes": [],
            "description": "head:",
            "step": 1,
            "_model_name": "IntSliderModel",
            "orientation": "horizontal",
            "max": 12,
            "_view_module": "@jupyter-widgets/controls",
            "_model_module_version": "1.5.0",
            "value": 12,
            "_view_count": null,
            "disabled": false,
            "_view_module_version": "1.5.0",
            "min": 1,
            "continuous_update": false,
            "readout_format": "d",
            "description_tooltip": null,
            "readout": true,
            "_model_module": "@jupyter-widgets/controls",
            "layout": "IPY_MODEL_61ff31f773544dc0aea704a43d730e20"
          }
        },
        "e7217053b3b6463c88158a9b7dad9018": {
          "model_module": "@jupyter-widgets/output",
          "model_name": "OutputModel",
          "state": {
            "_view_name": "OutputView",
            "msg_id": "",
            "_dom_classes": [],
            "_model_name": "OutputModel",
            "outputs": [
              {
                "output_type": "stream",
                "metadata": {
                  "tags": []
                },
                "text": "\nLayerwise attention weights for given head:\n",
                "stream": "stdout"
              },
              {
                "output_type": "display_data",
                "metadata": {
                  "tags": []
                },
                "image/png": "iVBORw0KGgoAAAANSUhEUgAAA/sAAACCCAYAAAAZvdiuAAAABHNCSVQICAgIfAhkiAAAAAlwSFlz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\n",
                "text/plain": "<Figure size 1440x72 with 2 Axes>"
              }
            ],
            "_view_module": "@jupyter-widgets/output",
            "_model_module_version": "1.0.0",
            "_view_count": null,
            "_view_module_version": "1.0.0",
            "layout": "IPY_MODEL_265f921e23bd4a708db4f3e810f51b6c",
            "_model_module": "@jupyter-widgets/output"
          }
        },
        "3a31a8dccc784d49aac8ec0a08bb5526": {
          "model_module": "@jupyter-widgets/controls",
          "model_name": "SliderStyleModel",
          "state": {
            "_view_name": "StyleView",
            "handle_color": null,
            "_model_name": "SliderStyleModel",
            "description_width": "",
            "_view_module": "@jupyter-widgets/base",
            "_model_module_version": "1.5.0",
            "_view_count": null,
            "_view_module_version": "1.2.0",
            "_model_module": "@jupyter-widgets/controls"
          }
        },
        "ad4f2f3eea734447896086a392e14b57": {
          "model_module": "@jupyter-widgets/base",
          "model_name": "LayoutModel",
          "state": {
            "_view_name": "LayoutView",
            "grid_template_rows": null,
            "right": null,
            "justify_content": null,
            "_view_module": "@jupyter-widgets/base",
            "overflow": null,
            "_model_module_version": "1.2.0",
            "_view_count": null,
            "flex_flow": null,
            "width": null,
            "min_width": null,
            "border": null,
            "align_items": null,
            "bottom": null,
            "_model_module": "@jupyter-widgets/base",
            "top": null,
            "grid_column": null,
            "overflow_y": null,
            "overflow_x": null,
            "grid_auto_flow": null,
            "grid_area": null,
            "grid_template_columns": null,
            "flex": null,
            "_model_name": "LayoutModel",
            "justify_items": null,
            "grid_row": null,
            "max_height": null,
            "align_content": null,
            "visibility": null,
            "align_self": null,
            "height": null,
            "min_height": null,
            "padding": null,
            "grid_auto_rows": null,
            "grid_gap": null,
            "max_width": null,
            "order": null,
            "_view_module_version": "1.2.0",
            "grid_template_areas": null,
            "object_position": null,
            "object_fit": null,
            "grid_auto_columns": null,
            "margin": null,
            "display": null,
            "left": null
          }
        },
        "e05aba83abac4e1d8b303a3ecba43bef": {
          "model_module": "@jupyter-widgets/controls",
          "model_name": "SliderStyleModel",
          "state": {
            "_view_name": "StyleView",
            "handle_color": null,
            "_model_name": "SliderStyleModel",
            "description_width": "",
            "_view_module": "@jupyter-widgets/base",
            "_model_module_version": "1.5.0",
            "_view_count": null,
            "_view_module_version": "1.2.0",
            "_model_module": "@jupyter-widgets/controls"
          }
        },
        "7c7e6dc2066743aaa723748336836086": {
          "model_module": "@jupyter-widgets/base",
          "model_name": "LayoutModel",
          "state": {
            "_view_name": "LayoutView",
            "grid_template_rows": null,
            "right": null,
            "justify_content": null,
            "_view_module": "@jupyter-widgets/base",
            "overflow": null,
            "_model_module_version": "1.2.0",
            "_view_count": null,
            "flex_flow": null,
            "width": null,
            "min_width": null,
            "border": null,
            "align_items": null,
            "bottom": null,
            "_model_module": "@jupyter-widgets/base",
            "top": null,
            "grid_column": null,
            "overflow_y": null,
            "overflow_x": null,
            "grid_auto_flow": null,
            "grid_area": null,
            "grid_template_columns": null,
            "flex": null,
            "_model_name": "LayoutModel",
            "justify_items": null,
            "grid_row": null,
            "max_height": null,
            "align_content": null,
            "visibility": null,
            "align_self": null,
            "height": null,
            "min_height": null,
            "padding": null,
            "grid_auto_rows": null,
            "grid_gap": null,
            "max_width": null,
            "order": null,
            "_view_module_version": "1.2.0",
            "grid_template_areas": null,
            "object_position": null,
            "object_fit": null,
            "grid_auto_columns": null,
            "margin": null,
            "display": null,
            "left": null
          }
        },
        "708e57acc1fe40c6807806888bb8d83a": {
          "model_module": "@jupyter-widgets/controls",
          "model_name": "SliderStyleModel",
          "state": {
            "_view_name": "StyleView",
            "handle_color": null,
            "_model_name": "SliderStyleModel",
            "description_width": "",
            "_view_module": "@jupyter-widgets/base",
            "_model_module_version": "1.5.0",
            "_view_count": null,
            "_view_module_version": "1.2.0",
            "_model_module": "@jupyter-widgets/controls"
          }
        },
        "61ff31f773544dc0aea704a43d730e20": {
          "model_module": "@jupyter-widgets/base",
          "model_name": "LayoutModel",
          "state": {
            "_view_name": "LayoutView",
            "grid_template_rows": null,
            "right": null,
            "justify_content": null,
            "_view_module": "@jupyter-widgets/base",
            "overflow": null,
            "_model_module_version": "1.2.0",
            "_view_count": null,
            "flex_flow": null,
            "width": null,
            "min_width": null,
            "border": null,
            "align_items": null,
            "bottom": null,
            "_model_module": "@jupyter-widgets/base",
            "top": null,
            "grid_column": null,
            "overflow_y": null,
            "overflow_x": null,
            "grid_auto_flow": null,
            "grid_area": null,
            "grid_template_columns": null,
            "flex": null,
            "_model_name": "LayoutModel",
            "justify_items": null,
            "grid_row": null,
            "max_height": null,
            "align_content": null,
            "visibility": null,
            "align_self": null,
            "height": null,
            "min_height": null,
            "padding": null,
            "grid_auto_rows": null,
            "grid_gap": null,
            "max_width": null,
            "order": null,
            "_view_module_version": "1.2.0",
            "grid_template_areas": null,
            "object_position": null,
            "object_fit": null,
            "grid_auto_columns": null,
            "margin": null,
            "display": null,
            "left": null
          }
        },
        "d3e3abf34de04b5282ec4681c3441dbb": {
          "model_module": "@jupyter-widgets/controls",
          "model_name": "VBoxModel",
          "state": {
            "_view_name": "VBoxView",
            "_dom_classes": [
              "widget-interact"
            ],
            "_model_name": "VBoxModel",
            "_view_module": "@jupyter-widgets/controls",
            "_model_module_version": "1.5.0",
            "_view_count": null,
            "_view_module_version": "1.5.0",
            "box_style": "",
            "layout": "IPY_MODEL_e903d7c12f0845f68be2b9e0f7777b2a",
            "_model_module": "@jupyter-widgets/controls",
            "children": [
              "IPY_MODEL_173fedd24c664a3c9a216c5334e13b23",
              "IPY_MODEL_5091cdc4d85e4293830147137d0046c1"
            ]
          }
        },
        "e903d7c12f0845f68be2b9e0f7777b2a": {
          "model_module": "@jupyter-widgets/base",
          "model_name": "LayoutModel",
          "state": {
            "_view_name": "LayoutView",
            "grid_template_rows": null,
            "right": null,
            "justify_content": null,
            "_view_module": "@jupyter-widgets/base",
            "overflow": null,
            "_model_module_version": "1.2.0",
            "_view_count": null,
            "flex_flow": null,
            "width": null,
            "min_width": null,
            "border": null,
            "align_items": null,
            "bottom": null,
            "_model_module": "@jupyter-widgets/base",
            "top": null,
            "grid_column": null,
            "overflow_y": null,
            "overflow_x": null,
            "grid_auto_flow": null,
            "grid_area": null,
            "grid_template_columns": null,
            "flex": null,
            "_model_name": "LayoutModel",
            "justify_items": null,
            "grid_row": null,
            "max_height": null,
            "align_content": null,
            "visibility": null,
            "align_self": null,
            "height": "650px",
            "min_height": null,
            "padding": null,
            "grid_auto_rows": null,
            "grid_gap": null,
            "max_width": null,
            "order": null,
            "_view_module_version": "1.2.0",
            "grid_template_areas": null,
            "object_position": null,
            "object_fit": null,
            "grid_auto_columns": null,
            "margin": null,
            "display": null,
            "left": null
          }
        },
        "173fedd24c664a3c9a216c5334e13b23": {
          "model_module": "@jupyter-widgets/controls",
          "model_name": "IntSliderModel",
          "state": {
            "_view_name": "IntSliderView",
            "style": "IPY_MODEL_03d0b1b32e704596acec9b099de4e80d",
            "_dom_classes": [],
            "description": "position:",
            "step": 1,
            "_model_name": "IntSliderModel",
            "orientation": "horizontal",
            "max": 61,
            "_view_module": "@jupyter-widgets/controls",
            "_model_module_version": "1.5.0",
            "value": 20,
            "_view_count": null,
            "disabled": false,
            "_view_module_version": "1.5.0",
            "min": 0,
            "continuous_update": false,
            "readout_format": "d",
            "description_tooltip": null,
            "readout": true,
            "_model_module": "@jupyter-widgets/controls",
            "layout": "IPY_MODEL_4398288846b2402795bb31f98ade6520"
          }
        },
        "5091cdc4d85e4293830147137d0046c1": {
          "model_module": "@jupyter-widgets/output",
          "model_name": "OutputModel",
          "state": {
            "_view_name": "OutputView",
            "msg_id": "",
            "_dom_classes": [],
            "_model_name": "OutputModel",
            "outputs": [
              {
                "output_type": "display_data",
                "metadata": {
                  "tags": []
                },
                "image/png": "iVBORw0KGgoAAAANSUhEUgAABLMAAAIeCAYAAABA0E1oAAAABHNCSVQICAgIfAhkiAAAAAlwSFlz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\nMjIyMjIyMjIyMjL6Df4f1JgMNsskiBIAAAAASUVORK5CYII=\n",
                "text/plain": "<Figure size 1440x576 with 2 Axes>"
              }
            ],
            "_view_module": "@jupyter-widgets/output",
            "_model_module_version": "1.0.0",
            "_view_count": null,
            "_view_module_version": "1.0.0",
            "layout": "IPY_MODEL_1e9bf05fbf3d4fd6b467fd7d621b98e6",
            "_model_module": "@jupyter-widgets/output"
          }
        },
        "03d0b1b32e704596acec9b099de4e80d": {
          "model_module": "@jupyter-widgets/controls",
          "model_name": "SliderStyleModel",
          "state": {
            "_view_name": "StyleView",
            "handle_color": null,
            "_model_name": "SliderStyleModel",
            "description_width": "",
            "_view_module": "@jupyter-widgets/base",
            "_model_module_version": "1.5.0",
            "_view_count": null,
            "_view_module_version": "1.2.0",
            "_model_module": "@jupyter-widgets/controls"
          }
        },
        "4398288846b2402795bb31f98ade6520": {
          "model_module": "@jupyter-widgets/base",
          "model_name": "LayoutModel",
          "state": {
            "_view_name": "LayoutView",
            "grid_template_rows": null,
            "right": null,
            "justify_content": null,
            "_view_module": "@jupyter-widgets/base",
            "overflow": null,
            "_model_module_version": "1.2.0",
            "_view_count": null,
            "flex_flow": null,
            "width": null,
            "min_width": null,
            "border": null,
            "align_items": null,
            "bottom": null,
            "_model_module": "@jupyter-widgets/base",
            "top": null,
            "grid_column": null,
            "overflow_y": null,
            "overflow_x": null,
            "grid_auto_flow": null,
            "grid_area": null,
            "grid_template_columns": null,
            "flex": null,
            "_model_name": "LayoutModel",
            "justify_items": null,
            "grid_row": null,
            "max_height": null,
            "align_content": null,
            "visibility": null,
            "align_self": null,
            "height": null,
            "min_height": null,
            "padding": null,
            "grid_auto_rows": null,
            "grid_gap": null,
            "max_width": null,
            "order": null,
            "_view_module_version": "1.2.0",
            "grid_template_areas": null,
            "object_position": null,
            "object_fit": null,
            "grid_auto_columns": null,
            "margin": null,
            "display": null,
            "left": null
          }
        },
        "ddaff32863ba4b4d97e801d90c5f9c31": {
          "model_module": "@jupyter-widgets/controls",
          "model_name": "VBoxModel",
          "state": {
            "_view_name": "VBoxView",
            "_dom_classes": [
              "widget-interact"
            ],
            "_model_name": "VBoxModel",
            "_view_module": "@jupyter-widgets/controls",
            "_model_module_version": "1.5.0",
            "_view_count": null,
            "_view_module_version": "1.5.0",
            "box_style": "",
            "layout": "IPY_MODEL_2127399c39bc4dc7b41998a1bfb86f24",
            "_model_module": "@jupyter-widgets/controls",
            "children": [
              "IPY_MODEL_98b47a7eb1484fa7b8e52af7ca5eb4eb",
              "IPY_MODEL_380689a7bd4540dcb3fc8d44e0501ebe",
              "IPY_MODEL_bcdab26b080b41a8ad8c70c0005373fe"
            ]
          }
        },
        "2127399c39bc4dc7b41998a1bfb86f24": {
          "model_module": "@jupyter-widgets/base",
          "model_name": "LayoutModel",
          "state": {
            "_view_name": "LayoutView",
            "grid_template_rows": null,
            "right": null,
            "justify_content": null,
            "_view_module": "@jupyter-widgets/base",
            "overflow": null,
            "_model_module_version": "1.2.0",
            "_view_count": null,
            "flex_flow": null,
            "width": null,
            "min_width": null,
            "border": null,
            "align_items": null,
            "bottom": null,
            "_model_module": "@jupyter-widgets/base",
            "top": null,
            "grid_column": null,
            "overflow_y": null,
            "overflow_x": null,
            "grid_auto_flow": null,
            "grid_area": null,
            "grid_template_columns": null,
            "flex": null,
            "_model_name": "LayoutModel",
            "justify_items": null,
            "grid_row": null,
            "max_height": null,
            "align_content": null,
            "visibility": null,
            "align_self": null,
            "height": "650px",
            "min_height": null,
            "padding": null,
            "grid_auto_rows": null,
            "grid_gap": null,
            "max_width": null,
            "order": null,
            "_view_module_version": "1.2.0",
            "grid_template_areas": null,
            "object_position": null,
            "object_fit": null,
            "grid_auto_columns": null,
            "margin": null,
            "display": null,
            "left": null
          }
        },
        "98b47a7eb1484fa7b8e52af7ca5eb4eb": {
          "model_module": "@jupyter-widgets/controls",
          "model_name": "IntSliderModel",
          "state": {
            "_view_name": "IntSliderView",
            "style": "IPY_MODEL_384831b24eed4b39a844d7edda2f32ae",
            "_dom_classes": [],
            "description": "position:",
            "step": 1,
            "_model_name": "IntSliderModel",
            "orientation": "horizontal",
            "max": 61,
            "_view_module": "@jupyter-widgets/controls",
            "_model_module_version": "1.5.0",
            "value": 49,
            "_view_count": null,
            "disabled": false,
            "_view_module_version": "1.5.0",
            "min": 0,
            "continuous_update": false,
            "readout_format": "d",
            "description_tooltip": null,
            "readout": true,
            "_model_module": "@jupyter-widgets/controls",
            "layout": "IPY_MODEL_e750644698da4977bffc5c49e4b01ca1"
          }
        },
        "380689a7bd4540dcb3fc8d44e0501ebe": {
          "model_module": "@jupyter-widgets/controls",
          "model_name": "IntSliderModel",
          "state": {
            "_view_name": "IntSliderView",
            "style": "IPY_MODEL_ac11044d699d4ff4bce04afffbcb4764",
            "_dom_classes": [],
            "description": "layer:",
            "step": 1,
            "_model_name": "IntSliderModel",
            "orientation": "horizontal",
            "max": 12,
            "_view_module": "@jupyter-widgets/controls",
            "_model_module_version": "1.5.0",
            "value": 6,
            "_view_count": null,
            "disabled": false,
            "_view_module_version": "1.5.0",
            "min": 1,
            "continuous_update": false,
            "readout_format": "d",
            "description_tooltip": null,
            "readout": true,
            "_model_module": "@jupyter-widgets/controls",
            "layout": "IPY_MODEL_5a27da6e687c4ed78738604e1fa3d22c"
          }
        },
        "bcdab26b080b41a8ad8c70c0005373fe": {
          "model_module": "@jupyter-widgets/output",
          "model_name": "OutputModel",
          "state": {
            "_view_name": "OutputView",
            "msg_id": "",
            "_dom_classes": [],
            "_model_name": "OutputModel",
            "outputs": [
              {
                "output_type": "stream",
                "metadata": {
                  "tags": []
                },
                "text": "\nPer-layer average attention weights\n",
                "stream": "stdout"
              },
              {
                "output_type": "display_data",
                "metadata": {
                  "tags": []
                },
                "image/png": "iVBORw0KGgoAAAANSUhEUgAAA/sAAAB+CAYAAAB77QHMAAAABHNCSVQICAgIfAhkiAAAAAlwSFlz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\n",
                "text/plain": "<Figure size 1440x72 with 2 Axes>"
              }
            ],
            "_view_module": "@jupyter-widgets/output",
            "_model_module_version": "1.0.0",
            "_view_count": null,
            "_view_module_version": "1.0.0",
            "layout": "IPY_MODEL_7e9fac2cf98743fba59a650d0961f430",
            "_model_module": "@jupyter-widgets/output"
          }
        },
        "384831b24eed4b39a844d7edda2f32ae": {
          "model_module": "@jupyter-widgets/controls",
          "model_name": "SliderStyleModel",
          "state": {
            "_view_name": "StyleView",
            "handle_color": null,
            "_model_name": "SliderStyleModel",
            "description_width": "",
            "_view_module": "@jupyter-widgets/base",
            "_model_module_version": "1.5.0",
            "_view_count": null,
            "_view_module_version": "1.2.0",
            "_model_module": "@jupyter-widgets/controls"
          }
        },
        "e750644698da4977bffc5c49e4b01ca1": {
          "model_module": "@jupyter-widgets/base",
          "model_name": "LayoutModel",
          "state": {
            "_view_name": "LayoutView",
            "grid_template_rows": null,
            "right": null,
            "justify_content": null,
            "_view_module": "@jupyter-widgets/base",
            "overflow": null,
            "_model_module_version": "1.2.0",
            "_view_count": null,
            "flex_flow": null,
            "width": null,
            "min_width": null,
            "border": null,
            "align_items": null,
            "bottom": null,
            "_model_module": "@jupyter-widgets/base",
            "top": null,
            "grid_column": null,
            "overflow_y": null,
            "overflow_x": null,
            "grid_auto_flow": null,
            "grid_area": null,
            "grid_template_columns": null,
            "flex": null,
            "_model_name": "LayoutModel",
            "justify_items": null,
            "grid_row": null,
            "max_height": null,
            "align_content": null,
            "visibility": null,
            "align_self": null,
            "height": null,
            "min_height": null,
            "padding": null,
            "grid_auto_rows": null,
            "grid_gap": null,
            "max_width": null,
            "order": null,
            "_view_module_version": "1.2.0",
            "grid_template_areas": null,
            "object_position": null,
            "object_fit": null,
            "grid_auto_columns": null,
            "margin": null,
            "display": null,
            "left": null
          }
        },
        "ac11044d699d4ff4bce04afffbcb4764": {
          "model_module": "@jupyter-widgets/controls",
          "model_name": "SliderStyleModel",
          "state": {
            "_view_name": "StyleView",
            "handle_color": null,
            "_model_name": "SliderStyleModel",
            "description_width": "",
            "_view_module": "@jupyter-widgets/base",
            "_model_module_version": "1.5.0",
            "_view_count": null,
            "_view_module_version": "1.2.0",
            "_model_module": "@jupyter-widgets/controls"
          }
        },
        "5a27da6e687c4ed78738604e1fa3d22c": {
          "model_module": "@jupyter-widgets/base",
          "model_name": "LayoutModel",
          "state": {
            "_view_name": "LayoutView",
            "grid_template_rows": null,
            "right": null,
            "justify_content": null,
            "_view_module": "@jupyter-widgets/base",
            "overflow": null,
            "_model_module_version": "1.2.0",
            "_view_count": null,
            "flex_flow": null,
            "width": null,
            "min_width": null,
            "border": null,
            "align_items": null,
            "bottom": null,
            "_model_module": "@jupyter-widgets/base",
            "top": null,
            "grid_column": null,
            "overflow_y": null,
            "overflow_x": null,
            "grid_auto_flow": null,
            "grid_area": null,
            "grid_template_columns": null,
            "flex": null,
            "_model_name": "LayoutModel",
            "justify_items": null,
            "grid_row": null,
            "max_height": null,
            "align_content": null,
            "visibility": null,
            "align_self": null,
            "height": null,
            "min_height": null,
            "padding": null,
            "grid_auto_rows": null,
            "grid_gap": null,
            "max_width": null,
            "order": null,
            "_view_module_version": "1.2.0",
            "grid_template_areas": null,
            "object_position": null,
            "object_fit": null,
            "grid_auto_columns": null,
            "margin": null,
            "display": null,
            "left": null
          }
        }
      }
    }
  },
  "cells": [
    {
      "cell_type": "markdown",
      "metadata": {
        "id": "5pWslYbMgpoc",
        "colab_type": "text"
      },
      "source": [
        "# Story Ending Generation (Visualizations)\n",
        "\n",
        "Erik McGuire\n",
        "\n",
        "CSC594-810-ADL\n",
        "\n",
        "Winter 19-20"
      ]
    },
    {
      "cell_type": "markdown",
      "metadata": {
        "id": "2z5zYcWdGjGg",
        "colab_type": "text"
      },
      "source": [
        "## Imports"
      ]
    },
    {
      "cell_type": "code",
      "metadata": {
        "id": "fF91x6rwGHzk",
        "colab_type": "code",
        "colab": {}
      },
      "source": [
        "\"\"\"\n",
        "from google.colab import drive\n",
        "drive.mount('/content/drive')\n",
        "\"\"\""
      ],
      "execution_count": 0,
      "outputs": []
    },
    {
      "cell_type": "code",
      "metadata": {
        "id": "ve8gDpTPF7aA",
        "colab_type": "code",
        "colab": {}
      },
      "source": [
        "#Required over !pip install transformers for subclassing model/overriding methods.\n",
        "!git clone https://github.com/huggingface/transformers.git\n",
        "%cd transformers\n",
        "!pip install ."
      ],
      "execution_count": 0,
      "outputs": []
    },
    {
      "cell_type": "code",
      "metadata": {
        "id": "vdZfUtYUGB1v",
        "colab_type": "code",
        "colab": {}
      },
      "source": [
        "%tensorflow_version 2.x\n",
        "from transformers import GPT2Tokenizer, GPT2DoubleHeadsModel, GPT2LMHeadModel, PreTrainedModel"
      ],
      "execution_count": 0,
      "outputs": []
    },
    {
      "cell_type": "code",
      "metadata": {
        "id": "mIkYCg6fGDoN",
        "colab_type": "code",
        "colab": {}
      },
      "source": [
        "import string, csv, re, random, logging, torch, io\n",
        "from string import punctuation as punk\n",
        "import torch.nn.functional as F\n",
        "import matplotlib.pyplot as plt\n",
        "from ipywidgets import *\n",
        "import seaborn as sns\n",
        "import pandas as pd\n",
        "import numpy as np\n",
        "import random"
      ],
      "execution_count": 0,
      "outputs": []
    },
    {
      "cell_type": "markdown",
      "metadata": {
        "id": "E0ZBsPHB5THg",
        "colab_type": "text"
      },
      "source": [
        "> We must navigate to the main project folder in mounted My Drive. \n",
        "\n",
        "> Assumes the following structure:\n",
        "<pre>.\n",
        "├── content\n",
        "│   ├──drive                         # Mounted drive folder.\n",
        "│   │   └── My Drive                 # Mounted drive folder.\n",
        "│   │       └── CSC-594-ADL          # Main project folder.\n",
        "│   │           ├── datasets         # ConceptNet and ROCStories.\n",
        "│   │           ├── endings          # Correct and generated endings per model.\n",
        "│   │           ├── evals            # Evaluation results for stories and endings per model.\n",
        "│   │           ├── models           # Pretrained models, tokenizers, vocabulary, etc.\n",
        "│   │           ├── scripts          # Scripts for training and generation.\n",
        "│   │           └── stories          # Combined story bodies and generated endings per model.\n",
        "│   ├── sample_data                  # Default Colab folder.\n",
        "│   └── transformers                 # Installed from HuggingFace.\n",
        "└── ...\n",
        "</pre>"
      ]
    },
    {
      "cell_type": "code",
      "metadata": {
        "id": "vCnQa5KrGFXc",
        "colab_type": "code",
        "colab": {}
      },
      "source": [
        "%cd ../drive/My Drive/csc594-ADL"
      ],
      "execution_count": 0,
      "outputs": []
    },
    {
      "cell_type": "markdown",
      "metadata": {
        "id": "JkaNzZi5Nzvx",
        "colab_type": "text"
      },
      "source": [
        "---\n",
        "## Functions\n",
        "---"
      ]
    },
    {
      "cell_type": "markdown",
      "metadata": {
        "id": "LV48Tkclwf4l",
        "colab_type": "text"
      },
      "source": [
        "#### Attention\n",
        "* Inspired by Krishan Subudhi's [code](https://krishansubudhi.github.io/deeplearning/2019/09/26/BertAttention.html)."
      ]
    },
    {
      "cell_type": "code",
      "metadata": {
        "id": "9F-nZ2fXwjic",
        "colab_type": "code",
        "colab": {}
      },
      "source": [
        "def get_attns(prompt: str, ending: str, model, tokenizer, mname):\n",
        "    \"\"\"Get attention weights for story.\"\"\"\n",
        "    prompt_tokens = tokenizer.tokenize(prompt)\n",
        "    if not mname == 'gpt2':\n",
        "        end_tokens = tokenizer.tokenize(\"_delimiter_\" + ending)\n",
        "    else:\n",
        "        end_tokens = tokenizer.tokenize(ending)\n",
        "    pos_token = len(prompt_tokens)\n",
        "    in_tokens = prompt_tokens + end_tokens\n",
        "    in_tokens = list(map(lambda w: w.replace(\"Ġ\", \"\"), in_tokens))\n",
        "    ids = torch.tensor(tokenizer.convert_tokens_to_ids(in_tokens)).unsqueeze(0).to('cuda')\n",
        "    with torch.no_grad():\n",
        "        output = model(ids)\n",
        "    attentions = torch.cat(output[-1]).cpu()\n",
        "    attentions = attentions.permute(2,1,0,3)\n",
        "    return in_tokens, pos_token, attentions\n",
        "\n",
        "def display_attns(in_tokens, attns, pos_token):\n",
        "    \"Displays multi-head attention weights for a token.\"\n",
        "    heads = len(attns[0])\n",
        "    cols = 2\n",
        "    rows = int(heads/cols)\n",
        "    fig, axes = plt.subplots(rows, cols, figsize = (27, 27))\n",
        "    fig.tight_layout(pad=5.0)\n",
        "    axes = axes.flat\n",
        "    attentions_pos = attns[pos_token]\n",
        "    cp = \" \".join(in_tokens[pos_token-1:pos_token])\n",
        "    ca = \" \".join(in_tokens[pos_token+1:pos_token+2])\n",
        "    context = cp + f\" {in_tokens[pos_token]} \" + ca\n",
        "    print(f'\\nMultihead attention weights:')\n",
        "    for i, att in enumerate(attentions_pos):\n",
        "        sns.heatmap(att, vmin = 0, vmax = 1, ax = axes[i], xticklabels = in_tokens)\n",
        "        axes[i].set_title(f'Head #{i+1} ' )\n",
        "        axes[i].set_ylabel('Layers')\n",
        "        for tick in axes[i].get_xticklabels():\n",
        "                tick.set_rotation(45)\n",
        "                tick.set_fontsize(8) \n",
        "\n",
        "def display_per_head_attn(in_tokens, attns, pos_token, head):\n",
        "    \"Given head number and position index, displays attention weights for a token.\"\n",
        "    head = head -1\n",
        "    fig, axes = plt.subplots(figsize = (20, 8))\n",
        "    fig.tight_layout(pad=5.0)\n",
        "    attentions_pos = attns[pos_token]\n",
        "    cp = \" \".join(in_tokens[pos_token-1:pos_token])\n",
        "    ca = \" \".join(in_tokens[pos_token+1:pos_token+2])\n",
        "    context = cp + f\" {in_tokens[pos_token]} \" + ca\n",
        "    print(f'\\nHeadwise attention weights:')\n",
        "    sns.heatmap(attentions_pos[head], \n",
        "                vmin = 0, vmax = 1, \n",
        "                xticklabels = in_tokens)\n",
        "    axes.set_title(f'Head #{head + 1} ' )\n",
        "    axes.set_ylabel('Layers')\n",
        "    for ix, tick in enumerate(axes.get_xticklabels()):\n",
        "            tick.set_rotation(55)\n",
        "            tick.set_fontsize(9) \n",
        "            if tick.get_text() == in_tokens[pos_token]:\n",
        "                try:\n",
        "                    if axes.get_xticklabels()[ix+1].get_text() == ca:\n",
        "                        if axes.get_xticklabels()[ix-1].get_text() == cp:\n",
        "                            tick.set_color(\"magenta\")\n",
        "                            tick.set_fontsize(10)\n",
        "                except:\n",
        "                    tick.set_color(\"magenta\")\n",
        "                    tick.set_fontsize(10)\n",
        "\n",
        "def display_per_layer_attn(in_tokens, attns, pos_token, layer):\n",
        "    \"Given layer number and position index, displays attention weights for a token.\"\n",
        "    layer -= 1\n",
        "    fig, axes = plt.subplots(figsize = (20, 8))\n",
        "    fig.tight_layout(pad=5.0)\n",
        "    attns = attns.permute(0, 2, 1, 3)\n",
        "    attentions_pos = attns[pos_token]\n",
        "    cp = \" \".join(in_tokens[pos_token-1:pos_token])\n",
        "    ca = \" \".join(in_tokens[pos_token+1:pos_token+2])\n",
        "    context = cp + f\" {in_tokens[pos_token]} \" + ca\n",
        "    print(f'\\nLayerwise attention weights:')\n",
        "    sns.heatmap(attentions_pos[layer], \n",
        "                vmin = 0, vmax = 1, \n",
        "                xticklabels = in_tokens)\n",
        "    axes.set_title(f'Layer #{layer + 1} ' )\n",
        "    axes.set_ylabel('Heads')\n",
        "    for ix, tick in enumerate(axes.get_xticklabels()):\n",
        "            tick.set_rotation(55)\n",
        "            tick.set_fontsize(9) \n",
        "            if tick.get_text() == in_tokens[pos_token]:\n",
        "                try:\n",
        "                    if axes.get_xticklabels()[ix+1].get_text() == ca:\n",
        "                        if axes.get_xticklabels()[ix-1].get_text() == cp:\n",
        "                            tick.set_color(\"magenta\")\n",
        "                            tick.set_fontsize(10)\n",
        "                except:\n",
        "                    tick.set_color(\"magenta\")\n",
        "                    tick.set_fontsize(10)\n",
        "\n",
        "def display_per_layer_per_head_attn(in_tokens, attns, pos_token, layer, head):\n",
        "    \"Given head, layer number and position index, displays attention weights for a token.\"\n",
        "    layer -= 1\n",
        "    head -= 1\n",
        "    fig, axes = plt.subplots(figsize = (20, 1))\n",
        "    attns = attns.permute(0, 2, 1, 3)\n",
        "    attentions_pos = attns[pos_token]\n",
        "    cp = \" \".join(in_tokens[pos_token-1:pos_token])\n",
        "    ca = \" \".join(in_tokens[pos_token+1:pos_token+2])\n",
        "    context = cp + f\" {in_tokens[pos_token]} \" + ca\n",
        "    print(f'\\nLayerwise attention weights for given head:')\n",
        "    sns.heatmap(attentions_pos[layer][head].reshape(1, -1), \n",
        "                vmin = 0, vmax = 1, \n",
        "                xticklabels = in_tokens)\n",
        "    axes.set_title(f'Layer #{layer + 1} ' )\n",
        "    axes.set_ylabel(f'Head #{head + 1}')\n",
        "    for ix, tick in enumerate(axes.get_xticklabels()):\n",
        "            tick.set_rotation(55)\n",
        "            tick.set_fontsize(9) \n",
        "            if tick.get_text() == in_tokens[pos_token]:\n",
        "                try:\n",
        "                    if axes.get_xticklabels()[ix+1].get_text() == ca:\n",
        "                        if axes.get_xticklabels()[ix-1].get_text() == cp:\n",
        "                            tick.set_color(\"magenta\")\n",
        "                            tick.set_fontsize(10)\n",
        "                except:\n",
        "                    tick.set_color(\"magenta\")\n",
        "                    tick.set_fontsize(10)\n",
        "\n",
        "\n",
        "def display_per_head_attn_alt(in_tokens, attns, pos_token, head):\n",
        "    \"Given head number and position index, displays attention weights for a token.\"\n",
        "    head -= 1\n",
        "    fig, axes = plt.subplots(figsize = (20, 8))\n",
        "    fig.tight_layout(pad=5.0)\n",
        "    attentions_pos = attns[pos_token]\n",
        "    cp = \" \".join(in_tokens[pos_token-1:pos_token])\n",
        "    ca = \" \".join(in_tokens[pos_token+1:pos_token+2])\n",
        "    context = cp + f\" {in_tokens[pos_token]} \" + ca\n",
        "    print(f'\\nHeadwise attention weights:')\n",
        "    plt.imshow(attentions_pos[head])\n",
        "    plt.xticks(range(len(in_tokens)), in_tokens, rotation=45)\n",
        "    plt.title(f'Head #{head + 1} ' )\n",
        "    plt.ylabel('Layers')\n",
        "    plt.show()\n",
        "    return None\n",
        "\n",
        "def display_avg_attn(in_tokens, attns, pos_token):\n",
        "    \"\"\"Display mean attention weights for token.\"\"\"\n",
        "    fig, axes = plt.subplots(figsize = (20, 8))\n",
        "    fig.tight_layout(pad=5.0)\n",
        "    attentions_pos = attns[pos_token]\n",
        "    cp = \" \".join(in_tokens[pos_token-1:pos_token])\n",
        "    ca = \" \".join(in_tokens[pos_token+1:pos_token+2])\n",
        "    context = cp + f\" {in_tokens[pos_token]} \" + ca\n",
        "    avg_attn = attentions_pos.mean(dim=0)\n",
        "    plt.title(f'\\nAverage attention weights')\n",
        "    sns.heatmap(avg_attn, vmin = 0, vmax = 1, xticklabels = in_tokens)\n",
        "    axes.set_ylabel('Layers')\n",
        "    plt.xticks(rotation=55, fontsize=8)\n",
        "    for ix, tick in enumerate(axes.get_xticklabels()):\n",
        "        if tick.get_text() == in_tokens[pos_token]:\n",
        "            try:\n",
        "                if axes.get_xticklabels()[ix+1].get_text() == ca:\n",
        "                    if axes.get_xticklabels()[ix-1].get_text() == cp:\n",
        "                        tick.set_color(\"magenta\")\n",
        "                        tick.set_fontsize(10)\n",
        "            except:\n",
        "                tick.set_color(\"magenta\")\n",
        "                tick.set_fontsize(10)\n",
        "    plt.show()\n",
        "\n",
        "def display_avg_attn_per_layer(in_tokens, attns, pos_token, layer):\n",
        "    \"\"\"Display mean attention weights for token per layer.\"\"\"\n",
        "    layer -= 1\n",
        "    fig, axes = plt.subplots(figsize = (20, 1))\n",
        "    attns = attns.permute(0, 2, 1, 3)\n",
        "    attentions_pos = attns[pos_token]\n",
        "    cp = \" \".join(in_tokens[pos_token-1:pos_token])\n",
        "    ca = \" \".join(in_tokens[pos_token+1:pos_token+2])\n",
        "    context = cp + f\" {in_tokens[pos_token]} \" + ca\n",
        "    avg_attn = attentions_pos[layer].mean(dim=0)\n",
        "    print(f'\\nPer-layer average attention weights')\n",
        "    sns.heatmap(avg_attn.reshape(1, -1), vmin = 0, vmax = 1, xticklabels = in_tokens)\n",
        "    axes.set_title(f'Layer #{layer + 1} ' )\n",
        "    axes.set_ylabel('Heads (avg)')\n",
        "    plt.xticks(rotation=55, fontsize=8)\n",
        "    for ix, tick in enumerate(axes.get_xticklabels()):\n",
        "        if tick.get_text() == in_tokens[pos_token]:\n",
        "            try:\n",
        "                if axes.get_xticklabels()[ix+1].get_text() == ca:\n",
        "                    if axes.get_xticklabels()[ix-1].get_text() == cp:\n",
        "                        tick.set_color(\"magenta\")\n",
        "                        tick.set_fontsize(10)\n",
        "            except:\n",
        "                tick.set_color(\"magenta\")\n",
        "                tick.set_fontsize(10)\n",
        "    plt.show()"
      ],
      "execution_count": 0,
      "outputs": []
    },
    {
      "cell_type": "markdown",
      "metadata": {
        "id": "XT1UXICXw0xV",
        "colab_type": "text"
      },
      "source": [
        "#### Logits"
      ]
    },
    {
      "cell_type": "code",
      "metadata": {
        "id": "iAwbbtiOSTdo",
        "colab_type": "code",
        "colab": {}
      },
      "source": [
        "def get_model_gen(mpath: str='', typ: str='2', dev: str='cuda'):\n",
        "    \"\"\"Get subclassed model, tokenizer from pretrained.\"\"\"\n",
        "    logging.basicConfig(level=logging.INFO)\n",
        "    tokenizer = GPT2Tokenizer.from_pretrained(mpath)\n",
        "    if typ == \"2\":\n",
        "        model = GPT2DoubleHeadsModel.from_pretrained(mpath, \n",
        "                                                       output_attentions=True)\n",
        "    else:\n",
        "        model = GPT2LMHeadModel.from_pretrained(mpath)\n",
        "    model.eval() # deactivate dropout for reproducibility\n",
        "    model.to(dev)\n",
        "    return tokenizer, model\n",
        "\n",
        "# Define function for loading and processing ROCStories data file for generation prompts.\n",
        "def load_rocstories_dataset(dataset_path: str) -> list:\n",
        "    \"\"\"Output story, ending w/ special tokens.\"\"\"\n",
        "    sop = \"_start_\"\n",
        "    eop = \"_delimiter_\"\n",
        "    roc_df = pd.read_csv(dataset_path, sep=',', usecols=[2, 3, 4, 5, 6])\n",
        "    df_endings = roc_df.sentence5\n",
        "    df_stories = roc_df.loc[:, :'sentence4'].copy()\n",
        "    story_bodies = df_stories.sentence1 + \" \" + df_stories.sentence2 + \" \" + df_stories.sentence3 + \" \" + df_stories.sentence4\n",
        "    df_stories.sentence1 = sop + df_stories.sentence1\n",
        "    df_stories.sentence4 = df_stories.sentence4 + eop\n",
        "    return story_bodies, df_stories, df_endings\n",
        "    \n",
        "def model_c(model: str) -> str:\n",
        "    return model\n",
        "\n",
        "def get_endings(mname: str) -> list:\n",
        "    \"\"\"Use generation function to collect stories+endings.\"\"\"\n",
        "    gen_endings = pd.read_csv(f\"endings/{mname}_gen_ends.txt\", sep='\\t').values.tolist()\n",
        "    return gen_endings\n",
        "\n",
        "def load_res(mname: str) -> list:\n",
        "    \"\"\"Load results as DataFrame.\"\"\"\n",
        "    df = pd.read_csv(f\"stories/seg_results_{mname}.txt\", sep='\\t', error_bad_lines=False)\n",
        "    return df\n",
        "\n",
        "def get_logits(gen: str, cref: str, model, tokenizer, mname) -> dict:\n",
        "    \"\"\"Get logits for generated endings.\"\"\"\n",
        "    input_ids_gen = torch.tensor(tokenizer.encode(gen, add_special_tokens=False)).unsqueeze(0).to(\"cuda\")  # Batch size 1\n",
        "    input_ids_cref = torch.tensor(tokenizer.encode(cref, add_special_tokens=False)).unsqueeze(0).to(\"cuda\")\n",
        "\n",
        "    with torch.no_grad():\n",
        "        outputs_gen = model(input_ids_gen, lm_labels=input_ids_gen)\n",
        "        _, logits_gen, mc_logits, _, attns = outputs_gen # lm_loss, lm_logits, mc_logits, presents, attns\n",
        "        outputs_cref = model(input_ids_cref, lm_labels=input_ids_cref)\n",
        "    return logits_gen, attns\n",
        "\n",
        "def collect_logits(gen_stories: list, model, tokenizer, mname: str, n: int) -> None:\n",
        "    \"\"\"Collect each story's perplexity results for generated, correct endings.\"\"\"\n",
        "    df_endings_list = df_endings.values.tolist()\n",
        "    results = []\n",
        "    for ix, story in enumerate(gen_stories):\n",
        "        story = story.split(\"\\t\")\n",
        "        try:\n",
        "            gen_end = story[2]\n",
        "        except:\n",
        "            gen_end = \"_none_\"\n",
        "        if not mname == 'gpt2':\n",
        "            story_body = \"_start_\" + story[0]\n",
        "            gen = story_body + \"_delimiter_\" + gen_end\n",
        "            cref = story_body + \"_delimiter_\" + df_endings_list[ix]\n",
        "        else:\n",
        "            story_body = story[0]\n",
        "            gen = story_body + gen_end\n",
        "            cref = story_body + df_endings_list[ix]\n",
        "        logits_gen, attns = get_logits(gen, cref, model, tokenizer, mname)\n",
        "        results.append([logits_gen[0, 0, :n].cpu(), story_body, (df_endings_list[ix], gen_end)])\n",
        "    # Return small batch of logits for softmax viz, the rest for attn viz.\n",
        "    return results"
      ],
      "execution_count": 0,
      "outputs": []
    },
    {
      "cell_type": "markdown",
      "metadata": {
        "id": "OagNdmAqwxgl",
        "colab_type": "text"
      },
      "source": [
        "#### Softmax"
      ]
    },
    {
      "cell_type": "code",
      "metadata": {
        "id": "5WgOslPNwuhI",
        "colab_type": "code",
        "colab": {}
      },
      "source": [
        "# From HuggingFace\n",
        "def top_k_top_p_filtering(logits, top_k=0, top_p=1.0, filter_value=-float(\"Inf\"), min_tokens_to_keep=1):\n",
        "    \"\"\" Filter a distribution of logits using top-k and/or nucleus (top-p) filtering\n",
        "        Args:\n",
        "            logits: logits distribution shape (batch size, vocabulary size)\n",
        "            if top_k > 0: keep only top k tokens with highest probability (top-k filtering).\n",
        "            if top_p < 1.0: keep the top tokens with cumulative probability >= top_p (nucleus filtering).\n",
        "                Nucleus filtering is described in Holtzman et al. (http://arxiv.org/abs/1904.09751)\n",
        "            Make sure we keep at least min_tokens_to_keep per batch example in the output\n",
        "        From: https://gist.github.com/thomwolf/1a5a29f6962089e871b94cbd09daf317\n",
        "    \"\"\"\n",
        "    if top_k > 0:\n",
        "        top_k = min(max(top_k, min_tokens_to_keep), logits.size(-1))  # Safety check\n",
        "        # Remove all tokens with a probability less than the last token of the top-k\n",
        "        indices_to_remove = logits < torch.topk(logits, top_k)[0][..., -1, None]\n",
        "        logits[indices_to_remove] = filter_value\n",
        "\n",
        "    if top_p < 1.0:\n",
        "        sorted_logits, sorted_indices = torch.sort(logits, descending=True)\n",
        "        cumulative_probs = torch.cumsum(F.softmax(sorted_logits, dim=-1), dim=-1)\n",
        "\n",
        "        # Remove tokens with cumulative probability above the threshold (token with 0 are kept)\n",
        "        sorted_indices_to_remove = cumulative_probs > top_p\n",
        "        if min_tokens_to_keep > 1:\n",
        "            # Keep at least min_tokens_to_keep (set to min_tokens_to_keep-1 because we add the first one below)\n",
        "            sorted_indices_to_remove[..., :min_tokens_to_keep] = 0\n",
        "        # Shift the indices to the right to keep also the first token above the threshold\n",
        "        sorted_indices_to_remove[..., 1:] = sorted_indices_to_remove[..., :-1].clone()\n",
        "        sorted_indices_to_remove[..., 0] = 0\n",
        "\n",
        "        # Scatter sorted tensors to original indexing\n",
        "        indices_to_remove = sorted_indices_to_remove.scatter(-1, sorted_indices, sorted_indices_to_remove)\n",
        "        logits[indices_to_remove] = filter_value\n",
        "    return logits\n",
        "    \n",
        "def softmax(temperature):\n",
        "    \"\"\"Softmax w/ temp for logits.\"\"\"\n",
        "    global old_logits\n",
        "    v = len(old_logits)\n",
        "    plt.figure(figsize=(8,5))\n",
        "    plt.title(\"Softmax distribution w/ temperature\")\n",
        "    plt.xlabel(\"Vocabulary\")\n",
        "    plt.ylabel(\"Probability\")\n",
        "    probs = F.softmax(old_logits/temperature, dim=-1)\n",
        "    plt.bar(range(v),\n",
        "            probs, \n",
        "            facecolor='cyan', \n",
        "            edgecolor='blue')\n",
        "    sample = torch.multinomial(probs, replacement=True, num_samples=v)\n",
        "    next_token = tokenizer.decode(sample)\n",
        "    plt.xticks(sample, next_token)\n",
        "    \n",
        "def softmaxp(temperature):\n",
        "    \"\"\"Softmax w/ temp for truncated logits.\"\"\"\n",
        "    global p_logits\n",
        "    v = len(p_logits)\n",
        "    plt.figure(figsize=(8,5))\n",
        "    plt.title(f\"Truncated distribution w/ temperature; k: {top_k}, p: {top_p}\")\n",
        "    plt.xlabel(\"Vocabulary\")\n",
        "    plt.ylabel(\"Probability\")\n",
        "    probs = F.softmax(p_logits/temperature, dim=-1)\n",
        "    plt.bar(range(v), \n",
        "            probs, \n",
        "            facecolor='magenta', \n",
        "            edgecolor='purple')\n",
        "    sample = torch.multinomial(probs, replacement=True, num_samples=v)\n",
        "    next_token = tokenizer.decode(sample)\n",
        "    plt.xticks(sample, next_token)"
      ],
      "execution_count": 0,
      "outputs": []
    },
    {
      "cell_type": "markdown",
      "metadata": {
        "colab_type": "text",
        "id": "nsNosKa2G6qb"
      },
      "source": [
        "## Visualization"
      ]
    },
    {
      "cell_type": "markdown",
      "metadata": {
        "id": "MUX2gW_EPxj0",
        "colab_type": "text"
      },
      "source": [
        "#### Load model, tokenizer and run on toy examples for visualization."
      ]
    },
    {
      "cell_type": "code",
      "metadata": {
        "id": "P-DHkeCMipFO",
        "colab_type": "code",
        "colab": {}
      },
      "source": [
        "model_chooser = interactive(model_c, model=[('Base', 'gpt2'),\n",
        "                                            ('Base to ConceptNet', 'conceptnet'),\n",
        "                                            ('Base to ROC', 'roc1617'),\n",
        "                                            ('Base to SCT', 'b_SCT'),\n",
        "                                            ('ConceptNet to SCT', 'cn_SCT'),\n",
        "                                            ('ConceptNet to Sentiment', 'cn_sentiment'),\n",
        "                                            ('CN to SCT to Sentiment', 'cn_SCT_sentiment'),\n",
        "                                            ('CN to Sentiment to SCT', 'cn_sentiment_SCT'),\n",
        "                                            ('ROC to SCT to Sentiment', 'roc1617_SCT_sentiment'),\n",
        "                                            ('ROC to Sentiment to SCT', 'roc1617_sentiment_SCT'),\n",
        "                                            ('ROC to SCT', 'roc1617_SCT')])\n",
        "display(model_chooser)"
      ],
      "execution_count": 0,
      "outputs": []
    },
    {
      "cell_type": "code",
      "metadata": {
        "id": "IHdg9x1Fn_vm",
        "colab_type": "code",
        "colab": {}
      },
      "source": [
        "if model_chooser and model_chooser.result:\n",
        "    mname = model_chooser.result\n",
        "\n",
        "dpath = \"datasets/roc_1617_test.csv\"\n",
        "\n",
        "story_bodies, df_stories, df_endings = load_rocstories_dataset(dpath)\n",
        "stories = df_stories.join(df_endings).values.tolist()\n",
        "\n",
        "if mname == 'gpt2': # For running base model.\n",
        "    model_path = mname\n",
        "else:\n",
        "    model_path = f'models/{mname}'\n",
        "    \n",
        "tokenizer, model = get_model_gen(model_path)"
      ],
      "execution_count": 0,
      "outputs": []
    },
    {
      "cell_type": "code",
      "metadata": {
        "id": "IVBdZfeEQcuH",
        "colab_type": "code",
        "colab": {}
      },
      "source": [
        "inter_get_ends = interactive(get_endings, {'manual': True, \n",
        "                                           'manual_name': 'Get endings'}, \n",
        "                             mname=fixed(mname)) \n",
        "\n",
        "inter_get_ends.layout.height = '250px'\n",
        "display(inter_get_ends)"
      ],
      "execution_count": 0,
      "outputs": []
    },
    {
      "cell_type": "code",
      "metadata": {
        "id": "po8esGRloA6r",
        "colab_type": "code",
        "colab": {}
      },
      "source": [
        "if inter_get_ends.result:\n",
        "    gen_endings = inter_get_ends.result"
      ],
      "execution_count": 0,
      "outputs": []
    },
    {
      "cell_type": "code",
      "metadata": {
        "id": "DqlaIfAJmf8x",
        "colab_type": "code",
        "colab": {}
      },
      "source": [
        "get_res = interactive(load_res, \n",
        "                       {'manual': True, \n",
        "                        'manual_name': 'Load results'}, \n",
        "                       mname=fixed(mname))\n",
        "display(get_res)"
      ],
      "execution_count": 0,
      "outputs": []
    },
    {
      "cell_type": "code",
      "metadata": {
        "colab_type": "code",
        "id": "U8mO5jJyy-18",
        "colab": {}
      },
      "source": [
        "gen_stories = get_res.result"
      ],
      "execution_count": 0,
      "outputs": []
    },
    {
      "cell_type": "code",
      "metadata": {
        "id": "xtDm9N5T0f4G",
        "colab_type": "code",
        "colab": {}
      },
      "source": [
        "stories = gen_stories.Story + gen_stories.GenEnding"
      ],
      "execution_count": 0,
      "outputs": []
    },
    {
      "cell_type": "code",
      "metadata": {
        "id": "BsLl9TNIBL7Z",
        "colab_type": "code",
        "colab": {}
      },
      "source": [
        "story = random.choice(stories) # Choose random story or stories to score...\n",
        "num_logits = 50 # We just want enough to demonstrate temperature. More than 100 or so and the notebook explodes.\n",
        "results_disp = interactive(collect_logits, \n",
        "                       {'manual': True, \n",
        "                        'manual_name': 'Get logits'}, \n",
        "                       gen_stories=fixed([story]),\n",
        "                       model=fixed(model),\n",
        "                       tokenizer=fixed(tokenizer),\n",
        "                       mname=fixed(mname),\n",
        "                       n=fixed(num_logits))\n",
        "results_disp.layout.height = \"250px\"\n",
        "display(results_disp)"
      ],
      "execution_count": 0,
      "outputs": []
    },
    {
      "cell_type": "code",
      "metadata": {
        "id": "iHeQFDoFlfx4",
        "colab_type": "code",
        "colab": {}
      },
      "source": [
        "if results_disp.result:\n",
        "    results = results_disp.result # Get first story results for viz.\n",
        "logits, prompt, endings = results[0]\n",
        "ending = endings[0] # correct ending"
      ],
      "execution_count": 0,
      "outputs": []
    },
    {
      "cell_type": "markdown",
      "metadata": {
        "id": "JKVf4LchQKWT",
        "colab_type": "text"
      },
      "source": [
        "### Main visualization"
      ]
    },
    {
      "cell_type": "markdown",
      "metadata": {
        "id": "o99WZ3K5e14y",
        "colab_type": "text"
      },
      "source": [
        "#### Run the next two cells for softmax visualization on toy example:"
      ]
    },
    {
      "cell_type": "code",
      "metadata": {
        "id": "hMOdOTV-hEse",
        "colab_type": "code",
        "colab": {}
      },
      "source": [
        "old_logits = logits.clone() # Avoid zany side-effects from visualization functions.\n",
        "top_p = 0.9\n",
        "top_k = 20\n",
        "p_logits = top_k_top_p_filtering(logits, top_k=top_k, top_p=top_p)"
      ],
      "execution_count": 0,
      "outputs": []
    },
    {
      "cell_type": "code",
      "metadata": {
        "colab_type": "code",
        "id": "LH-XvXoaG6qM",
        "outputId": "c065ee08-67c6-4a37-c890-2983377a219a",
        "colab": {
          "base_uri": "https://localhost:8080/",
          "height": 917,
          "referenced_widgets": [
            "6c72e4dff0c64f4798f0eb0da96bcabd",
            "aace2ce5236442d09c9ccbb608415ceb",
            "093f3b6b20494875bd04fe4b4c54cfab",
            "52d4bde224d043ea93620cc1b5197692",
            "d421d7b965444518980393b6b587000b",
            "e894971cfcb0493e88d5a54aee85d10d",
            "59c4edcc1e3f488298f3f2da6e26e4c3",
            "e63e9f29fa7e4248867497c63148c249",
            "e7a9387f30a1468285a357c380dd0ee2",
            "ee966366d51b4247b365eb7accdad927",
            "1c4f49b4f939415c92a41c4fab29a5e4",
            "7001e7f8cd8b486a9037dff8bb37ac80"
          ]
        }
      },
      "source": [
        "w = interactive(softmax, \n",
        "                temperature=FloatSlider(min=0.1, \n",
        "                                        max=10.01, \n",
        "                                        step=0.1, \n",
        "                                        description='Temperature:', \n",
        "                                        value=1.0, \n",
        "                                        continuous_update=False))\n",
        "y = interactive(softmaxp, \n",
        "                temperature=FloatSlider(min=0.1, \n",
        "                                        max=10.01, \n",
        "                                        step=0.1, \n",
        "                                        description='Temperature:', \n",
        "                                        value=1.0, \n",
        "                                        continuous_update=False))\n",
        "\n",
        "w.layout.height = '450px'\n",
        "y.layout.height = '450px'\n",
        "display(w, y)"
      ],
      "execution_count": 0,
      "outputs": [
        {
          "output_type": "display_data",
          "data": {
            "application/vnd.jupyter.widget-view+json": {
              "model_id": "6c72e4dff0c64f4798f0eb0da96bcabd",
              "version_minor": 0,
              "version_major": 2
            },
            "text/plain": [
              "interactive(children=(FloatSlider(value=1.0, continuous_update=False, description='Temperature:', max=10.01, m…"
            ]
          },
          "metadata": {
            "tags": []
          }
        },
        {
          "output_type": "display_data",
          "data": {
            "application/vnd.jupyter.widget-view+json": {
              "model_id": "59c4edcc1e3f488298f3f2da6e26e4c3",
              "version_minor": 0,
              "version_major": 2
            },
            "text/plain": [
              "interactive(children=(FloatSlider(value=1.0, continuous_update=False, description='Temperature:', max=10.01, m…"
            ]
          },
          "metadata": {
            "tags": []
          }
        }
      ]
    },
    {
      "cell_type": "markdown",
      "metadata": {
        "id": "Bt4wTL5meHWT",
        "colab_type": "text"
      },
      "source": [
        "#### Attention visualizations"
      ]
    },
    {
      "cell_type": "markdown",
      "metadata": {
        "id": "cpmQsqbEePzs",
        "colab_type": "text"
      },
      "source": [
        "Run next two cells for button interface to get attention weights, setting necessary visualization variables:"
      ]
    },
    {
      "cell_type": "code",
      "metadata": {
        "colab_type": "code",
        "id": "qOyoOqHjG6qD",
        "colab": {}
      },
      "source": [
        "attn_vars = interactive(get_attns, \n",
        "                        {'manual': True, \n",
        "                         'manual_name': 'Get attention weights'}, \n",
        "                        prompt=fixed(prompt), \n",
        "                        ending=fixed(ending),\n",
        "                        model=fixed(model),\n",
        "                        tokenizer=fixed(tokenizer),\n",
        "                        mname=fixed(mname))\n",
        "display(attn_vars)"
      ],
      "execution_count": 0,
      "outputs": []
    },
    {
      "cell_type": "code",
      "metadata": {
        "colab_type": "code",
        "id": "NkGpeS1BG6qA",
        "colab": {}
      },
      "source": [
        "if attn_vars.result:\n",
        "    in_tokens, pos_token, attns = attn_vars.result"
      ],
      "execution_count": 0,
      "outputs": []
    },
    {
      "cell_type": "markdown",
      "metadata": {
        "id": "b8_vYNT7elHl",
        "colab_type": "text"
      },
      "source": [
        "##### Run any below to map attention by position, head, layer:"
      ]
    },
    {
      "cell_type": "markdown",
      "metadata": {
        "id": "eXcMvlvEeNPz",
        "colab_type": "text"
      },
      "source": [
        "All heads (slow):"
      ]
    },
    {
      "cell_type": "code",
      "metadata": {
        "colab_type": "code",
        "id": "o3BPUdV7hYMB",
        "colab": {}
      },
      "source": [
        "\"\"\"\n",
        "dph_all = interactive(display_attns, \n",
        "                      {'manual': True,\n",
        "                       'manual_name': 'Display attns (all)'},\n",
        "                        in_tokens=fixed(in_tokens), \n",
        "                        attns=fixed(attns), \n",
        "                        pos_token=IntSlider(min=0, \n",
        "                                            max=len(in_tokens)-1, \n",
        "                                            step=1, \n",
        "                                            description='position:', \n",
        "                                            value=1, \n",
        "                                            continuous_update=False))\n",
        "                                      \n",
        "display(dph_all)\n",
        "\"\"\""
      ],
      "execution_count": 0,
      "outputs": []
    },
    {
      "cell_type": "code",
      "metadata": {
        "colab_type": "code",
        "id": "YPC5Vl_ZhYL8",
        "outputId": "a47814ec-abd4-48e4-98a3-3570d77bc07e",
        "colab": {
          "base_uri": "https://localhost:8080/",
          "height": 667,
          "referenced_widgets": [
            "c8af1404def54ed7884a576ff54d81d9",
            "6e651b937f7247878f690abb82173d62",
            "79859c472b7641119ed1b91e465772de",
            "f82d2dd3e1704c2184d02aa61e3e3d34",
            "ace93d0ff4cd4ebeaddc4268d9d167c1",
            "0c373ed13ffe4627905872a179bd702a",
            "952335126caa48389e1ab9d44b68e7dc",
            "46ffe2bc52134339beafef51e93fde50",
            "7ba445539f264ee4806ad4a5e383ea78"
          ]
        }
      },
      "source": [
        "dph = interactive(display_per_head_attn, \n",
        "                  in_tokens=fixed(in_tokens), \n",
        "                  attns=fixed(attns), \n",
        "                  pos_token=IntSlider(min=0, \n",
        "                                      max=len(in_tokens)-1, \n",
        "                                      step=1, \n",
        "                                      description='position:', \n",
        "                                      value=1, \n",
        "                                      continuous_update=False), \n",
        "                  head=IntSlider(min=1, \n",
        "                                 max=12, \n",
        "                                 step=1, \n",
        "                                 description='head:', \n",
        "                                 value=12, \n",
        "                                 continuous_update=False))\n",
        "dph.layout.height = '650px'\n",
        "display(dph)"
      ],
      "execution_count": 0,
      "outputs": [
        {
          "output_type": "display_data",
          "data": {
            "application/vnd.jupyter.widget-view+json": {
              "model_id": "c8af1404def54ed7884a576ff54d81d9",
              "version_minor": 0,
              "version_major": 2
            },
            "text/plain": [
              "interactive(children=(IntSlider(value=1, continuous_update=False, description='position:', max=63), IntSlider(…"
            ]
          },
          "metadata": {
            "tags": []
          }
        }
      ]
    },
    {
      "cell_type": "code",
      "metadata": {
        "colab_type": "code",
        "id": "5UDyzQv8hYL3",
        "outputId": "ec568084-3e25-4c48-fbef-fa058aed0ac1",
        "colab": {
          "base_uri": "https://localhost:8080/",
          "height": 667,
          "referenced_widgets": [
            "b2c1925312d9418981288edb97d141ca",
            "55167a08aa814456b7e7594645a79ade",
            "54b66dda82b948eb9246832459f32b21",
            "a6e4c916579e40b2ba86c9a54b358e0a",
            "60d7511bece6428383f06a0eb5f4d0cf",
            "e98fb6eba595446485a8a34c935eb5c9",
            "ccd39b4979ea43699d18d4e29f92c1e5",
            "79d9de1d2a9c43b09351e2a826e9fd92",
            "a8390c88f61f4ebe8b295f2bede2e4fd"
          ]
        }
      },
      "source": [
        "dpl = interactive(display_per_layer_attn, \n",
        "                  in_tokens=fixed(in_tokens), \n",
        "                  attns=fixed(attns), \n",
        "                  pos_token=IntSlider(min=0, \n",
        "                                      max=len(in_tokens)-1, \n",
        "                                      step=1, \n",
        "                                      description='position:', \n",
        "                                      value=1, \n",
        "                                      continuous_update=False), \n",
        "                  layer=IntSlider(min=1, \n",
        "                                 max=12, \n",
        "                                 step=1, \n",
        "                                 description='layer:', \n",
        "                                 value=12, \n",
        "                                 continuous_update=False))\n",
        "dpl.layout.height = '650px'\n",
        "display(dpl)"
      ],
      "execution_count": 0,
      "outputs": [
        {
          "output_type": "display_data",
          "data": {
            "application/vnd.jupyter.widget-view+json": {
              "model_id": "b2c1925312d9418981288edb97d141ca",
              "version_minor": 0,
              "version_major": 2
            },
            "text/plain": [
              "interactive(children=(IntSlider(value=1, continuous_update=False, description='position:', max=63), IntSlider(…"
            ]
          },
          "metadata": {
            "tags": []
          }
        }
      ]
    },
    {
      "cell_type": "code",
      "metadata": {
        "colab_type": "code",
        "id": "gxqdKA5IhYLv",
        "outputId": "86e51a90-6d39-48b8-89eb-17b7e261d151",
        "colab": {
          "base_uri": "https://localhost:8080/",
          "height": 317,
          "referenced_widgets": [
            "b7a8a2e100b4429db3ac3a3023813228",
            "f3a8f62d69c8415994be9c08aa352ee3",
            "d2e529ff331943258d1154434d9f3a0c",
            "d8e7285eeac244e6badef92560570f94",
            "317c219bc82c4d1d8d3a261b993b25c4",
            "e7217053b3b6463c88158a9b7dad9018",
            "3a31a8dccc784d49aac8ec0a08bb5526",
            "ad4f2f3eea734447896086a392e14b57",
            "e05aba83abac4e1d8b303a3ecba43bef",
            "7c7e6dc2066743aaa723748336836086",
            "708e57acc1fe40c6807806888bb8d83a",
            "61ff31f773544dc0aea704a43d730e20"
          ]
        }
      },
      "source": [
        "dplh = interactive(display_per_layer_per_head_attn, \n",
        "                  in_tokens=fixed(in_tokens), \n",
        "                  attns=fixed(attns), \n",
        "                  pos_token=IntSlider(min=0, \n",
        "                                      max=len(in_tokens)-1, \n",
        "                                      step=1, \n",
        "                                      description='position:', \n",
        "                                      value=1, \n",
        "                                      continuous_update=False), \n",
        "                  layer=IntSlider(min=1, \n",
        "                                 max=12, \n",
        "                                 step=1, \n",
        "                                 description='layer:', \n",
        "                                 value=12, \n",
        "                                 continuous_update=False),\n",
        "                  head=IntSlider(min=1, \n",
        "                                 max=12, \n",
        "                                 step=1, \n",
        "                                 description='head:', \n",
        "                                 value=12, \n",
        "                                 continuous_update=False))\n",
        "dplh.layout.height = '300px'\n",
        "display(dplh)"
      ],
      "execution_count": 0,
      "outputs": [
        {
          "output_type": "display_data",
          "data": {
            "application/vnd.jupyter.widget-view+json": {
              "model_id": "b7a8a2e100b4429db3ac3a3023813228",
              "version_minor": 0,
              "version_major": 2
            },
            "text/plain": [
              "interactive(children=(IntSlider(value=1, continuous_update=False, description='position:', max=61), IntSlider(…"
            ]
          },
          "metadata": {
            "tags": []
          }
        }
      ]
    },
    {
      "cell_type": "code",
      "metadata": {
        "colab_type": "code",
        "id": "sAmTBtmahYLq",
        "outputId": "b34ef2f0-bdf4-42e2-a802-a9400c64b416",
        "colab": {
          "base_uri": "https://localhost:8080/",
          "height": 667,
          "referenced_widgets": [
            "d3e3abf34de04b5282ec4681c3441dbb",
            "e903d7c12f0845f68be2b9e0f7777b2a",
            "173fedd24c664a3c9a216c5334e13b23",
            "5091cdc4d85e4293830147137d0046c1",
            "03d0b1b32e704596acec9b099de4e80d",
            "4398288846b2402795bb31f98ade6520"
          ]
        }
      },
      "source": [
        "dph_avg = interactive(display_avg_attn, \n",
        "                  in_tokens=fixed(in_tokens), \n",
        "                  attns=fixed(attns), \n",
        "                  pos_token=IntSlider(min=0, \n",
        "                                      max=len(in_tokens)-1, \n",
        "                                      step=1, \n",
        "                                      description='position:', \n",
        "                                      value=1, \n",
        "                                      continuous_update=False))\n",
        "dph_avg.layout.height = '650px'\n",
        "display(dph_avg)"
      ],
      "execution_count": 0,
      "outputs": [
        {
          "output_type": "display_data",
          "data": {
            "application/vnd.jupyter.widget-view+json": {
              "model_id": "d3e3abf34de04b5282ec4681c3441dbb",
              "version_minor": 0,
              "version_major": 2
            },
            "text/plain": [
              "interactive(children=(IntSlider(value=1, continuous_update=False, description='position:', max=61), Output()),…"
            ]
          },
          "metadata": {
            "tags": []
          }
        }
      ]
    },
    {
      "cell_type": "code",
      "metadata": {
        "colab_type": "code",
        "id": "CibVD99KhYLa",
        "outputId": "6724f09c-0e46-4304-e877-ccbfb39728a6",
        "colab": {
          "base_uri": "https://localhost:8080/",
          "height": 667,
          "referenced_widgets": [
            "ddaff32863ba4b4d97e801d90c5f9c31",
            "2127399c39bc4dc7b41998a1bfb86f24",
            "98b47a7eb1484fa7b8e52af7ca5eb4eb",
            "380689a7bd4540dcb3fc8d44e0501ebe",
            "bcdab26b080b41a8ad8c70c0005373fe",
            "384831b24eed4b39a844d7edda2f32ae",
            "e750644698da4977bffc5c49e4b01ca1",
            "ac11044d699d4ff4bce04afffbcb4764",
            "5a27da6e687c4ed78738604e1fa3d22c"
          ]
        }
      },
      "source": [
        "dph_avg_l = interactive(display_avg_attn_per_layer, \n",
        "                  in_tokens=fixed(in_tokens), \n",
        "                  attns=fixed(attns), \n",
        "                  pos_token=IntSlider(min=0, \n",
        "                                      max=len(in_tokens)-1, \n",
        "                                      step=1, \n",
        "                                      description='position:', \n",
        "                                      value=1, \n",
        "                                      continuous_update=False), \n",
        "                  layer=IntSlider(min=1, \n",
        "                                 max=12, \n",
        "                                 step=1, \n",
        "                                 description='layer:', \n",
        "                                 value=12, \n",
        "                                 continuous_update=False))\n",
        "dph_avg_l.layout.height = '650px'\n",
        "display(dph_avg_l)"
      ],
      "execution_count": 0,
      "outputs": [
        {
          "output_type": "display_data",
          "data": {
            "application/vnd.jupyter.widget-view+json": {
              "model_id": "ddaff32863ba4b4d97e801d90c5f9c31",
              "version_minor": 0,
              "version_major": 2
            },
            "text/plain": [
              "interactive(children=(IntSlider(value=1, continuous_update=False, description='position:', max=61), IntSlider(…"
            ]
          },
          "metadata": {
            "tags": []
          }
        }
      ]
    }
  ]
}