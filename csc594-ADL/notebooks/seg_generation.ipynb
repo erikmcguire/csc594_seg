{
  "nbformat": 4,
  "nbformat_minor": 0,
  "metadata": {
    "colab": {
      "name": "GH Copy of seg_generation.ipynb",
      "provenance": [],
      "collapsed_sections": [
        "U8bcSdwIjzeT",
        "1rwNQeY4N6lu",
        "M-N_SLK0Us8P",
        "JkaNzZi5Nzvx",
        "6SI8eSUmR11U",
        "7iE3JbmySUj3",
        "SIdokgSmVU8Y",
        "ih6_LDZoRP1-",
        "DyRBUTxFR6zc",
        "4ILY-Kv8OcFO",
        "idc-8iAkHHXh",
        "dW1j-Ubqj1XG",
        "-zkqMxNFHCMi"
      ],
      "toc_visible": true,
      "machine_shape": "hm"
    },
    "kernelspec": {
      "name": "python3",
      "display_name": "Python 3"
    },
    "accelerator": "GPU",
    "widgets": {
      "application/vnd.jupyter.widget-state+json": {
        "13d2ffb1fa624ef48d65ebb81136eaa8": {
          "model_module": "@jupyter-widgets/controls",
          "model_name": "VBoxModel",
          "state": {
            "_view_name": "VBoxView",
            "_dom_classes": [
              "widget-interact"
            ],
            "_model_name": "VBoxModel",
            "_view_module": "@jupyter-widgets/controls",
            "_model_module_version": "1.5.0",
            "_view_count": null,
            "_view_module_version": "1.5.0",
            "box_style": "",
            "layout": "IPY_MODEL_d233235b202143609c2c3f4d602f7aaa",
            "_model_module": "@jupyter-widgets/controls",
            "children": [
              "IPY_MODEL_b497c85799374bd29c0380e22b9080b6",
              "IPY_MODEL_b5958694e3d84a9e8c907aa2a75c07cb"
            ]
          }
        },
        "d233235b202143609c2c3f4d602f7aaa": {
          "model_module": "@jupyter-widgets/base",
          "model_name": "LayoutModel",
          "state": {
            "_view_name": "LayoutView",
            "grid_template_rows": null,
            "right": null,
            "justify_content": null,
            "_view_module": "@jupyter-widgets/base",
            "overflow": null,
            "_model_module_version": "1.2.0",
            "_view_count": null,
            "flex_flow": null,
            "width": null,
            "min_width": null,
            "border": null,
            "align_items": null,
            "bottom": null,
            "_model_module": "@jupyter-widgets/base",
            "top": null,
            "grid_column": null,
            "overflow_y": null,
            "overflow_x": null,
            "grid_auto_flow": null,
            "grid_area": null,
            "grid_template_columns": null,
            "flex": null,
            "_model_name": "LayoutModel",
            "justify_items": null,
            "grid_row": null,
            "max_height": null,
            "align_content": null,
            "visibility": null,
            "align_self": null,
            "height": null,
            "min_height": null,
            "padding": null,
            "grid_auto_rows": null,
            "grid_gap": null,
            "max_width": null,
            "order": null,
            "_view_module_version": "1.2.0",
            "grid_template_areas": null,
            "object_position": null,
            "object_fit": null,
            "grid_auto_columns": null,
            "margin": null,
            "display": null,
            "left": null
          }
        },
        "b497c85799374bd29c0380e22b9080b6": {
          "model_module": "@jupyter-widgets/controls",
          "model_name": "DropdownModel",
          "state": {
            "_options_labels": [
              "Base",
              "Base to ConceptNet",
              "Base to ROC",
              "Base to SCT",
              "Base to SCT to Sentiment",
              "ConceptNet to SCT",
              "ConceptNet to Sentiment",
              "CN to SCT to Sentiment",
              "CN to Sentiment to SCT",
              "ROC to SCT to Sentiment",
              "ROC to Sentiment to SCT",
              "ROC to SCT"
            ],
            "_view_name": "DropdownView",
            "style": "IPY_MODEL_d58c9b29b424470abe91be2c35a28787",
            "_dom_classes": [],
            "description": "model",
            "_model_name": "DropdownModel",
            "index": 5,
            "_view_module": "@jupyter-widgets/controls",
            "_model_module_version": "1.5.0",
            "_view_count": null,
            "disabled": false,
            "_view_module_version": "1.5.0",
            "description_tooltip": null,
            "_model_module": "@jupyter-widgets/controls",
            "layout": "IPY_MODEL_a64eb1244f44451cbc78e3cafe59815d"
          }
        },
        "b5958694e3d84a9e8c907aa2a75c07cb": {
          "model_module": "@jupyter-widgets/output",
          "model_name": "OutputModel",
          "state": {
            "_view_name": "OutputView",
            "msg_id": "",
            "_dom_classes": [],
            "_model_name": "OutputModel",
            "outputs": [],
            "_view_module": "@jupyter-widgets/output",
            "_model_module_version": "1.0.0",
            "_view_count": null,
            "_view_module_version": "1.0.0",
            "layout": "IPY_MODEL_b5758a91751240ddbc212baabda88a13",
            "_model_module": "@jupyter-widgets/output"
          }
        },
        "d58c9b29b424470abe91be2c35a28787": {
          "model_module": "@jupyter-widgets/controls",
          "model_name": "DescriptionStyleModel",
          "state": {
            "_view_name": "StyleView",
            "_model_name": "DescriptionStyleModel",
            "description_width": "",
            "_view_module": "@jupyter-widgets/base",
            "_model_module_version": "1.5.0",
            "_view_count": null,
            "_view_module_version": "1.2.0",
            "_model_module": "@jupyter-widgets/controls"
          }
        },
        "a64eb1244f44451cbc78e3cafe59815d": {
          "model_module": "@jupyter-widgets/base",
          "model_name": "LayoutModel",
          "state": {
            "_view_name": "LayoutView",
            "grid_template_rows": null,
            "right": null,
            "justify_content": null,
            "_view_module": "@jupyter-widgets/base",
            "overflow": null,
            "_model_module_version": "1.2.0",
            "_view_count": null,
            "flex_flow": null,
            "width": null,
            "min_width": null,
            "border": null,
            "align_items": null,
            "bottom": null,
            "_model_module": "@jupyter-widgets/base",
            "top": null,
            "grid_column": null,
            "overflow_y": null,
            "overflow_x": null,
            "grid_auto_flow": null,
            "grid_area": null,
            "grid_template_columns": null,
            "flex": null,
            "_model_name": "LayoutModel",
            "justify_items": null,
            "grid_row": null,
            "max_height": null,
            "align_content": null,
            "visibility": null,
            "align_self": null,
            "height": null,
            "min_height": null,
            "padding": null,
            "grid_auto_rows": null,
            "grid_gap": null,
            "max_width": null,
            "order": null,
            "_view_module_version": "1.2.0",
            "grid_template_areas": null,
            "object_position": null,
            "object_fit": null,
            "grid_auto_columns": null,
            "margin": null,
            "display": null,
            "left": null
          }
        },
        "b5758a91751240ddbc212baabda88a13": {
          "model_module": "@jupyter-widgets/base",
          "model_name": "LayoutModel",
          "state": {
            "_view_name": "LayoutView",
            "grid_template_rows": null,
            "right": null,
            "justify_content": null,
            "_view_module": "@jupyter-widgets/base",
            "overflow": null,
            "_model_module_version": "1.2.0",
            "_view_count": null,
            "flex_flow": null,
            "width": null,
            "min_width": null,
            "border": null,
            "align_items": null,
            "bottom": null,
            "_model_module": "@jupyter-widgets/base",
            "top": null,
            "grid_column": null,
            "overflow_y": null,
            "overflow_x": null,
            "grid_auto_flow": null,
            "grid_area": null,
            "grid_template_columns": null,
            "flex": null,
            "_model_name": "LayoutModel",
            "justify_items": null,
            "grid_row": null,
            "max_height": null,
            "align_content": null,
            "visibility": null,
            "align_self": null,
            "height": null,
            "min_height": null,
            "padding": null,
            "grid_auto_rows": null,
            "grid_gap": null,
            "max_width": null,
            "order": null,
            "_view_module_version": "1.2.0",
            "grid_template_areas": null,
            "object_position": null,
            "object_fit": null,
            "grid_auto_columns": null,
            "margin": null,
            "display": null,
            "left": null
          }
        },
        "88de6f5fe07c454faa1de11b51ed905e": {
          "model_module": "@jupyter-widgets/controls",
          "model_name": "VBoxModel",
          "state": {
            "_view_name": "VBoxView",
            "_dom_classes": [
              "widget-interact"
            ],
            "_model_name": "VBoxModel",
            "_view_module": "@jupyter-widgets/controls",
            "_model_module_version": "1.5.0",
            "_view_count": null,
            "_view_module_version": "1.5.0",
            "box_style": "",
            "layout": "IPY_MODEL_e8931f183d8e472c911966e94d0faa43",
            "_model_module": "@jupyter-widgets/controls",
            "children": [
              "IPY_MODEL_043121e6b59742ee8321559f4d2142a3",
              "IPY_MODEL_db247d8bd05e423ea19a207462491eb6",
              "IPY_MODEL_7212797b4db14a648e37f13d3a943218"
            ]
          }
        },
        "e8931f183d8e472c911966e94d0faa43": {
          "model_module": "@jupyter-widgets/base",
          "model_name": "LayoutModel",
          "state": {
            "_view_name": "LayoutView",
            "grid_template_rows": null,
            "right": null,
            "justify_content": null,
            "_view_module": "@jupyter-widgets/base",
            "overflow": null,
            "_model_module_version": "1.2.0",
            "_view_count": null,
            "flex_flow": null,
            "width": null,
            "min_width": null,
            "border": null,
            "align_items": null,
            "bottom": null,
            "_model_module": "@jupyter-widgets/base",
            "top": null,
            "grid_column": null,
            "overflow_y": null,
            "overflow_x": null,
            "grid_auto_flow": null,
            "grid_area": null,
            "grid_template_columns": null,
            "flex": null,
            "_model_name": "LayoutModel",
            "justify_items": null,
            "grid_row": null,
            "max_height": null,
            "align_content": null,
            "visibility": null,
            "align_self": null,
            "height": null,
            "min_height": null,
            "padding": null,
            "grid_auto_rows": null,
            "grid_gap": null,
            "max_width": null,
            "order": null,
            "_view_module_version": "1.2.0",
            "grid_template_areas": null,
            "object_position": null,
            "object_fit": null,
            "grid_auto_columns": null,
            "margin": null,
            "display": null,
            "left": null
          }
        },
        "043121e6b59742ee8321559f4d2142a3": {
          "model_module": "@jupyter-widgets/controls",
          "model_name": "CheckboxModel",
          "state": {
            "_view_name": "CheckboxView",
            "style": "IPY_MODEL_fb0395a89ad54c2eac6d0335397414a1",
            "_dom_classes": [],
            "description": "add_to_tb",
            "_model_name": "CheckboxModel",
            "_view_module": "@jupyter-widgets/controls",
            "_model_module_version": "1.5.0",
            "value": false,
            "_view_count": null,
            "disabled": false,
            "_view_module_version": "1.5.0",
            "indent": true,
            "description_tooltip": null,
            "_model_module": "@jupyter-widgets/controls",
            "layout": "IPY_MODEL_70c52528f8b34dc68716104f735361d9"
          }
        },
        "db247d8bd05e423ea19a207462491eb6": {
          "model_module": "@jupyter-widgets/controls",
          "model_name": "ButtonModel",
          "state": {
            "_view_name": "ButtonView",
            "style": "IPY_MODEL_86280bc217804a28a8f8624393a01fb1",
            "_dom_classes": [],
            "description": "Get stories/endings",
            "_model_name": "ButtonModel",
            "button_style": "",
            "_view_module": "@jupyter-widgets/controls",
            "_model_module_version": "1.5.0",
            "tooltip": "",
            "_view_count": null,
            "disabled": false,
            "_view_module_version": "1.5.0",
            "layout": "IPY_MODEL_9eb31cc3f4c24622b6c46bd9373be1c7",
            "_model_module": "@jupyter-widgets/controls",
            "icon": ""
          }
        },
        "7212797b4db14a648e37f13d3a943218": {
          "model_module": "@jupyter-widgets/output",
          "model_name": "OutputModel",
          "state": {
            "_view_name": "OutputView",
            "msg_id": "",
            "_dom_classes": [],
            "_model_name": "OutputModel",
            "outputs": [],
            "_view_module": "@jupyter-widgets/output",
            "_model_module_version": "1.0.0",
            "_view_count": null,
            "_view_module_version": "1.0.0",
            "layout": "IPY_MODEL_448505d9a49c44a9b74d58158a380726",
            "_model_module": "@jupyter-widgets/output"
          }
        },
        "fb0395a89ad54c2eac6d0335397414a1": {
          "model_module": "@jupyter-widgets/controls",
          "model_name": "DescriptionStyleModel",
          "state": {
            "_view_name": "StyleView",
            "_model_name": "DescriptionStyleModel",
            "description_width": "",
            "_view_module": "@jupyter-widgets/base",
            "_model_module_version": "1.5.0",
            "_view_count": null,
            "_view_module_version": "1.2.0",
            "_model_module": "@jupyter-widgets/controls"
          }
        },
        "70c52528f8b34dc68716104f735361d9": {
          "model_module": "@jupyter-widgets/base",
          "model_name": "LayoutModel",
          "state": {
            "_view_name": "LayoutView",
            "grid_template_rows": null,
            "right": null,
            "justify_content": null,
            "_view_module": "@jupyter-widgets/base",
            "overflow": null,
            "_model_module_version": "1.2.0",
            "_view_count": null,
            "flex_flow": null,
            "width": null,
            "min_width": null,
            "border": null,
            "align_items": null,
            "bottom": null,
            "_model_module": "@jupyter-widgets/base",
            "top": null,
            "grid_column": null,
            "overflow_y": null,
            "overflow_x": null,
            "grid_auto_flow": null,
            "grid_area": null,
            "grid_template_columns": null,
            "flex": null,
            "_model_name": "LayoutModel",
            "justify_items": null,
            "grid_row": null,
            "max_height": null,
            "align_content": null,
            "visibility": null,
            "align_self": null,
            "height": null,
            "min_height": null,
            "padding": null,
            "grid_auto_rows": null,
            "grid_gap": null,
            "max_width": null,
            "order": null,
            "_view_module_version": "1.2.0",
            "grid_template_areas": null,
            "object_position": null,
            "object_fit": null,
            "grid_auto_columns": null,
            "margin": null,
            "display": null,
            "left": null
          }
        },
        "86280bc217804a28a8f8624393a01fb1": {
          "model_module": "@jupyter-widgets/controls",
          "model_name": "ButtonStyleModel",
          "state": {
            "_view_name": "StyleView",
            "_model_name": "ButtonStyleModel",
            "_view_module": "@jupyter-widgets/base",
            "_model_module_version": "1.5.0",
            "_view_count": null,
            "button_color": null,
            "font_weight": "",
            "_view_module_version": "1.2.0",
            "_model_module": "@jupyter-widgets/controls"
          }
        },
        "9eb31cc3f4c24622b6c46bd9373be1c7": {
          "model_module": "@jupyter-widgets/base",
          "model_name": "LayoutModel",
          "state": {
            "_view_name": "LayoutView",
            "grid_template_rows": null,
            "right": null,
            "justify_content": null,
            "_view_module": "@jupyter-widgets/base",
            "overflow": null,
            "_model_module_version": "1.2.0",
            "_view_count": null,
            "flex_flow": null,
            "width": null,
            "min_width": null,
            "border": null,
            "align_items": null,
            "bottom": null,
            "_model_module": "@jupyter-widgets/base",
            "top": null,
            "grid_column": null,
            "overflow_y": null,
            "overflow_x": null,
            "grid_auto_flow": null,
            "grid_area": null,
            "grid_template_columns": null,
            "flex": null,
            "_model_name": "LayoutModel",
            "justify_items": null,
            "grid_row": null,
            "max_height": null,
            "align_content": null,
            "visibility": null,
            "align_self": null,
            "height": null,
            "min_height": null,
            "padding": null,
            "grid_auto_rows": null,
            "grid_gap": null,
            "max_width": null,
            "order": null,
            "_view_module_version": "1.2.0",
            "grid_template_areas": null,
            "object_position": null,
            "object_fit": null,
            "grid_auto_columns": null,
            "margin": null,
            "display": null,
            "left": null
          }
        },
        "448505d9a49c44a9b74d58158a380726": {
          "model_module": "@jupyter-widgets/base",
          "model_name": "LayoutModel",
          "state": {
            "_view_name": "LayoutView",
            "grid_template_rows": null,
            "right": null,
            "justify_content": null,
            "_view_module": "@jupyter-widgets/base",
            "overflow": null,
            "_model_module_version": "1.2.0",
            "_view_count": null,
            "flex_flow": null,
            "width": null,
            "min_width": null,
            "border": null,
            "align_items": null,
            "bottom": null,
            "_model_module": "@jupyter-widgets/base",
            "top": null,
            "grid_column": null,
            "overflow_y": null,
            "overflow_x": null,
            "grid_auto_flow": null,
            "grid_area": null,
            "grid_template_columns": null,
            "flex": null,
            "_model_name": "LayoutModel",
            "justify_items": null,
            "grid_row": null,
            "max_height": null,
            "align_content": null,
            "visibility": null,
            "align_self": null,
            "height": null,
            "min_height": null,
            "padding": null,
            "grid_auto_rows": null,
            "grid_gap": null,
            "max_width": null,
            "order": null,
            "_view_module_version": "1.2.0",
            "grid_template_areas": null,
            "object_position": null,
            "object_fit": null,
            "grid_auto_columns": null,
            "margin": null,
            "display": null,
            "left": null
          }
        },
        "4a7e528952464d7fae478a22c24cad91": {
          "model_module": "@jupyter-widgets/controls",
          "model_name": "VBoxModel",
          "state": {
            "_view_name": "VBoxView",
            "_dom_classes": [
              "widget-interact"
            ],
            "_model_name": "VBoxModel",
            "_view_module": "@jupyter-widgets/controls",
            "_model_module_version": "1.5.0",
            "_view_count": null,
            "_view_module_version": "1.5.0",
            "box_style": "",
            "layout": "IPY_MODEL_b530045d861d452daf419ecb6651077f",
            "_model_module": "@jupyter-widgets/controls",
            "children": [
              "IPY_MODEL_db7127cb413c4f9baa327008cdb69fdc",
              "IPY_MODEL_937e7ac451124887abd558901a16ec45",
              "IPY_MODEL_57a4d8e864eb45fda2b1dd5517ded9ac"
            ]
          }
        },
        "b530045d861d452daf419ecb6651077f": {
          "model_module": "@jupyter-widgets/base",
          "model_name": "LayoutModel",
          "state": {
            "_view_name": "LayoutView",
            "grid_template_rows": null,
            "right": null,
            "justify_content": null,
            "_view_module": "@jupyter-widgets/base",
            "overflow": null,
            "_model_module_version": "1.2.0",
            "_view_count": null,
            "flex_flow": null,
            "width": null,
            "min_width": null,
            "border": null,
            "align_items": null,
            "bottom": null,
            "_model_module": "@jupyter-widgets/base",
            "top": null,
            "grid_column": null,
            "overflow_y": null,
            "overflow_x": null,
            "grid_auto_flow": null,
            "grid_area": null,
            "grid_template_columns": null,
            "flex": null,
            "_model_name": "LayoutModel",
            "justify_items": null,
            "grid_row": null,
            "max_height": null,
            "align_content": null,
            "visibility": null,
            "align_self": null,
            "height": "250px",
            "min_height": null,
            "padding": null,
            "grid_auto_rows": null,
            "grid_gap": null,
            "max_width": null,
            "order": null,
            "_view_module_version": "1.2.0",
            "grid_template_areas": null,
            "object_position": null,
            "object_fit": null,
            "grid_auto_columns": null,
            "margin": null,
            "display": null,
            "left": null
          }
        },
        "db7127cb413c4f9baa327008cdb69fdc": {
          "model_module": "@jupyter-widgets/controls",
          "model_name": "TextModel",
          "state": {
            "_view_name": "TextView",
            "style": "IPY_MODEL_8c7d2e55ac9f4c92badf02d48918c9eb",
            "_dom_classes": [],
            "description": "subtitle",
            "_model_name": "TextModel",
            "placeholder": "​",
            "_view_module": "@jupyter-widgets/controls",
            "_model_module_version": "1.5.0",
            "value": "cn_SCT_new",
            "_view_count": null,
            "disabled": false,
            "_view_module_version": "1.5.0",
            "continuous_update": true,
            "description_tooltip": null,
            "_model_module": "@jupyter-widgets/controls",
            "layout": "IPY_MODEL_8a2c89cc2ed14695805a4fd336f1ac5d"
          }
        },
        "937e7ac451124887abd558901a16ec45": {
          "model_module": "@jupyter-widgets/controls",
          "model_name": "ButtonModel",
          "state": {
            "_view_name": "ButtonView",
            "style": "IPY_MODEL_8b636f8c318c46ac9554efffa045afc1",
            "_dom_classes": [],
            "description": "Stories/Endings to file",
            "_model_name": "ButtonModel",
            "button_style": "",
            "_view_module": "@jupyter-widgets/controls",
            "_model_module_version": "1.5.0",
            "tooltip": "",
            "_view_count": null,
            "disabled": false,
            "_view_module_version": "1.5.0",
            "layout": "IPY_MODEL_8a10dc6ee49b4d3c89f21c36910aba80",
            "_model_module": "@jupyter-widgets/controls",
            "icon": ""
          }
        },
        "57a4d8e864eb45fda2b1dd5517ded9ac": {
          "model_module": "@jupyter-widgets/output",
          "model_name": "OutputModel",
          "state": {
            "_view_name": "OutputView",
            "msg_id": "",
            "_dom_classes": [],
            "_model_name": "OutputModel",
            "outputs": [],
            "_view_module": "@jupyter-widgets/output",
            "_model_module_version": "1.0.0",
            "_view_count": null,
            "_view_module_version": "1.0.0",
            "layout": "IPY_MODEL_11352557e30744e481243e247b3dc070",
            "_model_module": "@jupyter-widgets/output"
          }
        },
        "8c7d2e55ac9f4c92badf02d48918c9eb": {
          "model_module": "@jupyter-widgets/controls",
          "model_name": "DescriptionStyleModel",
          "state": {
            "_view_name": "StyleView",
            "_model_name": "DescriptionStyleModel",
            "description_width": "",
            "_view_module": "@jupyter-widgets/base",
            "_model_module_version": "1.5.0",
            "_view_count": null,
            "_view_module_version": "1.2.0",
            "_model_module": "@jupyter-widgets/controls"
          }
        },
        "8a2c89cc2ed14695805a4fd336f1ac5d": {
          "model_module": "@jupyter-widgets/base",
          "model_name": "LayoutModel",
          "state": {
            "_view_name": "LayoutView",
            "grid_template_rows": null,
            "right": null,
            "justify_content": null,
            "_view_module": "@jupyter-widgets/base",
            "overflow": null,
            "_model_module_version": "1.2.0",
            "_view_count": null,
            "flex_flow": null,
            "width": null,
            "min_width": null,
            "border": null,
            "align_items": null,
            "bottom": null,
            "_model_module": "@jupyter-widgets/base",
            "top": null,
            "grid_column": null,
            "overflow_y": null,
            "overflow_x": null,
            "grid_auto_flow": null,
            "grid_area": null,
            "grid_template_columns": null,
            "flex": null,
            "_model_name": "LayoutModel",
            "justify_items": null,
            "grid_row": null,
            "max_height": null,
            "align_content": null,
            "visibility": null,
            "align_self": null,
            "height": null,
            "min_height": null,
            "padding": null,
            "grid_auto_rows": null,
            "grid_gap": null,
            "max_width": null,
            "order": null,
            "_view_module_version": "1.2.0",
            "grid_template_areas": null,
            "object_position": null,
            "object_fit": null,
            "grid_auto_columns": null,
            "margin": null,
            "display": null,
            "left": null
          }
        },
        "8b636f8c318c46ac9554efffa045afc1": {
          "model_module": "@jupyter-widgets/controls",
          "model_name": "ButtonStyleModel",
          "state": {
            "_view_name": "StyleView",
            "_model_name": "ButtonStyleModel",
            "_view_module": "@jupyter-widgets/base",
            "_model_module_version": "1.5.0",
            "_view_count": null,
            "button_color": null,
            "font_weight": "",
            "_view_module_version": "1.2.0",
            "_model_module": "@jupyter-widgets/controls"
          }
        },
        "8a10dc6ee49b4d3c89f21c36910aba80": {
          "model_module": "@jupyter-widgets/base",
          "model_name": "LayoutModel",
          "state": {
            "_view_name": "LayoutView",
            "grid_template_rows": null,
            "right": null,
            "justify_content": null,
            "_view_module": "@jupyter-widgets/base",
            "overflow": null,
            "_model_module_version": "1.2.0",
            "_view_count": null,
            "flex_flow": null,
            "width": null,
            "min_width": null,
            "border": null,
            "align_items": null,
            "bottom": null,
            "_model_module": "@jupyter-widgets/base",
            "top": null,
            "grid_column": null,
            "overflow_y": null,
            "overflow_x": null,
            "grid_auto_flow": null,
            "grid_area": null,
            "grid_template_columns": null,
            "flex": null,
            "_model_name": "LayoutModel",
            "justify_items": null,
            "grid_row": null,
            "max_height": null,
            "align_content": null,
            "visibility": null,
            "align_self": null,
            "height": null,
            "min_height": null,
            "padding": null,
            "grid_auto_rows": null,
            "grid_gap": null,
            "max_width": null,
            "order": null,
            "_view_module_version": "1.2.0",
            "grid_template_areas": null,
            "object_position": null,
            "object_fit": null,
            "grid_auto_columns": null,
            "margin": null,
            "display": null,
            "left": null
          }
        },
        "11352557e30744e481243e247b3dc070": {
          "model_module": "@jupyter-widgets/base",
          "model_name": "LayoutModel",
          "state": {
            "_view_name": "LayoutView",
            "grid_template_rows": null,
            "right": null,
            "justify_content": null,
            "_view_module": "@jupyter-widgets/base",
            "overflow": null,
            "_model_module_version": "1.2.0",
            "_view_count": null,
            "flex_flow": null,
            "width": null,
            "min_width": null,
            "border": null,
            "align_items": null,
            "bottom": null,
            "_model_module": "@jupyter-widgets/base",
            "top": null,
            "grid_column": null,
            "overflow_y": null,
            "overflow_x": null,
            "grid_auto_flow": null,
            "grid_area": null,
            "grid_template_columns": null,
            "flex": null,
            "_model_name": "LayoutModel",
            "justify_items": null,
            "grid_row": null,
            "max_height": null,
            "align_content": null,
            "visibility": null,
            "align_self": null,
            "height": null,
            "min_height": null,
            "padding": null,
            "grid_auto_rows": null,
            "grid_gap": null,
            "max_width": null,
            "order": null,
            "_view_module_version": "1.2.0",
            "grid_template_areas": null,
            "object_position": null,
            "object_fit": null,
            "grid_auto_columns": null,
            "margin": null,
            "display": null,
            "left": null
          }
        },
        "bc46c8dc83bd426594f65faa7e1049b2": {
          "model_module": "@jupyter-widgets/controls",
          "model_name": "VBoxModel",
          "state": {
            "_view_name": "VBoxView",
            "_dom_classes": [
              "widget-interact"
            ],
            "_model_name": "VBoxModel",
            "_view_module": "@jupyter-widgets/controls",
            "_model_module_version": "1.5.0",
            "_view_count": null,
            "_view_module_version": "1.5.0",
            "box_style": "",
            "layout": "IPY_MODEL_e35cc651e39b4488b292172d3285cf13",
            "_model_module": "@jupyter-widgets/controls",
            "children": [
              "IPY_MODEL_19af9aae2a47412eb26aa3dfc3c2cefa",
              "IPY_MODEL_b6e6d60b468c49b6931e74e67635585a",
              "IPY_MODEL_5d3940f9898e43ae9f0df505241b7d29"
            ]
          }
        },
        "e35cc651e39b4488b292172d3285cf13": {
          "model_module": "@jupyter-widgets/base",
          "model_name": "LayoutModel",
          "state": {
            "_view_name": "LayoutView",
            "grid_template_rows": null,
            "right": null,
            "justify_content": null,
            "_view_module": "@jupyter-widgets/base",
            "overflow": null,
            "_model_module_version": "1.2.0",
            "_view_count": null,
            "flex_flow": null,
            "width": null,
            "min_width": null,
            "border": null,
            "align_items": null,
            "bottom": null,
            "_model_module": "@jupyter-widgets/base",
            "top": null,
            "grid_column": null,
            "overflow_y": null,
            "overflow_x": null,
            "grid_auto_flow": null,
            "grid_area": null,
            "grid_template_columns": null,
            "flex": null,
            "_model_name": "LayoutModel",
            "justify_items": null,
            "grid_row": null,
            "max_height": null,
            "align_content": null,
            "visibility": null,
            "align_self": null,
            "height": null,
            "min_height": null,
            "padding": null,
            "grid_auto_rows": null,
            "grid_gap": null,
            "max_width": null,
            "order": null,
            "_view_module_version": "1.2.0",
            "grid_template_areas": null,
            "object_position": null,
            "object_fit": null,
            "grid_auto_columns": null,
            "margin": null,
            "display": null,
            "left": null
          }
        },
        "19af9aae2a47412eb26aa3dfc3c2cefa": {
          "model_module": "@jupyter-widgets/controls",
          "model_name": "TextModel",
          "state": {
            "_view_name": "TextView",
            "style": "IPY_MODEL_d3b4df2cc7664df985f386f1453a2046",
            "_dom_classes": [],
            "description": "mname",
            "_model_name": "TextModel",
            "placeholder": "​",
            "_view_module": "@jupyter-widgets/controls",
            "_model_module_version": "1.5.0",
            "value": "cn_SCT_new",
            "_view_count": null,
            "disabled": false,
            "_view_module_version": "1.5.0",
            "continuous_update": true,
            "description_tooltip": null,
            "_model_module": "@jupyter-widgets/controls",
            "layout": "IPY_MODEL_a3a78f70487e4eab98a504212e7cc675"
          }
        },
        "b6e6d60b468c49b6931e74e67635585a": {
          "model_module": "@jupyter-widgets/controls",
          "model_name": "ButtonModel",
          "state": {
            "_view_name": "ButtonView",
            "style": "IPY_MODEL_614484ede7724a14a58f63d525639a00",
            "_dom_classes": [],
            "description": "Load results",
            "_model_name": "ButtonModel",
            "button_style": "",
            "_view_module": "@jupyter-widgets/controls",
            "_model_module_version": "1.5.0",
            "tooltip": "",
            "_view_count": null,
            "disabled": false,
            "_view_module_version": "1.5.0",
            "layout": "IPY_MODEL_5355fab543224c2e8df577a37c745fc4",
            "_model_module": "@jupyter-widgets/controls",
            "icon": ""
          }
        },
        "5d3940f9898e43ae9f0df505241b7d29": {
          "model_module": "@jupyter-widgets/output",
          "model_name": "OutputModel",
          "state": {
            "_view_name": "OutputView",
            "msg_id": "",
            "_dom_classes": [],
            "_model_name": "OutputModel",
            "outputs": [],
            "_view_module": "@jupyter-widgets/output",
            "_model_module_version": "1.0.0",
            "_view_count": null,
            "_view_module_version": "1.0.0",
            "layout": "IPY_MODEL_2625ef46cf3a4c5d91261e526e81b7e6",
            "_model_module": "@jupyter-widgets/output"
          }
        },
        "d3b4df2cc7664df985f386f1453a2046": {
          "model_module": "@jupyter-widgets/controls",
          "model_name": "DescriptionStyleModel",
          "state": {
            "_view_name": "StyleView",
            "_model_name": "DescriptionStyleModel",
            "description_width": "",
            "_view_module": "@jupyter-widgets/base",
            "_model_module_version": "1.5.0",
            "_view_count": null,
            "_view_module_version": "1.2.0",
            "_model_module": "@jupyter-widgets/controls"
          }
        },
        "a3a78f70487e4eab98a504212e7cc675": {
          "model_module": "@jupyter-widgets/base",
          "model_name": "LayoutModel",
          "state": {
            "_view_name": "LayoutView",
            "grid_template_rows": null,
            "right": null,
            "justify_content": null,
            "_view_module": "@jupyter-widgets/base",
            "overflow": null,
            "_model_module_version": "1.2.0",
            "_view_count": null,
            "flex_flow": null,
            "width": null,
            "min_width": null,
            "border": null,
            "align_items": null,
            "bottom": null,
            "_model_module": "@jupyter-widgets/base",
            "top": null,
            "grid_column": null,
            "overflow_y": null,
            "overflow_x": null,
            "grid_auto_flow": null,
            "grid_area": null,
            "grid_template_columns": null,
            "flex": null,
            "_model_name": "LayoutModel",
            "justify_items": null,
            "grid_row": null,
            "max_height": null,
            "align_content": null,
            "visibility": null,
            "align_self": null,
            "height": null,
            "min_height": null,
            "padding": null,
            "grid_auto_rows": null,
            "grid_gap": null,
            "max_width": null,
            "order": null,
            "_view_module_version": "1.2.0",
            "grid_template_areas": null,
            "object_position": null,
            "object_fit": null,
            "grid_auto_columns": null,
            "margin": null,
            "display": null,
            "left": null
          }
        },
        "614484ede7724a14a58f63d525639a00": {
          "model_module": "@jupyter-widgets/controls",
          "model_name": "ButtonStyleModel",
          "state": {
            "_view_name": "StyleView",
            "_model_name": "ButtonStyleModel",
            "_view_module": "@jupyter-widgets/base",
            "_model_module_version": "1.5.0",
            "_view_count": null,
            "button_color": null,
            "font_weight": "",
            "_view_module_version": "1.2.0",
            "_model_module": "@jupyter-widgets/controls"
          }
        },
        "5355fab543224c2e8df577a37c745fc4": {
          "model_module": "@jupyter-widgets/base",
          "model_name": "LayoutModel",
          "state": {
            "_view_name": "LayoutView",
            "grid_template_rows": null,
            "right": null,
            "justify_content": null,
            "_view_module": "@jupyter-widgets/base",
            "overflow": null,
            "_model_module_version": "1.2.0",
            "_view_count": null,
            "flex_flow": null,
            "width": null,
            "min_width": null,
            "border": null,
            "align_items": null,
            "bottom": null,
            "_model_module": "@jupyter-widgets/base",
            "top": null,
            "grid_column": null,
            "overflow_y": null,
            "overflow_x": null,
            "grid_auto_flow": null,
            "grid_area": null,
            "grid_template_columns": null,
            "flex": null,
            "_model_name": "LayoutModel",
            "justify_items": null,
            "grid_row": null,
            "max_height": null,
            "align_content": null,
            "visibility": null,
            "align_self": null,
            "height": null,
            "min_height": null,
            "padding": null,
            "grid_auto_rows": null,
            "grid_gap": null,
            "max_width": null,
            "order": null,
            "_view_module_version": "1.2.0",
            "grid_template_areas": null,
            "object_position": null,
            "object_fit": null,
            "grid_auto_columns": null,
            "margin": null,
            "display": null,
            "left": null
          }
        },
        "2625ef46cf3a4c5d91261e526e81b7e6": {
          "model_module": "@jupyter-widgets/base",
          "model_name": "LayoutModel",
          "state": {
            "_view_name": "LayoutView",
            "grid_template_rows": null,
            "right": null,
            "justify_content": null,
            "_view_module": "@jupyter-widgets/base",
            "overflow": null,
            "_model_module_version": "1.2.0",
            "_view_count": null,
            "flex_flow": null,
            "width": null,
            "min_width": null,
            "border": null,
            "align_items": null,
            "bottom": null,
            "_model_module": "@jupyter-widgets/base",
            "top": null,
            "grid_column": null,
            "overflow_y": null,
            "overflow_x": null,
            "grid_auto_flow": null,
            "grid_area": null,
            "grid_template_columns": null,
            "flex": null,
            "_model_name": "LayoutModel",
            "justify_items": null,
            "grid_row": null,
            "max_height": null,
            "align_content": null,
            "visibility": null,
            "align_self": null,
            "height": null,
            "min_height": null,
            "padding": null,
            "grid_auto_rows": null,
            "grid_gap": null,
            "max_width": null,
            "order": null,
            "_view_module_version": "1.2.0",
            "grid_template_areas": null,
            "object_position": null,
            "object_fit": null,
            "grid_auto_columns": null,
            "margin": null,
            "display": null,
            "left": null
          }
        }
      }
    }
  },
  "cells": [
    {
      "cell_type": "markdown",
      "metadata": {
        "id": "U8bcSdwIjzeT",
        "colab_type": "text"
      },
      "source": [
        "# Generation\n",
        "\n",
        "Erik S. McGuire\n",
        "\n",
        "CSC594-810-ADL, Winter 19-20"
      ]
    },
    {
      "cell_type": "markdown",
      "metadata": {
        "id": "1rwNQeY4N6lu",
        "colab_type": "text"
      },
      "source": [
        "---\n",
        "## I. Preliminaries\n",
        " > A. Imports\\*\n",
        "\n",
        " > B. Data\n",
        "\n",
        "---"
      ]
    },
    {
      "cell_type": "markdown",
      "metadata": {
        "id": "WcLlSsA0mLYr",
        "colab_type": "text"
      },
      "source": [
        " *<small>Required.</small>"
      ]
    },
    {
      "cell_type": "markdown",
      "metadata": {
        "id": "M-N_SLK0Us8P",
        "colab_type": "text"
      },
      "source": [
        "### A. Imports\n",
        "* Mount and navigate to Google Drive, import dependencies."
      ]
    },
    {
      "cell_type": "markdown",
      "metadata": {
        "id": "Be3wK8VOmjza",
        "colab_type": "text"
      },
      "source": [
        "* Training in this notebook was mostly done on free tier GPU runtime with standard RAM."
      ]
    },
    {
      "cell_type": "markdown",
      "metadata": {
        "id": "asOUvM7dLsCl",
        "colab_type": "text"
      },
      "source": [
        "> Mount drive if not automatically done when runtime reactivated (can also use sidepanel to the left):"
      ]
    },
    {
      "cell_type": "code",
      "metadata": {
        "id": "NNBggUcwkPb0",
        "colab_type": "code",
        "colab": {}
      },
      "source": [
        "\"\"\"\n",
        "from google.colab import drive\n",
        "drive.mount('/content/drive')\n",
        "\"\"\""
      ],
      "execution_count": null,
      "outputs": []
    },
    {
      "cell_type": "markdown",
      "metadata": {
        "id": "nbkvUF2uLxjF",
        "colab_type": "text"
      },
      "source": [
        "> Install necessary libraries and dependencies:"
      ]
    },
    {
      "cell_type": "code",
      "metadata": {
        "id": "P_hAn_7FFWso",
        "colab_type": "code",
        "colab": {}
      },
      "source": [
        "#Required over !pip install transformers for subclassing model/overriding methods.\n",
        "!git clone https://github.com/huggingface/transformers.git\n",
        "%cd transformers\n",
        "!pip install ."
      ],
      "execution_count": null,
      "outputs": []
    },
    {
      "cell_type": "markdown",
      "metadata": {
        "id": "_yIWgbgMKsJ9",
        "colab_type": "text"
      },
      "source": [
        "> Install HuggingFace Transformers as our main library for training and generation with GPT-2."
      ]
    },
    {
      "cell_type": "code",
      "metadata": {
        "id": "VOj6B65vIWGQ",
        "colab_type": "code",
        "colab": {}
      },
      "source": [
        "%tensorflow_version 2.x\n",
        "from transformers import GPT2Tokenizer, GPT2DoubleHeadsModel, GPT2LMHeadModel, PreTrainedModel"
      ],
      "execution_count": null,
      "outputs": []
    },
    {
      "cell_type": "markdown",
      "metadata": {
        "id": "PnYDPPEDAaSX",
        "colab_type": "text"
      },
      "source": [
        "> Subclass GPT-2 models to overwrite repetition penalty method so that it doesn't penalize punctuation."
      ]
    },
    {
      "cell_type": "code",
      "metadata": {
        "id": "MM0Qf_Gd8vNI",
        "colab_type": "code",
        "colab": {}
      },
      "source": [
        "class GPT2DoubleHeadsModelRP(GPT2DoubleHeadsModel):\n",
        "    def enforce_repetition_penalty_(self, lprobs, batch_size, num_beams, prev_output_tokens, repetition_penalty):\n",
        "        \"\"\"repetition penalty (from CTRL paper https://arxiv.org/abs/1909.05858). \"\"\"\n",
        "        for i in range(batch_size * num_beams):\n",
        "            for previous_token in set(prev_output_tokens[i].tolist()):\n",
        "                if not tokenizer.decode(previous_token) in string.punctuation:\n",
        "                    # if score < 0 then repetition penalty has to multiplied to reduce the previous token probability\n",
        "                    if lprobs[i, previous_token] < 0:\n",
        "                        lprobs[i, previous_token] *= repetition_penalty\n",
        "                    else:\n",
        "                        lprobs[i, previous_token] /= repetition_penalty\n",
        "\n",
        "class GPT2LMHeadModelRP(GPT2LMHeadModel):\n",
        "    def enforce_repetition_penalty_(self, lprobs, batch_size, num_beams, prev_output_tokens, repetition_penalty):\n",
        "        \"\"\"repetition penalty (from CTRL paper https://arxiv.org/abs/1909.05858). \"\"\"\n",
        "        for i in range(batch_size * num_beams):\n",
        "            for previous_token in set(prev_output_tokens[i].tolist()):\n",
        "                if not tokenizer.decode(previous_token) in string.punctuation:\n",
        "                    # if score < 0 then repetition penalty has to multiplied to reduce the previous token probability\n",
        "                    if lprobs[i, previous_token] < 0:\n",
        "                        lprobs[i, previous_token] *= repetition_penalty\n",
        "                    else:\n",
        "                        lprobs[i, previous_token] /= repetition_penalty             "
      ],
      "execution_count": null,
      "outputs": []
    },
    {
      "cell_type": "markdown",
      "metadata": {
        "id": "rUl3VYsGL5A0",
        "colab_type": "text"
      },
      "source": [
        "> Import necessary modules and tools for data manipulation:"
      ]
    },
    {
      "cell_type": "code",
      "metadata": {
        "id": "5CbFHabolS9c",
        "colab_type": "code",
        "colab": {}
      },
      "source": [
        "import string, csv, re, random, logging, torch, io\n",
        "from string import punctuation as punk\n",
        "import matplotlib.pyplot as plt\n",
        "from ipywidgets import *\n",
        "import numpy as np\n",
        "import pandas as pd"
      ],
      "execution_count": null,
      "outputs": []
    },
    {
      "cell_type": "markdown",
      "metadata": {
        "id": "ZDTMP_bTn6Ar",
        "colab_type": "text"
      },
      "source": [
        "> Import and instantiate writer for adding graph of model, inputs to TensorBoard in main generation section."
      ]
    },
    {
      "cell_type": "code",
      "metadata": {
        "id": "1__XggMSgaM3",
        "colab_type": "code",
        "colab": {}
      },
      "source": [
        "try:\n",
        "    from torch.utils.tensorboard import SummaryWriter\n",
        "except ImportError:\n",
        "    from tensorboardX import SummaryWriter"
      ],
      "execution_count": null,
      "outputs": []
    },
    {
      "cell_type": "markdown",
      "metadata": {
        "id": "IXhUVM2ML8Re",
        "colab_type": "text"
      },
      "source": [
        "> When Transformers installed in root, we must navigate to main project folder in mounted My Drive. \n",
        "\n",
        "> Assumes the following structure:\n",
        "<pre>.\n",
        "├── content\n",
        "│   ├──drive                         # Mounted drive folder.\n",
        "│   │   └── My Drive                 # Mounted drive folder.\n",
        "│   │       └── CSC-594-ADL          # Main project folder.\n",
        "│   │           ├── datasets         # ConceptNet and ROCStories.\n",
        "│   │           ├── endings          # Correct and generated endings per model.\n",
        "│   │           ├── evals            # Evaluation results for stories and endings per model.\n",
        "│   │           ├── models           # Pretrained models, tokenizers, vocabulary, etc.\n",
        "│   │           ├── scripts          # Scripts for training and generation.\n",
        "│   │           └── stories          # Combined story bodies and generated endings per model.\n",
        "│   ├── sample_data                  # Default Colab folder.\n",
        "│   └── transformers                 # Installed from HuggingFace.\n",
        "└── ...\n",
        "</pre>"
      ]
    },
    {
      "cell_type": "code",
      "metadata": {
        "id": "VcCeHwyTBkBR",
        "colab_type": "code",
        "colab": {
          "base_uri": "https://localhost:8080/",
          "height": 35
        },
        "outputId": "ce6c8afd-7e6f-4338-caf0-287af07b2ba1"
      },
      "source": [
        "%cd ../drive/My Drive/csc594-ADL"
      ],
      "execution_count": null,
      "outputs": [
        {
          "output_type": "stream",
          "text": [
            "/content/drive/My Drive/csc594-ADL\n"
          ],
          "name": "stdout"
        }
      ]
    },
    {
      "cell_type": "markdown",
      "metadata": {
        "id": "fl3BuYLbnzB-",
        "colab_type": "text"
      },
      "source": [
        "> Load TensorBoard for notebook."
      ]
    },
    {
      "cell_type": "code",
      "metadata": {
        "id": "9Tm1CR_Ras5-",
        "colab_type": "code",
        "colab": {}
      },
      "source": [
        "%load_ext tensorboard"
      ],
      "execution_count": null,
      "outputs": []
    },
    {
      "cell_type": "markdown",
      "metadata": {
        "id": "ONMqDJx_E6qL",
        "colab_type": "text"
      },
      "source": [
        "> Run to display TensorBoard below:"
      ]
    },
    {
      "cell_type": "code",
      "metadata": {
        "id": "dye4d-nucJgz",
        "colab_type": "code",
        "colab": {}
      },
      "source": [
        "%tensorboard --logdir runs"
      ],
      "execution_count": null,
      "outputs": []
    },
    {
      "cell_type": "markdown",
      "metadata": {
        "id": "JkaNzZi5Nzvx",
        "colab_type": "text"
      },
      "source": [
        "---\n",
        "## II. Generation\n",
        "> A. Load data, models.\n",
        "\n",
        "> B. Main generation functions.\n",
        "---"
      ]
    },
    {
      "cell_type": "markdown",
      "metadata": {
        "id": "dZ-1fJjl-OLh",
        "colab_type": "text"
      },
      "source": [
        "![image.png](data:image/png;base64,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)"
      ]
    },
    {
      "cell_type": "markdown",
      "metadata": {
        "id": "6SI8eSUmR11U",
        "colab_type": "text"
      },
      "source": [
        "### A. Load data, models"
      ]
    },
    {
      "cell_type": "markdown",
      "metadata": {
        "id": "7iE3JbmySUj3",
        "colab_type": "text"
      },
      "source": [
        "#### 1) Define functions for loading data, models."
      ]
    },
    {
      "cell_type": "code",
      "metadata": {
        "id": "iQj-N_JbveTU",
        "colab_type": "code",
        "colab": {}
      },
      "source": [
        "# Load vocabulary, weights from pretrained model(s), set evaluation mode and select device.\n",
        "def get_model_gen(mpath: str='', typ: str='2', dev: str='cuda'):\n",
        "    \"\"\"Get subclassed model, tokenizer from pretrained.\"\"\"\n",
        "    logging.basicConfig(level=logging.INFO)\n",
        "    tokenizer = GPT2Tokenizer.from_pretrained(mpath)\n",
        "    if typ == \"2\":\n",
        "        model = GPT2DoubleHeadsModelRP.from_pretrained(mpath, \n",
        "                                                       output_attentions=True)\n",
        "    else:\n",
        "        model = GPT2LMHeadModelRP.from_pretrained(mpath)\n",
        "    model.eval() # deactivate dropout for reproducibility\n",
        "    model.to(dev)\n",
        "    return tokenizer, model\n",
        "\n",
        "# For loading and processing ROCStories data file for generation prompts.\n",
        "def load_rocstories_dataset(dataset_path: str) -> list:\n",
        "    \"\"\"Output story, ending w/ special tokens.\"\"\"\n",
        "    sop = \"_start_\"\n",
        "    eop = \"_delimiter_\"\n",
        "    roc_df = pd.read_csv(dataset_path, sep=',', usecols=[2, 3, 4, 5, 6])\n",
        "    df_endings = roc_df.sentence5\n",
        "    df_stories = roc_df.loc[:, :'sentence4'].copy()\n",
        "    story_bodies = df_stories.sentence1 + \" \" + df_stories.sentence2 + \" \" + df_stories.sentence3 + \" \" + df_stories.sentence4\n",
        "    df_stories.sentence1 = sop + df_stories.sentence1\n",
        "    df_stories.sentence4 = df_stories.sentence4 + eop\n",
        "    return story_bodies, df_stories, df_endings\n",
        "\n",
        "def model_c(model: str) -> str:\n",
        "    \"\"\"For choosing model via dropdown.\"\"\"\n",
        "    return model\n",
        "\n",
        "def load_res(mname: str) -> list:\n",
        "    \"\"\"Load results as DataFrame.\"\"\"\n",
        "    df = pd.read_csv(f\"stories/seg_results_{mname}.txt\", sep='\\t', error_bad_lines=False)\n",
        "    return df"
      ],
      "execution_count": null,
      "outputs": []
    },
    {
      "cell_type": "markdown",
      "metadata": {
        "id": "SIdokgSmVU8Y",
        "colab_type": "text"
      },
      "source": [
        "#### 2) Choose model, set path for test dataset to use for prompts, correct endings."
      ]
    },
    {
      "cell_type": "code",
      "metadata": {
        "id": "P-DHkeCMipFO",
        "colab_type": "code",
        "colab": {
          "base_uri": "https://localhost:8080/",
          "height": 49,
          "referenced_widgets": [
            "13d2ffb1fa624ef48d65ebb81136eaa8",
            "d233235b202143609c2c3f4d602f7aaa",
            "b497c85799374bd29c0380e22b9080b6",
            "b5958694e3d84a9e8c907aa2a75c07cb",
            "d58c9b29b424470abe91be2c35a28787",
            "a64eb1244f44451cbc78e3cafe59815d",
            "b5758a91751240ddbc212baabda88a13"
          ]
        },
        "outputId": "d518351d-486c-4169-a79b-ad2f24c5368f"
      },
      "source": [
        "model_chooser = interactive(model_c, model=[('Base', 'gpt2'),\n",
        "                                            ('Base to ConceptNet', 'conceptnet'),\n",
        "                                            ('Base to ROC', 'roc1617'),\n",
        "                                            ('Base to SCT', 'b_SCT'),\n",
        "                                            ('Base to SCT to Sentiment', 'b_SCT_sentiment'),\n",
        "                                            ('ConceptNet to SCT', 'cn_SCT'),\n",
        "                                            ('ConceptNet to Sentiment', 'cn_sentiment'),\n",
        "                                            ('CN to SCT to Sentiment', 'cn_SCT_sentiment'),\n",
        "                                            ('CN to Sentiment to SCT', 'cn_sentiment_SCT'),\n",
        "                                            ('ROC to SCT to Sentiment', 'roc1617_SCT_sentiment'),\n",
        "                                            ('ROC to Sentiment to SCT', 'roc1617_sentiment_SCT'),\n",
        "                                            ('ROC to SCT', 'roc1617_SCT')])\n",
        "display(model_chooser)"
      ],
      "execution_count": null,
      "outputs": [
        {
          "output_type": "display_data",
          "data": {
            "application/vnd.jupyter.widget-view+json": {
              "model_id": "13d2ffb1fa624ef48d65ebb81136eaa8",
              "version_minor": 0,
              "version_major": 2
            },
            "text/plain": [
              "interactive(children=(Dropdown(description='model', options=(('Base', 'gpt2'), ('Base to ConceptNet', 'concept…"
            ]
          },
          "metadata": {
            "tags": []
          }
        }
      ]
    },
    {
      "cell_type": "code",
      "metadata": {
        "id": "IHdg9x1Fn_vm",
        "colab_type": "code",
        "colab": {}
      },
      "source": [
        "if model_chooser.result:\n",
        "    mname = model_chooser.result\n",
        "dpath = \"datasets/roc_1617_test.csv\""
      ],
      "execution_count": null,
      "outputs": []
    },
    {
      "cell_type": "markdown",
      "metadata": {
        "id": "ih6_LDZoRP1-",
        "colab_type": "text"
      },
      "source": [
        "#### 3) Run model data loading functions for generation:"
      ]
    },
    {
      "cell_type": "code",
      "metadata": {
        "id": "NCjd3bFlRTT1",
        "colab_type": "code",
        "colab": {}
      },
      "source": [
        "story_bodies, df_stories, df_endings = load_rocstories_dataset(dpath)\n",
        "stories = df_stories.join(df_endings).values.tolist()"
      ],
      "execution_count": null,
      "outputs": []
    },
    {
      "cell_type": "code",
      "metadata": {
        "id": "DWL281mRBlmo",
        "colab_type": "code",
        "colab": {}
      },
      "source": [
        "if mname == 'gpt2': # For running base model.\n",
        "    model_path = mname\n",
        "else:\n",
        "    model_path = f'models/{mname}'\n",
        "tokenizer, model = get_model_gen(model_path)"
      ],
      "execution_count": null,
      "outputs": []
    },
    {
      "cell_type": "markdown",
      "metadata": {
        "id": "DyRBUTxFR6zc",
        "colab_type": "text"
      },
      "source": [
        "### B. Main generation functions"
      ]
    },
    {
      "cell_type": "markdown",
      "metadata": {
        "id": "4ILY-Kv8OcFO",
        "colab_type": "text"
      },
      "source": [
        "#### 1) Define functions to generate, collect results, write to files:"
      ]
    },
    {
      "cell_type": "code",
      "metadata": {
        "id": "jI3diU_LTSzp",
        "colab_type": "code",
        "colab": {}
      },
      "source": [
        "def get_text(prompt, model, tokenizer, add_to_tb, added: bool, mname:str) -> str:\n",
        "    \"\"\"Conditionally generate endings with model.\"\"\"\n",
        "    n = 53\n",
        "    if mname == 'gpt2':\n",
        "        n = 50\n",
        "        prompt = prompt.replace(\"_start_\", \"\") \\\n",
        "                       .replace(\"_delimiter_\", \"\") \\\n",
        "                       .replace(\"_classify_\", \"\")\n",
        "    encoded_prompt = tokenizer.encode(prompt, \n",
        "                                      add_special_tokens=False, \n",
        "                                      return_tensors=\"pt\")\n",
        "    encoded_prompt = encoded_prompt.to(\"cuda\")\n",
        "    with torch.no_grad():\n",
        "        output_sequences = model.generate(\n",
        "            input_ids=encoded_prompt,\n",
        "            min_length=6, # Avoid evaluation errors...\n",
        "            bos_token_id=[tokenizer.bos_token_id, 50258], # _delimiter_\n",
        "            pad_token_id=50256, # |endoftext|\n",
        "            max_length=len(prompt.split(\" \")) + n, # Give room for final sentence of ~30 tokens past input.\n",
        "            temperature=0.7,\n",
        "            eos_token_id=50259, #[50256, 50259, 0, 30, 13], # 50259 _classify_; others: !?.\n",
        "            top_k=20,\n",
        "            top_p=0.9,\n",
        "            repetition_penalty=1.2, # Modified to not punish frequent punctuation.\n",
        "            do_sample=True,\n",
        "            decoder_start_token_id=50258)\n",
        "    if add_to_tb and not added:\n",
        "        with SummaryWriter(comment='GPT2DoubleHeadsModel') as w:\n",
        "            w.add_graph(model, encoded_prompt, verbose=False)\n",
        "            added = True\n",
        "    text = tokenizer.decode(output_sequences[0], \n",
        "                            clean_up_tokenization_spaces=True, \n",
        "                            skip_special_tokens=True)\n",
        "    if not mname == 'gpt2':\n",
        "        text = text.replace(\"_start_\", \"\") \\\n",
        "                   .replace(\"_delimiter_\", \"\") \\\n",
        "                   .replace(\"_classify_\", \"\")\n",
        "    else:\n",
        "        text = text.replace(\"\\n\", \"\")\n",
        "    return text\n",
        "\n",
        "def write_stories(subtitle: str, stories: list, df_endings) -> None:\n",
        "    \"\"\"Write stories and endings to files.\"\"\"\n",
        "    endings = []\n",
        "    df_endings_list = df_endings.values.tolist()\n",
        "    with open(f\"stories/seg_results_{subtitle}.txt\", \"w\") as results_file:\n",
        "        results_file.write(\n",
        "        \"Story\\tCorrectEnding\\tGenEnding\\n\")\n",
        "        for ix, story in enumerate(stories):\n",
        "            story = story.split(\"\\t\")\n",
        "            try:\n",
        "                gen_end = story[2]\n",
        "            except:\n",
        "                gen_end = \"_none_\"\n",
        "            results_file.write(story[0] + \"\\t\" + df_endings_list[ix] + \"\\t\" + gen_end + \"\\n\")\n",
        "            endings.append((df_endings_list[ix], gen_end))\n",
        "    write_endings(subtitle, endings)\n",
        "\n",
        "def write_endings(subtitle: str, endings:list) -> None:\n",
        "    \"\"\"Write generated endings to file.\"\"\"\n",
        "    with open(f\"endings/{subtitle}_gen_ends.txt\", \"w\") as gend_file:        \n",
        "        for ends in endings:\n",
        "            if ends[1].strip() == \"\":\n",
        "                gen_end = \"_none_\"\n",
        "            else:\n",
        "                gen_end = ends[1]\n",
        "            gend_file.write(gen_end + \"\\n\")\n",
        "    with open(f\"endings/{subtitle}_corr_ends.txt\", \"w\") as cend_file:        \n",
        "        for ends in endings:\n",
        "            cend_file.write(ends[0] + \"\\n\")\n",
        "\n",
        "def get_endings(mname: str, \n",
        "                stories: list,\n",
        "                model, tokenizer,\n",
        "                add_to_tb = False, ) -> list:\n",
        "    \"\"\"Use generation function to collect stories+endings.\"\"\"\n",
        "    endings = []\n",
        "    seg_stories = []\n",
        "    added = False\n",
        "    for ix, s in enumerate(stories):\n",
        "        sb = ' '.join(s[:4])\n",
        "        text = get_text(sb, model, tokenizer, add_to_tb, added, mname)\n",
        "        if not mname == 'gpt2':\n",
        "            results = text.split(\"  \")\n",
        "        else: # Stop-gap measure to split off endings sans special tokens. TODO: Use prompt length in get_text instead.\n",
        "            last = s[-2].replace(\"_delimiter_\", \"\")\n",
        "            ix = text.rindex(last)\n",
        "            end = [text[ix+len(last):].lstrip()]\n",
        "            results = [text[:ix+len(last)]] + end\n",
        "        story = results[:-1]\n",
        "        ends = [s[-1], results[-1]] # Correct, Generated endings\n",
        "        endings.append(ends)\n",
        "        story_final = \"\\t\".join(story + ends)\n",
        "        seg_stories.append(story_final)\n",
        "    return seg_stories, endings"
      ],
      "execution_count": null,
      "outputs": []
    },
    {
      "cell_type": "markdown",
      "metadata": {
        "id": "idc-8iAkHHXh",
        "colab_type": "text"
      },
      "source": [
        "#### 2) Get results"
      ]
    },
    {
      "cell_type": "markdown",
      "metadata": {
        "id": "8KArQp7rRbYA",
        "colab_type": "text"
      },
      "source": [
        "Run function to generate results from processed ROCStories:"
      ]
    },
    {
      "cell_type": "code",
      "metadata": {
        "id": "IVBdZfeEQcuH",
        "colab_type": "code",
        "colab": {
          "base_uri": "https://localhost:8080/",
          "height": 81,
          "referenced_widgets": [
            "88de6f5fe07c454faa1de11b51ed905e",
            "e8931f183d8e472c911966e94d0faa43",
            "043121e6b59742ee8321559f4d2142a3",
            "db247d8bd05e423ea19a207462491eb6",
            "7212797b4db14a648e37f13d3a943218",
            "fb0395a89ad54c2eac6d0335397414a1",
            "70c52528f8b34dc68716104f735361d9",
            "86280bc217804a28a8f8624393a01fb1",
            "9eb31cc3f4c24622b6c46bd9373be1c7",
            "448505d9a49c44a9b74d58158a380726"
          ]
        },
        "outputId": "700695f0-cbe5-4201-f54e-428aa3267060"
      },
      "source": [
        "inter_get_ends = interactive(get_endings, {'manual': True, \n",
        "                                           'manual_name': 'Get stories/endings'}, \n",
        "                             mname=fixed(mname),\n",
        "                             stories=fixed(stories), \n",
        "                             model=fixed(model), \n",
        "                             tokenizer=fixed(tokenizer),\n",
        "                             add_to_tb=False) # Add graph to TensorBoard.\n",
        "\n",
        "#inter_get_ends.layout.height = '250px'\n",
        "display(inter_get_ends)"
      ],
      "execution_count": null,
      "outputs": [
        {
          "output_type": "display_data",
          "data": {
            "application/vnd.jupyter.widget-view+json": {
              "model_id": "88de6f5fe07c454faa1de11b51ed905e",
              "version_minor": 0,
              "version_major": 2
            },
            "text/plain": [
              "interactive(children=(Checkbox(value=False, description='add_to_tb'), Button(description='Get stories/endings'…"
            ]
          },
          "metadata": {
            "tags": []
          }
        }
      ]
    },
    {
      "cell_type": "markdown",
      "metadata": {
        "id": "XiHS6QjyV1ox",
        "colab_type": "text"
      },
      "source": [
        "Collect generated stories/endings:"
      ]
    },
    {
      "cell_type": "code",
      "metadata": {
        "id": "po8esGRloA6r",
        "colab_type": "code",
        "colab": {}
      },
      "source": [
        "if inter_get_ends.result:\n",
        "    gen_stories, gen_endings = inter_get_ends.result\n",
        "#pd.DataFrame(gen_endings).head()"
      ],
      "execution_count": null,
      "outputs": []
    },
    {
      "cell_type": "markdown",
      "metadata": {
        "id": "dW1j-Ubqj1XG",
        "colab_type": "text"
      },
      "source": [
        "#### 3) Write endings and stories to file (be careful not to unintentionally overwrite):"
      ]
    },
    {
      "cell_type": "code",
      "metadata": {
        "id": "kKXEfnspZ6yg",
        "colab_type": "code",
        "colab": {
          "base_uri": "https://localhost:8080/",
          "height": 267,
          "referenced_widgets": [
            "4a7e528952464d7fae478a22c24cad91",
            "b530045d861d452daf419ecb6651077f",
            "db7127cb413c4f9baa327008cdb69fdc",
            "937e7ac451124887abd558901a16ec45",
            "57a4d8e864eb45fda2b1dd5517ded9ac",
            "8c7d2e55ac9f4c92badf02d48918c9eb",
            "8a2c89cc2ed14695805a4fd336f1ac5d",
            "8b636f8c318c46ac9554efffa045afc1",
            "8a10dc6ee49b4d3c89f21c36910aba80",
            "11352557e30744e481243e247b3dc070"
          ]
        },
        "outputId": "66c07b04-8156-4287-961f-800049b642ea"
      },
      "source": [
        "inter_stories = interactive(write_stories, {'manual': True, \n",
        "                                            'manual_name': 'Stories/Endings to file'}, \n",
        "                            subtitle=mname, \n",
        "                            stories=fixed(gen_stories), \n",
        "                            df_endings=fixed(df_endings))\n",
        "inter_stories.layout.height = '250px'\n",
        "display(inter_stories)"
      ],
      "execution_count": null,
      "outputs": [
        {
          "output_type": "display_data",
          "data": {
            "application/vnd.jupyter.widget-view+json": {
              "model_id": "4a7e528952464d7fae478a22c24cad91",
              "version_minor": 0,
              "version_major": 2
            },
            "text/plain": [
              "interactive(children=(Text(value='cn_SCT_o', description='subtitle'), Button(description='Stories/Endings to f…"
            ]
          },
          "metadata": {
            "tags": []
          }
        }
      ]
    },
    {
      "cell_type": "markdown",
      "metadata": {
        "id": "-zkqMxNFHCMi",
        "colab_type": "text"
      },
      "source": [
        "#### 4) Load and display results:"
      ]
    },
    {
      "cell_type": "markdown",
      "metadata": {
        "id": "0YvwhWdHj4IF",
        "colab_type": "text"
      },
      "source": [
        "Load, display story results from file:"
      ]
    },
    {
      "cell_type": "code",
      "metadata": {
        "id": "DqlaIfAJmf8x",
        "colab_type": "code",
        "colab": {
          "base_uri": "https://localhost:8080/",
          "height": 81,
          "referenced_widgets": [
            "bc46c8dc83bd426594f65faa7e1049b2",
            "e35cc651e39b4488b292172d3285cf13",
            "19af9aae2a47412eb26aa3dfc3c2cefa",
            "b6e6d60b468c49b6931e74e67635585a",
            "5d3940f9898e43ae9f0df505241b7d29",
            "d3b4df2cc7664df985f386f1453a2046",
            "a3a78f70487e4eab98a504212e7cc675",
            "614484ede7724a14a58f63d525639a00",
            "5355fab543224c2e8df577a37c745fc4",
            "2625ef46cf3a4c5d91261e526e81b7e6"
          ]
        },
        "outputId": "7488c142-0609-4aef-bc24-6f84daf94532"
      },
      "source": [
        "get_res = interactive(load_res, \n",
        "                       {'manual': True, \n",
        "                        'manual_name': 'Load results'}, \n",
        "                       mname=mname)\n",
        "display(get_res)"
      ],
      "execution_count": null,
      "outputs": [
        {
          "output_type": "display_data",
          "data": {
            "application/vnd.jupyter.widget-view+json": {
              "model_id": "bc46c8dc83bd426594f65faa7e1049b2",
              "version_minor": 0,
              "version_major": 2
            },
            "text/plain": [
              "interactive(children=(Text(value='cn_SCT_o', description='mname'), Button(description='Load results', style=Bu…"
            ]
          },
          "metadata": {
            "tags": []
          }
        }
      ]
    },
    {
      "cell_type": "code",
      "metadata": {
        "id": "i_AIcdgyKfkp",
        "colab_type": "code",
        "colab": {}
      },
      "source": [
        "res_df = pd.DataFrame()\n",
        "if get_res:\n",
        "    res_df = get_res.result\n",
        "if not res_df.empty:\n",
        "    display(res_df.head())"
      ],
      "execution_count": null,
      "outputs": []
    },
    {
      "cell_type": "markdown",
      "metadata": {
        "id": "8CwcnD83WGcR",
        "colab_type": "text"
      },
      "source": [
        "Load, display story results from variables:"
      ]
    },
    {
      "cell_type": "code",
      "metadata": {
        "id": "-f_2V8nLWKvf",
        "colab_type": "code",
        "colab": {}
      },
      "source": [
        "res_df = pd.DataFrame(gen_stories)\n",
        "res_df.head()"
      ],
      "execution_count": null,
      "outputs": []
    }
  ]
}