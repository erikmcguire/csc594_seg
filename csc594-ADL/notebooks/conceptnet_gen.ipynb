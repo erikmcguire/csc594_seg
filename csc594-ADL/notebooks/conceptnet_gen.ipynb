{
  "nbformat": 4,
  "nbformat_minor": 0,
  "metadata": {
    "colab": {
      "name": "conceptnet_gen",
      "provenance": [],
      "collapsed_sections": []
    },
    "kernelspec": {
      "name": "python3",
      "display_name": "Python 3"
    },
    "accelerator": "GPU"
  },
  "cells": [
    {
      "cell_type": "markdown",
      "metadata": {
        "id": "tTG5znqtd02g",
        "colab_type": "text"
      },
      "source": [
        "#### CSC594-810, Winter 19-20\n",
        "#### Erik S. McGuire\n",
        "\n",
        "After cloning the repository, I combined the various scripts into a single script, generate_conceptnet.py, to choose sentences representative of ConceptNet relations based on sets of candidates scored by a base GPT-2 model after template/transformation-based generation."
      ]
    },
    {
      "cell_type": "code",
      "metadata": {
        "id": "PlajjpNq8LUb",
        "colab_type": "code",
        "colab": {}
      },
      "source": [
        "!pip3 install pytorch_pretrained_bert"
      ],
      "execution_count": 0,
      "outputs": []
    },
    {
      "cell_type": "code",
      "metadata": {
        "id": "uOKjBUHG-TH6",
        "colab_type": "code",
        "colab": {}
      },
      "source": [
        "!git clone -b development https://github.com/clips/pattern"
      ],
      "execution_count": 0,
      "outputs": []
    },
    {
      "cell_type": "code",
      "metadata": {
        "id": "oXYnljzXELG0",
        "colab_type": "code",
        "colab": {}
      },
      "source": [
        "%cd pattern"
      ],
      "execution_count": 0,
      "outputs": []
    },
    {
      "cell_type": "code",
      "metadata": {
        "id": "lmid5ITYAPHn",
        "colab_type": "code",
        "colab": {}
      },
      "source": [
        "!python setup.py install"
      ],
      "execution_count": 0,
      "outputs": []
    },
    {
      "cell_type": "markdown",
      "metadata": {
        "id": "YSUO76MqeWUV",
        "colab_type": "text"
      },
      "source": [
        "Navigate to main project folder and cloned subfolder."
      ]
    },
    {
      "cell_type": "code",
      "metadata": {
        "id": "WhUFnqpbVREA",
        "colab_type": "code",
        "colab": {}
      },
      "source": [
        "%cd ../drive/My Drive/csc594-ADL"
      ],
      "execution_count": 0,
      "outputs": []
    },
    {
      "cell_type": "code",
      "metadata": {
        "id": "J9fHwTdT75Uk",
        "colab_type": "code",
        "colab": {}
      },
      "source": [
        "!git clone https://github.com/JoshFeldman95/Extracting-CK-from-Large-LM.git"
      ],
      "execution_count": 0,
      "outputs": []
    },
    {
      "cell_type": "code",
      "metadata": {
        "id": "MUMjq9D08Fud",
        "colab_type": "code",
        "colab": {}
      },
      "source": [
        "%cd Extracting-CK-from-Large-LM-master/"
      ],
      "execution_count": 0,
      "outputs": []
    },
    {
      "cell_type": "code",
      "metadata": {
        "id": "vjjseulV79ee",
        "colab_type": "code",
        "colab": {}
      },
      "source": [
        "!python generate_conceptnet.py -cuda"
      ],
      "execution_count": 0,
      "outputs": []
    }
  ]
}